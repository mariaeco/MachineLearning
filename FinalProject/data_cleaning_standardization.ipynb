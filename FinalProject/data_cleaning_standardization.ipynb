{
 "cells": [
  {
   "cell_type": "markdown",
   "id": "63ed927f-f461-426a-ada0-5d75b5d35d03",
   "metadata": {},
   "source": [
    "## 📑 LIMPEZA E PADRONIZAÇÃO DOS DADOS POR ANO\n",
    "\n",
    "Houveram muitas mudanças nos nomes das variáveis ao longo dos anos, assim foi necessário padronizar os nomes, verificar cada ano, ver qual eram as variáveis e criar uma padronização, ao mesmo tempo em que deixamos apenas as variáveis de interesse.\n",
    "\n",
    "\n"
   ]
  },
  {
   "cell_type": "code",
   "execution_count": 38,
   "id": "92c7bbb6-b0ea-4bcb-b15a-062c8fad32af",
   "metadata": {},
   "outputs": [],
   "source": [
    "import pandas as pd\n",
    "import numpy as np"
   ]
  },
  {
   "cell_type": "code",
   "execution_count": 39,
   "id": "b58b3ccd-2a4f-4b75-af62-53645dbe698a",
   "metadata": {},
   "outputs": [
    {
     "name": "stdout",
     "output_type": "stream",
     "text": [
      "Colunas comuns a todos os anos:\n",
      "['CO_MUNICIPIO_ESC', 'CO_UF_ESC', 'NO_MUNICIPIO_ESC', 'NU_ANO', 'NU_INSCRICAO', 'NU_NOTA_COMP1', 'NU_NOTA_COMP2', 'NU_NOTA_COMP3', 'NU_NOTA_COMP4', 'NU_NOTA_COMP5', 'NU_NOTA_REDACAO', 'SG_UF_ESC', 'TP_DEPENDENCIA_ADM_ESC', 'TP_FAIXA_ETARIA', 'TP_LOCALIZACAO_ESC', 'TP_SEXO', 'TP_SIT_FUNC_ESC', 'TP_STATUS_REDACAO', 'TP_ST_CONCLUSAO']\n",
      "\n",
      "Colunas específicas ou diferentes por ano:\n",
      "2003: ['CO_MUNICIPIO_RESIDENCIA', 'CO_PROVA', 'CO_UF_RESIDENCIA', 'IN_QSE', 'NO_MUNICIPIO_RESIDENCIA', 'NU_NOTA_OBJETIVA', 'Q1', 'Q10', 'Q100', 'Q101', 'Q102', 'Q103', 'Q104', 'Q105', 'Q106', 'Q107', 'Q108', 'Q109', 'Q11', 'Q110', 'Q111', 'Q112', 'Q113', 'Q114', 'Q115', 'Q116', 'Q117', 'Q118', 'Q119', 'Q12', 'Q120', 'Q121', 'Q122', 'Q123', 'Q124', 'Q125', 'Q126', 'Q127', 'Q128', 'Q129', 'Q13', 'Q130', 'Q131', 'Q132', 'Q133', 'Q134', 'Q135', 'Q136', 'Q137', 'Q138', 'Q139', 'Q14', 'Q140', 'Q141', 'Q142', 'Q143', 'Q144', 'Q145', 'Q146', 'Q147', 'Q148', 'Q149', 'Q15', 'Q150', 'Q151', 'Q152', 'Q153', 'Q154', 'Q155', 'Q156', 'Q157', 'Q158', 'Q159', 'Q16', 'Q160', 'Q161', 'Q162', 'Q163', 'Q164', 'Q165', 'Q166', 'Q167', 'Q168', 'Q169', 'Q17', 'Q170', 'Q171', 'Q172', 'Q173', 'Q174', 'Q175', 'Q176', 'Q177', 'Q178', 'Q179', 'Q18', 'Q180', 'Q181', 'Q182', 'Q183', 'Q184', 'Q185', 'Q186', 'Q187', 'Q188', 'Q19', 'Q2', 'Q20', 'Q21', 'Q22', 'Q23', 'Q24', 'Q25', 'Q26', 'Q27', 'Q28', 'Q29', 'Q3', 'Q30', 'Q31', 'Q32', 'Q33', 'Q34', 'Q35', 'Q36', 'Q37', 'Q38', 'Q39', 'Q4', 'Q40', 'Q41', 'Q42', 'Q43', 'Q44', 'Q45', 'Q46', 'Q47', 'Q48', 'Q49', 'Q5', 'Q50', 'Q51', 'Q52', 'Q53', 'Q54', 'Q55', 'Q56', 'Q57', 'Q58', 'Q59', 'Q6', 'Q60', 'Q61', 'Q62', 'Q63', 'Q64', 'Q65', 'Q66', 'Q67', 'Q68', 'Q69', 'Q7', 'Q70', 'Q71', 'Q72', 'Q73', 'Q74', 'Q75', 'Q76', 'Q77', 'Q78', 'Q79', 'Q8', 'Q80', 'Q81', 'Q82', 'Q83', 'Q84', 'Q85', 'Q86', 'Q87', 'Q88', 'Q89', 'Q9', 'Q90', 'Q91', 'Q92', 'Q93', 'Q94', 'Q95', 'Q96', 'Q97', 'Q98', 'Q99', 'SG_UF_RESIDENCIA', 'TP_PRESENCA', 'TX_GABARITO_OBJETIVA', 'TX_RESPOSTAS_OBJETIVA', 'VL_PERC_COMP1', 'VL_PERC_COMP2', 'VL_PERC_COMP3', 'VL_PERC_COMP4', 'VL_PERC_COMP5']\n",
      "2004: ['CO_MUNICIPIO_RESIDENCIA', 'CO_PROVA', 'CO_UF_RESIDENCIA', 'IN_QSE', 'NO_MUNICIPIO_RESIDENCIA', 'NU_NOTA_OBJETIVA', 'Q1', 'Q10', 'Q100', 'Q101', 'Q102', 'Q103', 'Q104', 'Q105', 'Q106', 'Q107', 'Q108', 'Q109', 'Q11', 'Q110', 'Q111', 'Q112', 'Q113', 'Q114', 'Q115', 'Q116', 'Q117', 'Q118', 'Q119', 'Q12', 'Q120', 'Q121', 'Q122', 'Q123', 'Q124', 'Q125', 'Q126', 'Q127', 'Q128', 'Q129', 'Q13', 'Q130', 'Q131', 'Q132', 'Q133', 'Q134', 'Q135', 'Q136', 'Q137', 'Q138', 'Q139', 'Q14', 'Q140', 'Q141', 'Q142', 'Q143', 'Q144', 'Q145', 'Q146', 'Q147', 'Q148', 'Q149', 'Q15', 'Q150', 'Q151', 'Q152', 'Q153', 'Q154', 'Q155', 'Q156', 'Q157', 'Q158', 'Q159', 'Q16', 'Q160', 'Q161', 'Q162', 'Q163', 'Q164', 'Q165', 'Q166', 'Q167', 'Q168', 'Q169', 'Q17', 'Q170', 'Q171', 'Q172', 'Q173', 'Q174', 'Q175', 'Q176', 'Q177', 'Q178', 'Q179', 'Q18', 'Q180', 'Q181', 'Q182', 'Q183', 'Q184', 'Q185', 'Q186', 'Q187', 'Q188', 'Q189', 'Q19', 'Q190', 'Q191', 'Q192', 'Q193', 'Q194', 'Q195', 'Q196', 'Q197', 'Q198', 'Q199', 'Q2', 'Q20', 'Q200', 'Q201', 'Q202', 'Q203', 'Q204', 'Q205', 'Q21', 'Q22', 'Q23', 'Q24', 'Q25', 'Q26', 'Q27', 'Q28', 'Q29', 'Q3', 'Q30', 'Q31', 'Q32', 'Q33', 'Q34', 'Q35', 'Q36', 'Q37', 'Q38', 'Q39', 'Q4', 'Q40', 'Q41', 'Q42', 'Q43', 'Q44', 'Q45', 'Q46', 'Q47', 'Q48', 'Q49', 'Q5', 'Q50', 'Q51', 'Q52', 'Q53', 'Q54', 'Q55', 'Q56', 'Q57', 'Q58', 'Q59', 'Q6', 'Q60', 'Q61', 'Q62', 'Q63', 'Q64', 'Q65', 'Q66', 'Q67', 'Q68', 'Q69', 'Q7', 'Q70', 'Q71', 'Q72', 'Q73', 'Q74', 'Q75', 'Q76', 'Q77', 'Q78', 'Q79', 'Q8', 'Q80', 'Q81', 'Q82', 'Q83', 'Q84', 'Q85', 'Q86', 'Q87', 'Q88', 'Q89', 'Q9', 'Q90', 'Q91', 'Q92', 'Q93', 'Q94', 'Q95', 'Q96', 'Q97', 'Q98', 'Q99', 'SG_UF_RESIDENCIA', 'TP_PRESENCA', 'TX_GABARITO_OBJETIVA', 'TX_RESPOSTAS_OBJETIVA', 'VL_PERC_COMP1', 'VL_PERC_COMP2', 'VL_PERC_COMP3', 'VL_PERC_COMP4', 'VL_PERC_COMP5']\n",
      "2005: ['CO_MUNICIPIO_RESIDENCIA', 'CO_PROVA', 'CO_UF_RESIDENCIA', 'IN_QSE', 'NO_MUNICIPIO_RESIDENCIA', 'NU_NOTA_OBJETIVA', 'Q1', 'Q10', 'Q100', 'Q101', 'Q102', 'Q103', 'Q104', 'Q105', 'Q106', 'Q107', 'Q108', 'Q109', 'Q11', 'Q110', 'Q111', 'Q112', 'Q113', 'Q114', 'Q115', 'Q116', 'Q117', 'Q118', 'Q119', 'Q12', 'Q120', 'Q121', 'Q122', 'Q123', 'Q124', 'Q125', 'Q126', 'Q127', 'Q128', 'Q129', 'Q13', 'Q130', 'Q131', 'Q132', 'Q133', 'Q134', 'Q135', 'Q136', 'Q137', 'Q138', 'Q139', 'Q14', 'Q140', 'Q141', 'Q142', 'Q143', 'Q144', 'Q145', 'Q146', 'Q147', 'Q148', 'Q149', 'Q15', 'Q150', 'Q151', 'Q152', 'Q153', 'Q154', 'Q155', 'Q156', 'Q157', 'Q158', 'Q159', 'Q16', 'Q160', 'Q161', 'Q162', 'Q163', 'Q164', 'Q165', 'Q166', 'Q167', 'Q168', 'Q169', 'Q17', 'Q170', 'Q171', 'Q172', 'Q173', 'Q174', 'Q175', 'Q176', 'Q177', 'Q178', 'Q179', 'Q18', 'Q180', 'Q181', 'Q182', 'Q183', 'Q184', 'Q185', 'Q186', 'Q187', 'Q188', 'Q189', 'Q19', 'Q190', 'Q191', 'Q192', 'Q193', 'Q194', 'Q195', 'Q196', 'Q197', 'Q198', 'Q199', 'Q2', 'Q20', 'Q200', 'Q201', 'Q202', 'Q203', 'Q204', 'Q205', 'Q206', 'Q207', 'Q208', 'Q209', 'Q21', 'Q210', 'Q211', 'Q212', 'Q213', 'Q214', 'Q215', 'Q216', 'Q217', 'Q218', 'Q219', 'Q22', 'Q220', 'Q221', 'Q222', 'Q223', 'Q23', 'Q24', 'Q25', 'Q26', 'Q27', 'Q28', 'Q29', 'Q3', 'Q30', 'Q31', 'Q32', 'Q33', 'Q34', 'Q35', 'Q36', 'Q37', 'Q38', 'Q39', 'Q4', 'Q40', 'Q41', 'Q42', 'Q43', 'Q44', 'Q45', 'Q46', 'Q47', 'Q48', 'Q49', 'Q5', 'Q50', 'Q51', 'Q52', 'Q53', 'Q54', 'Q55', 'Q56', 'Q57', 'Q58', 'Q59', 'Q6', 'Q60', 'Q61', 'Q62', 'Q63', 'Q64', 'Q65', 'Q66', 'Q67', 'Q68', 'Q69', 'Q7', 'Q70', 'Q71', 'Q72', 'Q73', 'Q74', 'Q75', 'Q76', 'Q77', 'Q78', 'Q79', 'Q8', 'Q80', 'Q81', 'Q82', 'Q83', 'Q84', 'Q85', 'Q86', 'Q87', 'Q88', 'Q89', 'Q9', 'Q90', 'Q91', 'Q92', 'Q93', 'Q94', 'Q95', 'Q96', 'Q97', 'Q98', 'Q99', 'SG_UF_RESIDENCIA', 'TP_PRESENCA', 'TX_GABARITO_OBJETIVA', 'TX_RESPOSTAS_OBJETIVA', 'VL_PERC_COMP1', 'VL_PERC_COMP2', 'VL_PERC_COMP3', 'VL_PERC_COMP4', 'VL_PERC_COMP5']\n",
      "2006: ['CO_MUNICIPIO_RESIDENCIA', 'CO_PROVA', 'CO_UF_RESIDENCIA', 'IN_QSE', 'NO_MUNICIPIO_RESIDENCIA', 'NU_NOTA_OBJETIVA', 'Q1', 'Q10', 'Q100', 'Q101', 'Q102', 'Q103', 'Q104', 'Q105', 'Q106', 'Q107', 'Q108', 'Q109', 'Q11', 'Q110', 'Q111', 'Q112', 'Q113', 'Q114', 'Q115', 'Q116', 'Q117', 'Q118', 'Q119', 'Q12', 'Q120', 'Q121', 'Q122', 'Q123', 'Q124', 'Q125', 'Q126', 'Q127', 'Q128', 'Q129', 'Q13', 'Q130', 'Q131', 'Q132', 'Q133', 'Q134', 'Q135', 'Q136', 'Q137', 'Q138', 'Q139', 'Q14', 'Q140', 'Q141', 'Q142', 'Q143', 'Q144', 'Q145', 'Q146', 'Q147', 'Q148', 'Q149', 'Q15', 'Q150', 'Q151', 'Q152', 'Q153', 'Q154', 'Q155', 'Q156', 'Q157', 'Q158', 'Q159', 'Q16', 'Q160', 'Q161', 'Q162', 'Q163', 'Q164', 'Q165', 'Q166', 'Q167', 'Q168', 'Q169', 'Q17', 'Q170', 'Q171', 'Q172', 'Q173', 'Q174', 'Q175', 'Q176', 'Q177', 'Q178', 'Q179', 'Q18', 'Q180', 'Q181', 'Q182', 'Q183', 'Q184', 'Q185', 'Q186', 'Q187', 'Q188', 'Q189', 'Q19', 'Q190', 'Q191', 'Q192', 'Q193', 'Q194', 'Q195', 'Q196', 'Q197', 'Q198', 'Q199', 'Q2', 'Q20', 'Q200', 'Q201', 'Q202', 'Q203', 'Q204', 'Q205', 'Q206', 'Q207', 'Q208', 'Q209', 'Q21', 'Q210', 'Q211', 'Q212', 'Q213', 'Q214', 'Q215', 'Q216', 'Q217', 'Q218', 'Q219', 'Q22', 'Q220', 'Q221', 'Q222', 'Q223', 'Q23', 'Q24', 'Q25', 'Q26', 'Q27', 'Q28', 'Q29', 'Q3', 'Q30', 'Q31', 'Q32', 'Q33', 'Q34', 'Q35', 'Q36', 'Q37', 'Q38', 'Q39', 'Q4', 'Q40', 'Q41', 'Q42', 'Q43', 'Q44', 'Q45', 'Q46', 'Q47', 'Q48', 'Q49', 'Q5', 'Q50', 'Q51', 'Q52', 'Q53', 'Q54', 'Q55', 'Q56', 'Q57', 'Q58', 'Q59', 'Q6', 'Q60', 'Q61', 'Q62', 'Q63', 'Q64', 'Q65', 'Q66', 'Q67', 'Q68', 'Q69', 'Q7', 'Q70', 'Q71', 'Q72', 'Q73', 'Q74', 'Q75', 'Q76', 'Q77', 'Q78', 'Q79', 'Q8', 'Q80', 'Q81', 'Q82', 'Q83', 'Q84', 'Q85', 'Q86', 'Q87', 'Q88', 'Q89', 'Q9', 'Q90', 'Q91', 'Q92', 'Q93', 'Q94', 'Q95', 'Q96', 'Q97', 'Q98', 'Q99', 'SG_UF_RESIDENCIA', 'TP_ENSINO', 'TP_PRESENCA', 'TX_GABARITO_OBJETIVA', 'TX_RESPOSTAS_OBJETIVA', 'VL_PERC_COMP1', 'VL_PERC_COMP2', 'VL_PERC_COMP3', 'VL_PERC_COMP4', 'VL_PERC_COMP5']\n",
      "2007: ['CO_MUNICIPIO_RESIDENCIA', 'CO_PROVA', 'CO_UF_RESIDENCIA', 'IN_QSE', 'NO_MUNICIPIO_RESIDENCIA', 'NU_NOTA_OBJETIVA', 'Q1', 'Q10', 'Q100', 'Q101', 'Q102', 'Q103', 'Q104', 'Q105', 'Q106', 'Q107', 'Q108', 'Q109', 'Q11', 'Q110', 'Q111', 'Q112', 'Q113', 'Q114', 'Q115', 'Q116', 'Q117', 'Q118', 'Q119', 'Q12', 'Q120', 'Q121', 'Q122', 'Q123', 'Q124', 'Q125', 'Q126', 'Q127', 'Q128', 'Q129', 'Q13', 'Q130', 'Q131', 'Q132', 'Q133', 'Q134', 'Q135', 'Q136', 'Q137', 'Q138', 'Q139', 'Q14', 'Q140', 'Q141', 'Q142', 'Q143', 'Q144', 'Q145', 'Q146', 'Q147', 'Q148', 'Q149', 'Q15', 'Q150', 'Q151', 'Q152', 'Q153', 'Q154', 'Q155', 'Q156', 'Q157', 'Q158', 'Q159', 'Q16', 'Q160', 'Q161', 'Q162', 'Q163', 'Q164', 'Q165', 'Q166', 'Q167', 'Q168', 'Q169', 'Q17', 'Q170', 'Q171', 'Q172', 'Q173', 'Q174', 'Q175', 'Q176', 'Q177', 'Q178', 'Q179', 'Q18', 'Q180', 'Q181', 'Q182', 'Q183', 'Q184', 'Q185', 'Q186', 'Q187', 'Q188', 'Q189', 'Q19', 'Q190', 'Q191', 'Q192', 'Q193', 'Q194', 'Q195', 'Q196', 'Q197', 'Q198', 'Q199', 'Q2', 'Q20', 'Q200', 'Q201', 'Q202', 'Q203', 'Q204', 'Q205', 'Q206', 'Q207', 'Q208', 'Q209', 'Q21', 'Q210', 'Q211', 'Q212', 'Q213', 'Q214', 'Q215', 'Q216', 'Q217', 'Q218', 'Q219', 'Q22', 'Q220', 'Q221', 'Q222', 'Q223', 'Q23', 'Q24', 'Q25', 'Q26', 'Q27', 'Q28', 'Q29', 'Q3', 'Q30', 'Q31', 'Q32', 'Q33', 'Q34', 'Q35', 'Q36', 'Q37', 'Q38', 'Q39', 'Q4', 'Q40', 'Q41', 'Q42', 'Q43', 'Q44', 'Q45', 'Q46', 'Q47', 'Q48', 'Q49', 'Q5', 'Q50', 'Q51', 'Q52', 'Q53', 'Q54', 'Q55', 'Q56', 'Q57', 'Q58', 'Q59', 'Q6', 'Q60', 'Q61', 'Q62', 'Q63', 'Q64', 'Q65', 'Q66', 'Q67', 'Q68', 'Q69', 'Q7', 'Q70', 'Q71', 'Q72', 'Q73', 'Q74', 'Q75', 'Q76', 'Q77', 'Q78', 'Q79', 'Q8', 'Q80', 'Q81', 'Q82', 'Q83', 'Q84', 'Q85', 'Q86', 'Q87', 'Q88', 'Q89', 'Q9', 'Q90', 'Q91', 'Q92', 'Q93', 'Q94', 'Q95', 'Q96', 'Q97', 'Q98', 'Q99', 'SG_UF_RESIDENCIA', 'TP_ENSINO', 'TP_PRESENCA', 'TX_GABARITO_OBJETIVA', 'TX_RESPOSTAS_OBJETIVA', 'VL_PERC_COMP1', 'VL_PERC_COMP2', 'VL_PERC_COMP3', 'VL_PERC_COMP4', 'VL_PERC_COMP5']\n",
      "2008: ['CO_MUNICIPIO_PROVA', 'CO_PROVA', 'CO_UF_PROVA', 'IN_QSE', 'NO_MUNICIPIO_PROVA', 'NU_NOTA_OBJETIVA', 'Q1', 'Q10', 'Q100', 'Q101', 'Q102', 'Q103', 'Q104', 'Q105', 'Q106', 'Q107', 'Q108', 'Q109', 'Q11', 'Q110', 'Q111', 'Q112', 'Q113', 'Q114', 'Q115', 'Q116', 'Q117', 'Q118', 'Q119', 'Q12', 'Q120', 'Q121', 'Q122', 'Q123', 'Q124', 'Q125', 'Q126', 'Q127', 'Q128', 'Q129', 'Q13', 'Q130', 'Q131', 'Q132', 'Q133', 'Q134', 'Q135', 'Q136', 'Q137', 'Q138', 'Q139', 'Q14', 'Q140', 'Q141', 'Q142', 'Q143', 'Q144', 'Q145', 'Q146', 'Q147', 'Q148', 'Q149', 'Q15', 'Q150', 'Q151', 'Q152', 'Q153', 'Q154', 'Q155', 'Q156', 'Q157', 'Q158', 'Q159', 'Q16', 'Q160', 'Q161', 'Q162', 'Q163', 'Q164', 'Q165', 'Q166', 'Q167', 'Q168', 'Q169', 'Q17', 'Q170', 'Q171', 'Q172', 'Q173', 'Q174', 'Q175', 'Q176', 'Q177', 'Q178', 'Q179', 'Q18', 'Q180', 'Q181', 'Q182', 'Q183', 'Q184', 'Q185', 'Q186', 'Q187', 'Q188', 'Q189', 'Q19', 'Q190', 'Q191', 'Q192', 'Q193', 'Q194', 'Q195', 'Q196', 'Q197', 'Q198', 'Q199', 'Q2', 'Q20', 'Q200', 'Q201', 'Q202', 'Q203', 'Q204', 'Q205', 'Q206', 'Q207', 'Q208', 'Q209', 'Q21', 'Q210', 'Q211', 'Q212', 'Q213', 'Q214', 'Q215', 'Q216', 'Q217', 'Q218', 'Q219', 'Q22', 'Q220', 'Q221', 'Q222', 'Q223', 'Q23', 'Q24', 'Q25', 'Q26', 'Q27', 'Q28', 'Q29', 'Q3', 'Q30', 'Q31', 'Q32', 'Q33', 'Q34', 'Q35', 'Q36', 'Q37', 'Q38', 'Q39', 'Q4', 'Q40', 'Q41', 'Q42', 'Q43', 'Q44', 'Q45', 'Q46', 'Q47', 'Q48', 'Q49', 'Q5', 'Q50', 'Q51', 'Q52', 'Q53', 'Q54', 'Q55', 'Q56', 'Q57', 'Q58', 'Q59', 'Q6', 'Q60', 'Q61', 'Q62', 'Q63', 'Q64', 'Q65', 'Q66', 'Q67', 'Q68', 'Q69', 'Q7', 'Q70', 'Q71', 'Q72', 'Q73', 'Q74', 'Q75', 'Q76', 'Q77', 'Q78', 'Q79', 'Q8', 'Q80', 'Q81', 'Q82', 'Q83', 'Q84', 'Q85', 'Q86', 'Q87', 'Q88', 'Q89', 'Q9', 'Q90', 'Q91', 'Q92', 'Q93', 'Q94', 'Q95', 'Q96', 'Q97', 'Q98', 'Q99', 'SG_UF_PROVA', 'TP_ENSINO', 'TP_PRESENCA', 'TX_GABARITO_OBJETIVA', 'TX_RESPOSTAS_OBJETIVA', 'VL_PERC_COMP1', 'VL_PERC_COMP2', 'VL_PERC_COMP3', 'VL_PERC_COMP4', 'VL_PERC_COMP5']\n",
      "2009: ['CO_MUNICIPIO_PROVA', 'CO_PROVA_CH', 'CO_PROVA_CN', 'CO_PROVA_LC', 'CO_PROVA_MT', 'CO_UF_PROVA', 'IN_CERTIFICADO', 'IN_QSE', 'NO_MUNICIPIO_PROVA', 'NU_NOTA_CH', 'NU_NOTA_CN', 'NU_NOTA_LC', 'NU_NOTA_MT', 'Q1', 'Q10', 'Q100', 'Q101', 'Q102', 'Q103', 'Q104', 'Q105', 'Q106', 'Q107', 'Q108', 'Q109', 'Q11', 'Q110', 'Q111', 'Q112', 'Q113', 'Q114', 'Q115', 'Q116', 'Q117', 'Q118', 'Q119', 'Q12', 'Q120', 'Q121', 'Q122', 'Q123', 'Q124', 'Q125', 'Q126', 'Q127', 'Q128', 'Q129', 'Q13', 'Q130', 'Q131', 'Q132', 'Q133', 'Q134', 'Q135', 'Q136', 'Q137', 'Q138', 'Q139', 'Q14', 'Q140', 'Q141', 'Q142', 'Q143', 'Q144', 'Q145', 'Q146', 'Q147', 'Q148', 'Q149', 'Q15', 'Q150', 'Q151', 'Q152', 'Q153', 'Q154', 'Q155', 'Q156', 'Q157', 'Q158', 'Q159', 'Q16', 'Q160', 'Q161', 'Q162', 'Q163', 'Q164', 'Q165', 'Q166', 'Q167', 'Q168', 'Q169', 'Q17', 'Q170', 'Q171', 'Q172', 'Q173', 'Q174', 'Q175', 'Q176', 'Q177', 'Q178', 'Q179', 'Q18', 'Q180', 'Q181', 'Q182', 'Q183', 'Q184', 'Q185', 'Q186', 'Q187', 'Q188', 'Q189', 'Q19', 'Q190', 'Q191', 'Q192', 'Q193', 'Q194', 'Q195', 'Q196', 'Q197', 'Q198', 'Q199', 'Q2', 'Q20', 'Q200', 'Q201', 'Q202', 'Q203', 'Q204', 'Q205', 'Q206', 'Q207', 'Q208', 'Q209', 'Q21', 'Q210', 'Q211', 'Q212', 'Q213', 'Q214', 'Q215', 'Q216', 'Q217', 'Q218', 'Q219', 'Q22', 'Q220', 'Q221', 'Q222', 'Q223', 'Q224', 'Q225', 'Q226', 'Q227', 'Q228', 'Q229', 'Q23', 'Q230', 'Q231', 'Q232', 'Q233', 'Q234', 'Q235', 'Q236', 'Q237', 'Q238', 'Q239', 'Q24', 'Q240', 'Q241', 'Q242', 'Q243', 'Q244', 'Q245', 'Q246', 'Q247', 'Q248', 'Q249', 'Q25', 'Q250', 'Q251', 'Q252', 'Q253', 'Q254', 'Q255', 'Q256', 'Q257', 'Q258', 'Q259', 'Q26', 'Q260', 'Q261', 'Q262', 'Q263', 'Q264', 'Q265', 'Q266', 'Q267', 'Q268', 'Q269', 'Q27', 'Q270', 'Q271', 'Q272', 'Q273', 'Q274', 'Q275', 'Q276', 'Q277', 'Q278', 'Q279', 'Q28', 'Q280', 'Q281', 'Q282', 'Q283', 'Q284', 'Q285', 'Q286', 'Q287', 'Q288', 'Q289', 'Q29', 'Q290', 'Q291', 'Q292', 'Q293', 'Q3', 'Q30', 'Q31', 'Q32', 'Q33', 'Q34', 'Q35', 'Q36', 'Q37', 'Q38', 'Q39', 'Q4', 'Q40', 'Q41', 'Q42', 'Q43', 'Q44', 'Q45', 'Q46', 'Q47', 'Q48', 'Q49', 'Q5', 'Q50', 'Q51', 'Q52', 'Q53', 'Q54', 'Q55', 'Q56', 'Q57', 'Q58', 'Q59', 'Q6', 'Q60', 'Q61', 'Q62', 'Q63', 'Q64', 'Q65', 'Q66', 'Q67', 'Q68', 'Q69', 'Q7', 'Q70', 'Q71', 'Q72', 'Q73', 'Q74', 'Q75', 'Q76', 'Q77', 'Q78', 'Q79', 'Q8', 'Q80', 'Q81', 'Q82', 'Q83', 'Q84', 'Q85', 'Q86', 'Q87', 'Q88', 'Q89', 'Q9', 'Q90', 'Q91', 'Q92', 'Q93', 'Q94', 'Q95', 'Q96', 'Q97', 'Q98', 'Q99', 'SG_UF_PROVA', 'TP_ENSINO', 'TP_PRESENCA_CH', 'TP_PRESENCA_CN', 'TP_PRESENCA_LC', 'TP_PRESENCA_MT', 'TX_GABARITO_CH', 'TX_GABARITO_CN', 'TX_GABARITO_LC', 'TX_GABARITO_MT', 'TX_RESPOSTAS_CH', 'TX_RESPOSTAS_CN', 'TX_RESPOSTAS_LC', 'TX_RESPOSTAS_MT']\n",
      "2010: ['CO_MUNICIPIO_PROVA', 'CO_PROVA_CH', 'CO_PROVA_CN', 'CO_PROVA_LC', 'CO_PROVA_MT', 'CO_UF_PROVA', 'IN_CERTIFICADO', 'NO_MUNICIPIO_PROVA', 'NU_NOTA_CH', 'NU_NOTA_CN', 'NU_NOTA_LC', 'NU_NOTA_MT', 'Q01', 'Q02', 'Q03', 'Q04', 'Q05', 'Q06', 'Q07', 'Q08', 'Q09', 'Q10', 'Q11', 'Q12', 'Q13', 'Q14', 'Q15', 'Q16', 'Q17', 'Q18', 'Q19', 'Q20', 'Q21', 'Q22', 'Q23', 'Q24', 'Q25', 'Q26', 'Q27', 'Q28', 'Q29', 'Q30', 'Q31', 'Q32', 'Q33', 'Q34', 'Q35', 'Q36', 'Q37', 'Q38', 'Q39', 'Q40', 'Q41', 'Q42', 'Q43', 'Q44', 'Q45', 'Q46', 'Q47', 'Q48', 'Q49', 'Q50', 'Q51', 'Q52', 'Q53', 'Q54', 'Q55', 'Q56', 'Q57', 'SG_UF_PROVA', 'TP_COR_RACA', 'TP_ENSINO', 'TP_ESTADO_CIVIL', 'TP_LINGUA', 'TP_PRESENCA_CH', 'TP_PRESENCA_CN', 'TP_PRESENCA_LC', 'TP_PRESENCA_MT', 'TX_GABARITO_CH', 'TX_GABARITO_CN', 'TX_GABARITO_LC', 'TX_GABARITO_MT', 'TX_RESPOSTAS_CH', 'TX_RESPOSTAS_CN', 'TX_RESPOSTAS_LC', 'TX_RESPOSTAS_MT']\n",
      "2011: ['CO_MUNICIPIO_PROVA', 'CO_PROVA_CH', 'CO_PROVA_CN', 'CO_PROVA_LC', 'CO_PROVA_MT', 'CO_UF_ENTIDADE_CERTIFICACAO', 'CO_UF_PROVA', 'IN_CERTIFICADO', 'NO_ENTIDADE_CERTIFICACAO', 'NO_MUNICIPIO_PROVA', 'NU_NOTA_CH', 'NU_NOTA_CN', 'NU_NOTA_LC', 'NU_NOTA_MT', 'Q001', 'Q002', 'Q003', 'Q004', 'Q005', 'Q006', 'Q007', 'Q008', 'Q009', 'Q010', 'Q011', 'Q012', 'Q013', 'Q014', 'Q015', 'Q016', 'Q017', 'Q018', 'Q019', 'Q020', 'Q021', 'Q022', 'Q023', 'Q024', 'Q025', 'Q026', 'Q027', 'Q028', 'Q029', 'Q030', 'Q031', 'Q032', 'Q033', 'Q034', 'Q035', 'Q036', 'Q037', 'Q038', 'Q039', 'Q040', 'Q041', 'Q042', 'Q043', 'Q044', 'Q045', 'Q046', 'Q047', 'Q048', 'Q049', 'Q050', 'Q051', 'Q052', 'Q053', 'Q054', 'Q055', 'Q056', 'Q057', 'Q058', 'Q059', 'Q060', 'Q061', 'Q062', 'Q063', 'Q064', 'Q065', 'Q066', 'Q067', 'Q068', 'Q069', 'Q070', 'Q071', 'Q072', 'Q073', 'Q074', 'Q075', 'SG_UF_ENTIDADE_CERTIFICACAO', 'SG_UF_PROVA', 'TP_ANO_CONCLUIU', 'TP_COR_RACA', 'TP_ENSINO', 'TP_ESCOLA', 'TP_ESTADO_CIVIL', 'TP_LINGUA', 'TP_PRESENCA_CH', 'TP_PRESENCA_CN', 'TP_PRESENCA_LC', 'TP_PRESENCA_MT', 'TX_GABARITO_CH', 'TX_GABARITO_CN', 'TX_GABARITO_LC', 'TX_GABARITO_MT', 'TX_RESPOSTAS_CH', 'TX_RESPOSTAS_CN', 'TX_RESPOSTAS_LC', 'TX_RESPOSTAS_MT']\n",
      "2012: ['CO_MUNICIPIO_PROVA', 'CO_PROVA_CH', 'CO_PROVA_CN', 'CO_PROVA_LC', 'CO_PROVA_MT', 'CO_UF_ENTIDADE_CERTIFICACAO', 'CO_UF_PROVA', 'IN_CERTIFICADO', 'NO_ENTIDADE_CERTIFICACAO', 'NO_MUNICIPIO_PROVA', 'NU_NOTA_CH', 'NU_NOTA_CN', 'NU_NOTA_LC', 'NU_NOTA_MT', 'Q001', 'Q002', 'Q003', 'Q004', 'Q005', 'Q006', 'Q007', 'Q008', 'Q009', 'Q010', 'Q011', 'Q012', 'Q013', 'Q014', 'Q015', 'Q016', 'Q017', 'Q018', 'Q019', 'Q020', 'Q021', 'Q022', 'Q023', 'Q024', 'Q025', 'Q026', 'Q027', 'Q028', 'Q029', 'Q030', 'Q031', 'Q032', 'Q033', 'Q034', 'Q035', 'Q036', 'Q037', 'Q038', 'Q039', 'Q040', 'Q041', 'Q042', 'Q043', 'Q044', 'Q045', 'Q046', 'Q047', 'Q048', 'Q049', 'Q050', 'Q051', 'Q052', 'Q053', 'Q054', 'Q055', 'Q056', 'Q057', 'Q058', 'Q059', 'Q060', 'Q061', 'Q062', 'SG_UF_ENTIDADE_CERTIFICACAO', 'SG_UF_PROVA', 'TP_ANO_CONCLUIU', 'TP_COR_RACA', 'TP_ENSINO', 'TP_ESCOLA', 'TP_ESTADO_CIVIL', 'TP_LINGUA', 'TP_PRESENCA_CH', 'TP_PRESENCA_CN', 'TP_PRESENCA_LC', 'TP_PRESENCA_MT', 'TX_GABARITO_CH', 'TX_GABARITO_CN', 'TX_GABARITO_LC', 'TX_GABARITO_MT', 'TX_RESPOSTAS_CH', 'TX_RESPOSTAS_CN', 'TX_RESPOSTAS_LC', 'TX_RESPOSTAS_MT']\n",
      "2013: ['ANO_CONCLUIU', 'CO_MUNICIPIO_PROVA', 'CO_PROVA_CH', 'CO_PROVA_CN', 'CO_PROVA_LC', 'CO_PROVA_MT', 'CO_UF_ENTIDADE_CERTIFICACAO', 'CO_UF_PROVA', 'IN_CERTIFICADO', 'NO_ENTIDADE_CERTIFICACAO', 'NO_MUNICIPIO_PROVA', 'NU_NOTA_CH', 'NU_NOTA_CN', 'NU_NOTA_LC', 'NU_NOTA_MT', 'Q001', 'Q002', 'Q003', 'Q004', 'Q005', 'Q006', 'Q007', 'Q008', 'Q009', 'Q010', 'Q011', 'Q012', 'Q013', 'Q014', 'Q015', 'Q016', 'Q017', 'Q018', 'Q019', 'Q020', 'Q021', 'Q022', 'Q023', 'Q024', 'Q025', 'Q026', 'Q027', 'Q028', 'Q029', 'Q030', 'Q031', 'Q032', 'Q033', 'Q034', 'Q035', 'Q036', 'Q037', 'Q038', 'Q039', 'Q040', 'Q041', 'Q042', 'Q043', 'Q044', 'Q045', 'Q046', 'Q047', 'Q048', 'Q049', 'Q050', 'Q051', 'Q052', 'Q053', 'Q054', 'Q055', 'Q056', 'Q057', 'Q058', 'Q059', 'Q060', 'Q061', 'Q062', 'Q063', 'Q064', 'Q065', 'Q066', 'Q067', 'Q068', 'Q069', 'Q070', 'Q071', 'Q072', 'Q073', 'Q074', 'Q075', 'Q076', 'SG_UF_ENTIDADE_CERTIFICACAO', 'SG_UF_PROVA', 'TP_COR_RACA', 'TP_ENSINO', 'TP_ESCOLA', 'TP_ESTADO_CIVIL', 'TP_LINGUA', 'TP_NACIONALIDADE', 'TP_PRESENCA_CH', 'TP_PRESENCA_CN', 'TP_PRESENCA_LC', 'TP_PRESENCA_MT', 'TX_GABARITO_CH', 'TX_GABARITO_CN', 'TX_GABARITO_LC', 'TX_GABARITO_MT', 'TX_RESPOSTAS_CH', 'TX_RESPOSTAS_CN', 'TX_RESPOSTAS_LC', 'TX_RESPOSTAS_MT']\n",
      "2014: ['CO_MUNICIPIO_PROVA', 'CO_PROVA_CH', 'CO_PROVA_CN', 'CO_PROVA_LC', 'CO_PROVA_MT', 'CO_UF_ENTIDADE_CERTIFICACAO', 'CO_UF_PROVA', 'IN_CERTIFICADO', 'NO_ENTIDADE_CERTIFICACAO', 'NO_MUNICIPIO_PROVA', 'NU_NOTA_CH', 'NU_NOTA_CN', 'NU_NOTA_LC', 'NU_NOTA_MT', 'Q001', 'Q002', 'Q003', 'Q004', 'Q005', 'Q006', 'Q007', 'Q008', 'Q009', 'Q010', 'Q011', 'Q012', 'Q013', 'Q014', 'Q015', 'Q016', 'Q017', 'Q018', 'Q019', 'Q020', 'Q021', 'Q022', 'Q023', 'Q024', 'Q025', 'Q026', 'Q027', 'Q028', 'Q029', 'Q030', 'Q031', 'Q032', 'Q033', 'Q034', 'Q035', 'Q036', 'Q037', 'Q038', 'Q039', 'Q040', 'Q041', 'Q042', 'Q043', 'Q044', 'Q045', 'Q046', 'Q047', 'Q048', 'Q049', 'Q050', 'Q051', 'Q052', 'Q053', 'Q054', 'Q055', 'Q056', 'Q057', 'Q058', 'Q059', 'Q060', 'Q061', 'Q062', 'Q063', 'Q064', 'Q065', 'Q066', 'Q067', 'Q068', 'Q069', 'Q070', 'Q071', 'Q072', 'Q073', 'Q074', 'Q075', 'Q076', 'SG_UF_ENTIDADE_CERTIFICACAO', 'SG_UF_PROVA', 'TP_ANO_CONCLUIU', 'TP_COR_RACA', 'TP_ENSINO', 'TP_ESCOLA', 'TP_ESTADO_CIVIL', 'TP_LINGUA', 'TP_NACIONALIDADE', 'TP_PRESENCA_CH', 'TP_PRESENCA_CN', 'TP_PRESENCA_LC', 'TP_PRESENCA_MT', 'TX_GABARITO_CH', 'TX_GABARITO_CN', 'TX_GABARITO_LC', 'TX_GABARITO_MT', 'TX_RESPOSTAS_CH', 'TX_RESPOSTAS_CN', 'TX_RESPOSTAS_LC', 'TX_RESPOSTAS_MT']\n",
      "2015: ['CO_MUNICIPIO_PROVA', 'CO_PROVA_CH', 'CO_PROVA_CN', 'CO_PROVA_LC', 'CO_PROVA_MT', 'CO_UF_PROVA', 'IN_TREINEIRO', 'NO_MUNICIPIO_PROVA', 'NU_NOTA_CH', 'NU_NOTA_CN', 'NU_NOTA_LC', 'NU_NOTA_MT', 'Q001', 'Q002', 'Q003', 'Q004', 'Q005', 'Q006', 'Q007', 'Q008', 'Q009', 'Q010', 'Q011', 'Q012', 'Q013', 'Q014', 'Q015', 'Q016', 'Q017', 'Q018', 'Q019', 'Q020', 'Q021', 'Q022', 'Q023', 'Q024', 'Q025', 'SG_UF_PROVA', 'TP_ANO_CONCLUIU', 'TP_COR_RACA', 'TP_ENSINO', 'TP_ESCOLA', 'TP_ESTADO_CIVIL', 'TP_LINGUA', 'TP_NACIONALIDADE', 'TP_PRESENCA_CH', 'TP_PRESENCA_CN', 'TP_PRESENCA_LC', 'TP_PRESENCA_MT', 'TX_GABARITO_CH', 'TX_GABARITO_CN', 'TX_GABARITO_LC', 'TX_GABARITO_MT', 'TX_RESPOSTAS_CH', 'TX_RESPOSTAS_CN', 'TX_RESPOSTAS_LC', 'TX_RESPOSTAS_MT']\n",
      "2016: ['CO_MUNICIPIO_PROVA', 'CO_PROVA_CH', 'CO_PROVA_CN', 'CO_PROVA_LC', 'CO_PROVA_MT', 'CO_UF_PROVA', 'IN_TREINEIRO', 'NO_MUNICIPIO_PROVA', 'NU_NOTA_CH', 'NU_NOTA_CN', 'NU_NOTA_LC', 'NU_NOTA_MT', 'Q001', 'Q002', 'Q003', 'Q004', 'Q005', 'Q006', 'Q007', 'Q008', 'Q009', 'Q010', 'Q011', 'Q012', 'Q013', 'Q014', 'Q015', 'Q016', 'Q017', 'Q018', 'Q019', 'Q020', 'Q021', 'Q022', 'Q023', 'Q024', 'Q025', 'SG_UF_PROVA', 'TP_ANO_CONCLUIU', 'TP_COR_RACA', 'TP_ENSINO', 'TP_ESCOLA', 'TP_ESTADO_CIVIL', 'TP_LINGUA', 'TP_NACIONALIDADE', 'TP_PRESENCA_CH', 'TP_PRESENCA_CN', 'TP_PRESENCA_LC', 'TP_PRESENCA_MT', 'TX_GABARITO_CH', 'TX_GABARITO_CN', 'TX_GABARITO_LC', 'TX_GABARITO_MT', 'TX_RESPOSTAS_CH', 'TX_RESPOSTAS_CN', 'TX_RESPOSTAS_LC', 'TX_RESPOSTAS_MT']\n",
      "2017: ['CO_MUNICIPIO_PROVA', 'CO_PROVA_CH', 'CO_PROVA_CN', 'CO_PROVA_LC', 'CO_PROVA_MT', 'CO_UF_PROVA', 'IN_TREINEIRO', 'NO_MUNICIPIO_PROVA', 'NU_NOTA_CH', 'NU_NOTA_CN', 'NU_NOTA_LC', 'NU_NOTA_MT', 'Q001', 'Q002', 'Q003', 'Q004', 'Q005', 'Q006', 'Q007', 'Q008', 'Q009', 'Q010', 'Q011', 'Q012', 'Q013', 'Q014', 'Q015', 'Q016', 'Q017', 'Q018', 'Q019', 'Q020', 'Q021', 'Q022', 'Q023', 'Q024', 'Q025', 'SG_UF_PROVA', 'TP_ANO_CONCLUIU', 'TP_COR_RACA', 'TP_ENSINO', 'TP_ESCOLA', 'TP_ESTADO_CIVIL', 'TP_LINGUA', 'TP_NACIONALIDADE', 'TP_PRESENCA_CH', 'TP_PRESENCA_CN', 'TP_PRESENCA_LC', 'TP_PRESENCA_MT', 'TX_GABARITO_CH', 'TX_GABARITO_CN', 'TX_GABARITO_LC', 'TX_GABARITO_MT', 'TX_RESPOSTAS_CH', 'TX_RESPOSTAS_CN', 'TX_RESPOSTAS_LC', 'TX_RESPOSTAS_MT']\n",
      "2018: ['CO_MUNICIPIO_PROVA', 'CO_PROVA_CH', 'CO_PROVA_CN', 'CO_PROVA_LC', 'CO_PROVA_MT', 'CO_UF_PROVA', 'IN_TREINEIRO', 'NO_MUNICIPIO_PROVA', 'NU_NOTA_CH', 'NU_NOTA_CN', 'NU_NOTA_LC', 'NU_NOTA_MT', 'Q001', 'Q002', 'Q003', 'Q004', 'Q005', 'Q006', 'Q007', 'Q008', 'Q009', 'Q010', 'Q011', 'Q012', 'Q013', 'Q014', 'Q015', 'Q016', 'Q017', 'Q018', 'Q019', 'Q020', 'Q021', 'Q022', 'Q023', 'Q024', 'Q025', 'SG_UF_PROVA', 'TP_ANO_CONCLUIU', 'TP_COR_RACA', 'TP_ENSINO', 'TP_ESCOLA', 'TP_ESTADO_CIVIL', 'TP_LINGUA', 'TP_NACIONALIDADE', 'TP_PRESENCA_CH', 'TP_PRESENCA_CN', 'TP_PRESENCA_LC', 'TP_PRESENCA_MT', 'TX_GABARITO_CH', 'TX_GABARITO_CN', 'TX_GABARITO_LC', 'TX_GABARITO_MT', 'TX_RESPOSTAS_CH', 'TX_RESPOSTAS_CN', 'TX_RESPOSTAS_LC', 'TX_RESPOSTAS_MT']\n",
      "2019: ['CO_MUNICIPIO_PROVA', 'CO_PROVA_CH', 'CO_PROVA_CN', 'CO_PROVA_LC', 'CO_PROVA_MT', 'CO_UF_PROVA', 'IN_TREINEIRO', 'NO_MUNICIPIO_PROVA', 'NU_NOTA_CH', 'NU_NOTA_CN', 'NU_NOTA_LC', 'NU_NOTA_MT', 'Q001', 'Q002', 'Q003', 'Q004', 'Q005', 'Q006', 'Q007', 'Q008', 'Q009', 'Q010', 'Q011', 'Q012', 'Q013', 'Q014', 'Q015', 'Q016', 'Q017', 'Q018', 'Q019', 'Q020', 'Q021', 'Q022', 'Q023', 'Q024', 'Q025', 'SG_UF_PROVA', 'TP_ANO_CONCLUIU', 'TP_COR_RACA', 'TP_ENSINO', 'TP_ESCOLA', 'TP_ESTADO_CIVIL', 'TP_LINGUA', 'TP_NACIONALIDADE', 'TP_PRESENCA_CH', 'TP_PRESENCA_CN', 'TP_PRESENCA_LC', 'TP_PRESENCA_MT', 'TX_GABARITO_CH', 'TX_GABARITO_CN', 'TX_GABARITO_LC', 'TX_GABARITO_MT', 'TX_RESPOSTAS_CH', 'TX_RESPOSTAS_CN', 'TX_RESPOSTAS_LC', 'TX_RESPOSTAS_MT']\n",
      "2020: ['CO_MUNICIPIO_PROVA', 'CO_PROVA_CH', 'CO_PROVA_CN', 'CO_PROVA_LC', 'CO_PROVA_MT', 'CO_UF_PROVA', 'IN_TREINEIRO', 'NO_MUNICIPIO_PROVA', 'NU_NOTA_CH', 'NU_NOTA_CN', 'NU_NOTA_LC', 'NU_NOTA_MT', 'Q001', 'Q002', 'Q003', 'Q004', 'Q005', 'Q006', 'Q007', 'Q008', 'Q009', 'Q010', 'Q011', 'Q012', 'Q013', 'Q014', 'Q015', 'Q016', 'Q017', 'Q018', 'Q019', 'Q020', 'Q021', 'Q022', 'Q023', 'Q024', 'Q025', 'SG_UF_PROVA', 'TP_ANO_CONCLUIU', 'TP_COR_RACA', 'TP_ENSINO', 'TP_ESCOLA', 'TP_ESTADO_CIVIL', 'TP_LINGUA', 'TP_NACIONALIDADE', 'TP_PRESENCA_CH', 'TP_PRESENCA_CN', 'TP_PRESENCA_LC', 'TP_PRESENCA_MT', 'TX_GABARITO_CH', 'TX_GABARITO_CN', 'TX_GABARITO_LC', 'TX_GABARITO_MT', 'TX_RESPOSTAS_CH', 'TX_RESPOSTAS_CN', 'TX_RESPOSTAS_LC', 'TX_RESPOSTAS_MT']\n",
      "2021: ['CO_MUNICIPIO_PROVA', 'CO_PROVA_CH', 'CO_PROVA_CN', 'CO_PROVA_LC', 'CO_PROVA_MT', 'CO_UF_PROVA', 'IN_TREINEIRO', 'NO_MUNICIPIO_PROVA', 'NU_NOTA_CH', 'NU_NOTA_CN', 'NU_NOTA_LC', 'NU_NOTA_MT', 'Q001', 'Q002', 'Q003', 'Q004', 'Q005', 'Q006', 'Q007', 'Q008', 'Q009', 'Q010', 'Q011', 'Q012', 'Q013', 'Q014', 'Q015', 'Q016', 'Q017', 'Q018', 'Q019', 'Q020', 'Q021', 'Q022', 'Q023', 'Q024', 'Q025', 'SG_UF_PROVA', 'TP_ANO_CONCLUIU', 'TP_COR_RACA', 'TP_ENSINO', 'TP_ESCOLA', 'TP_ESTADO_CIVIL', 'TP_LINGUA', 'TP_NACIONALIDADE', 'TP_PRESENCA_CH', 'TP_PRESENCA_CN', 'TP_PRESENCA_LC', 'TP_PRESENCA_MT', 'TX_GABARITO_CH', 'TX_GABARITO_CN', 'TX_GABARITO_LC', 'TX_GABARITO_MT', 'TX_RESPOSTAS_CH', 'TX_RESPOSTAS_CN', 'TX_RESPOSTAS_LC', 'TX_RESPOSTAS_MT']\n",
      "2022: ['CO_MUNICIPIO_PROVA', 'CO_PROVA_CH', 'CO_PROVA_CN', 'CO_PROVA_LC', 'CO_PROVA_MT', 'CO_UF_PROVA', 'IN_TREINEIRO', 'NO_MUNICIPIO_PROVA', 'NU_NOTA_CH', 'NU_NOTA_CN', 'NU_NOTA_LC', 'NU_NOTA_MT', 'Q001', 'Q002', 'Q003', 'Q004', 'Q005', 'Q006', 'Q007', 'Q008', 'Q009', 'Q010', 'Q011', 'Q012', 'Q013', 'Q014', 'Q015', 'Q016', 'Q017', 'Q018', 'Q019', 'Q020', 'Q021', 'Q022', 'Q023', 'Q024', 'Q025', 'SG_UF_PROVA', 'TP_ANO_CONCLUIU', 'TP_COR_RACA', 'TP_ENSINO', 'TP_ESCOLA', 'TP_ESTADO_CIVIL', 'TP_LINGUA', 'TP_NACIONALIDADE', 'TP_PRESENCA_CH', 'TP_PRESENCA_CN', 'TP_PRESENCA_LC', 'TP_PRESENCA_MT', 'TX_GABARITO_CH', 'TX_GABARITO_CN', 'TX_GABARITO_LC', 'TX_GABARITO_MT', 'TX_RESPOSTAS_CH', 'TX_RESPOSTAS_CN', 'TX_RESPOSTAS_LC', 'TX_RESPOSTAS_MT']\n",
      "2023: ['CO_MUNICIPIO_PROVA', 'CO_PROVA_CH', 'CO_PROVA_CN', 'CO_PROVA_LC', 'CO_PROVA_MT', 'CO_UF_PROVA', 'IN_TREINEIRO', 'NO_MUNICIPIO_PROVA', 'NU_NOTA_CH', 'NU_NOTA_CN', 'NU_NOTA_LC', 'NU_NOTA_MT', 'Q001', 'Q002', 'Q003', 'Q004', 'Q005', 'Q006', 'Q007', 'Q008', 'Q009', 'Q010', 'Q011', 'Q012', 'Q013', 'Q014', 'Q015', 'Q016', 'Q017', 'Q018', 'Q019', 'Q020', 'Q021', 'Q022', 'Q023', 'Q024', 'Q025', 'SG_UF_PROVA', 'TP_ANO_CONCLUIU', 'TP_COR_RACA', 'TP_ENSINO', 'TP_ESCOLA', 'TP_ESTADO_CIVIL', 'TP_LINGUA', 'TP_NACIONALIDADE', 'TP_PRESENCA_CH', 'TP_PRESENCA_CN', 'TP_PRESENCA_LC', 'TP_PRESENCA_MT', 'TX_GABARITO_CH', 'TX_GABARITO_CN', 'TX_GABARITO_LC', 'TX_GABARITO_MT', 'TX_RESPOSTAS_CH', 'TX_RESPOSTAS_CN', 'TX_RESPOSTAS_LC', 'TX_RESPOSTAS_MT']\n"
     ]
    }
   ],
   "source": [
    "#VERIFICANDO AS COLUNAS DIFERENTES POR ANO \n",
    "\n",
    "\n",
    "year_list = [str(year) for year in range(2003, 2024)]\n",
    "columns_by_year = {}\n",
    "\n",
    "# Carregar os nomes das colunas de cada ano\n",
    "for year in year_list:\n",
    "    enem_ano = pd.read_csv(f'Data/enem_{year}.csv', sep=',', encoding='ISO-8859-1', nrows=0)\n",
    "    columns_by_year[year] = set(enem_ano.columns)\n",
    "\n",
    "# Agora comparar\n",
    "# Pegar a interseção de todas (colunas que aparecem em todos os anos)\n",
    "common_columns = set.intersection(*columns_by_year.values())\n",
    "\n",
    "# Pegar as diferenças (colunas que mudam)\n",
    "columns_diff = {}\n",
    "\n",
    "for year in year_list:\n",
    "    diff = columns_by_year[year] - common_columns\n",
    "    if diff:\n",
    "        columns_diff[year] = diff\n",
    "\n",
    "# Resultados\n",
    "print(\"Colunas comuns a todos os anos:\")\n",
    "print(sorted(common_columns))\n",
    "\n",
    "print(\"\\nColunas específicas ou diferentes por ano:\")\n",
    "for year, diff in columns_diff.items():\n",
    "    print(f\"{year}: {sorted(diff)}\")"
   ]
  },
  {
   "cell_type": "markdown",
   "id": "81e2f6bf-a252-4c3e-9866-660b6711e076",
   "metadata": {},
   "source": [
    "## 2003-2008"
   ]
  },
  {
   "cell_type": "code",
   "execution_count": 40,
   "id": "2873839c-1003-44cc-a92d-88046b1ffba1",
   "metadata": {},
   "outputs": [
    {
     "name": "stdout",
     "output_type": "stream",
     "text": [
      "STARTING  2003 ------------------------------------------------------------------------------------\n",
      "STARTING  2004 ------------------------------------------------------------------------------------\n",
      "STARTING  2005 ------------------------------------------------------------------------------------\n",
      "STARTING  2006 ------------------------------------------------------------------------------------\n",
      "STARTING  2007 ------------------------------------------------------------------------------------\n",
      "STARTING  2008 ------------------------------------------------------------------------------------\n"
     ]
    }
   ],
   "source": [
    "year_list = [str(year) for year in range(2003, 2009)]\n",
    "\n",
    "selecionadas_ano1 = ['NU_INSCRICAO', 'NU_ANO', 'TP_FAIXA_ETARIA', 'TP_SEXO',\n",
    "        'CO_MUNICIPIO_ESC', 'NO_MUNICIPIO_ESC',\n",
    "       'CO_UF_ESC', 'SG_UF_ESC', 'TP_DEPENDENCIA_ADM_ESC',\n",
    "       'TP_LOCALIZACAO_ESC','TP_PRESENCA',\n",
    "        'NU_NOTA_OBJETIVA', 'TP_STATUS_REDACAO', 'NU_NOTA_COMP1',\n",
    "       'NU_NOTA_COMP2', 'NU_NOTA_COMP3', 'NU_NOTA_COMP4', 'NU_NOTA_COMP5',\n",
    "       'NU_NOTA_REDACAO', 'Q16','Q17','Q14','Q22','Q26','Q31','Q32']\n",
    "\n",
    "selecionadas_ano2 = ['NU_INSCRICAO', 'NU_ANO', 'TP_FAIXA_ETARIA', 'TP_SEXO',\n",
    "       'CO_MUNICIPIO_ESC', 'NO_MUNICIPIO_ESC',\n",
    "       'CO_UF_ESC', 'SG_UF_ESC', 'TP_DEPENDENCIA_ADM_ESC',\n",
    "       'TP_LOCALIZACAO_ESC','TP_PRESENCA',\n",
    "       'NU_NOTA_OBJETIVA', 'TP_STATUS_REDACAO', 'NU_NOTA_COMP1',\n",
    "       'NU_NOTA_COMP2', 'NU_NOTA_COMP3', 'NU_NOTA_COMP4', 'NU_NOTA_COMP5',\n",
    "       'NU_NOTA_REDACAO', 'Q17','Q18','Q15','Q27','Q32','Q33','Q23']\n",
    "\n",
    "for ano in year_list:\n",
    "    print('STARTING ',ano , '------------------------------------------------------------------------------------')\n",
    "\n",
    "    if ano in ['2003','2004']:\n",
    "        enem_ano = pd.read_csv(f'Data/enem_{ano}.csv',sep=',',encoding='ISO-8859-1', usecols=selecionadas_ano1);\n",
    "        enem_ano.rename(columns = {'Q16': 'Q1', \n",
    "                               'Q17':'Q2',\n",
    "                               'Q14':'Q5',\n",
    "                               'Q31':'Q22',\n",
    "                               'Q26':'Q24',\n",
    "                               'Q32':'Q25',\n",
    "                               'Q22':'Q6'}, inplace = True)\n",
    "        \n",
    "    if ano in ['2005','2006', '2007', '2008']:\n",
    "        enem_ano = pd.read_csv(f'Data/enem_{ano}.csv',sep=',',encoding='ISO-8859-1', usecols=selecionadas_ano2);\n",
    "        enem_ano.rename(columns = {'Q17': 'Q1', \n",
    "                           'Q18':'Q2',\n",
    "                           'Q15':'Q5',\n",
    "                           'Q32':'Q22',\n",
    "                           'Q27':'Q24',\n",
    "                           'Q33':'Q25',\n",
    "                           'Q23':'Q6'}, inplace = True)\n",
    "\n",
    "    \n",
    "    enem_ano['NU_NOTA_OBJETIVA']=enem_ano['NU_NOTA_OBJETIVA']*10\n",
    "    enem_ano['NU_NOTA_COMP1']=enem_ano['NU_NOTA_COMP1']*10\n",
    "    enem_ano['NU_NOTA_COMP2']=enem_ano['NU_NOTA_COMP2']*10\n",
    "    enem_ano['NU_NOTA_COMP3']=enem_ano['NU_NOTA_COMP3']*10\n",
    "    enem_ano['NU_NOTA_COMP4']=enem_ano['NU_NOTA_COMP4']*10\n",
    "    enem_ano['NU_NOTA_COMP5']=enem_ano['NU_NOTA_COMP5']*10\n",
    "    enem_ano['NU_NOTA_REDACAO']=enem_ano['NU_NOTA_REDACAO']*10\n",
    "    \n",
    "    # RETIRANDO AS NOTAS ZEROS DOS INDIVÍDUOS AUSENTES\n",
    "    \n",
    "    c1 = enem_ano['NU_NOTA_COMP1']; c2 = enem_ano['NU_NOTA_COMP2']; c3 = enem_ano['NU_NOTA_COMP3']; \n",
    "    c4 = enem_ano['NU_NOTA_COMP1']; c5 = enem_ano['NU_NOTA_COMP1']; \n",
    "    rd = enem_ano['NU_NOTA_REDACAO']; no = enem_ano['NU_NOTA_OBJETIVA']; \n",
    "    \n",
    "    enem_ano['NU_NOTA_COMP1'] = np.where(enem_ano['TP_PRESENCA'] == 0, \"NaN\", c1)\n",
    "    enem_ano['NU_NOTA_COMP2'] = np.where(enem_ano['TP_PRESENCA'] == 0, \"NaN\", c2)\n",
    "    enem_ano['NU_NOTA_COMP3'] = np.where(enem_ano['TP_PRESENCA'] == 0, \"NaN\", c3)\n",
    "    enem_ano['NU_NOTA_COMP4'] = np.where(enem_ano['TP_PRESENCA'] == 0, \"NaN\", c4)\n",
    "    enem_ano['NU_NOTA_COMP5'] = np.where(enem_ano['TP_PRESENCA'] == 0, \"NaN\", c5)\n",
    "    enem_ano['NU_NOTA_REDACAO'] = np.where(enem_ano['TP_PRESENCA'] == 0, \"NaN\", rd)\n",
    "    enem_ano['NU_NOTA_OBJETIVA'] = np.where(enem_ano['TP_PRESENCA'] == 0, \"NaN\", no)\n",
    "    \n",
    "    #FORCANDO O TIPO DE VARIÁVEL\n",
    "    enem_ano.NU_NOTA_COMP1 = pd.to_numeric(enem_ano.NU_NOTA_COMP1, errors='coerce')\n",
    "    enem_ano.NU_NOTA_COMP2 = pd.to_numeric(enem_ano.NU_NOTA_COMP2, errors='coerce')\n",
    "    enem_ano.NU_NOTA_COMP3 = pd.to_numeric(enem_ano.NU_NOTA_COMP3, errors='coerce')\n",
    "    enem_ano.NU_NOTA_COMP4 = pd.to_numeric(enem_ano.NU_NOTA_COMP4, errors='coerce')\n",
    "    enem_ano.NU_NOTA_COMP5 = pd.to_numeric(enem_ano.NU_NOTA_COMP5, errors='coerce')\n",
    "    enem_ano.NU_NOTA_REDACAO = pd.to_numeric(enem_ano.NU_NOTA_REDACAO, errors='coerce')\n",
    "    enem_ano.NU_NOTA_OBJETIVA = pd.to_numeric(enem_ano.NU_NOTA_OBJETIVA, errors='coerce')\n",
    "    \n",
    "\n",
    "    enem_ano['Q1'] = enem_ano['Q1'].replace({'A':'Sem Estudo', 'B':'Fundamental Incompleto', 'C':'Fundamental Completo', 'D':'Ensino Medio Incompleto',\n",
    "                                            'E':'Ensino Medio Completo','F':'Superior Completo','G':'Pos-Graduacao', 'H': 'NI'})\n",
    "    enem_ano['Q2'] = enem_ano['Q2'].replace({'A':'Sem Estudo', 'B':'Fundamental Incompleto', 'C':'Fundamental Completo', 'D':'Ensino Medio Incompleto',\n",
    "                                             'E':'Ensino Medio Completo','F':'Superior Completo','G':'Pos-Graduacao', 'H': 'NI'})\n",
    "\n",
    "    \n",
    "    enem_ano.to_csv(f'Data/enem_{ano}_standard.csv', index=False)"
   ]
  },
  {
   "cell_type": "markdown",
   "id": "6f9c9309-90a7-459c-8f75-226e6a960b12",
   "metadata": {},
   "source": [
    "## 2009"
   ]
  },
  {
   "cell_type": "code",
   "execution_count": 41,
   "id": "bee273c9-714b-449f-a6a9-70b849f0c66c",
   "metadata": {},
   "outputs": [
    {
     "data": {
      "text/plain": [
       "array(['NU_INSCRICAO', 'NU_ANO', 'TP_FAIXA_ETARIA', 'TP_SEXO',\n",
       "       'TP_ST_CONCLUSAO', 'TP_ENSINO', 'CO_MUNICIPIO_ESC',\n",
       "       'NO_MUNICIPIO_ESC', 'CO_UF_ESC', 'SG_UF_ESC',\n",
       "       'TP_DEPENDENCIA_ADM_ESC', 'TP_LOCALIZACAO_ESC', 'TP_SIT_FUNC_ESC',\n",
       "       'CO_MUNICIPIO_PROVA', 'NO_MUNICIPIO_PROVA', 'CO_UF_PROVA',\n",
       "       'SG_UF_PROVA', 'TP_PRESENCA_CN', 'TP_PRESENCA_CH',\n",
       "       'TP_PRESENCA_LC', 'TP_PRESENCA_MT', 'NU_NOTA_CN', 'NU_NOTA_CH',\n",
       "       'NU_NOTA_LC', 'NU_NOTA_MT', 'TX_RESPOSTAS_CN', 'TX_RESPOSTAS_CH',\n",
       "       'TX_RESPOSTAS_LC', 'TX_RESPOSTAS_MT', 'CO_PROVA_CN', 'CO_PROVA_CH',\n",
       "       'CO_PROVA_LC', 'CO_PROVA_MT', 'TX_GABARITO_CN', 'TX_GABARITO_CH',\n",
       "       'TX_GABARITO_LC', 'TX_GABARITO_MT', 'TP_STATUS_REDACAO',\n",
       "       'NU_NOTA_COMP1', 'NU_NOTA_COMP2', 'NU_NOTA_COMP3', 'NU_NOTA_COMP4',\n",
       "       'NU_NOTA_COMP5', 'NU_NOTA_REDACAO', 'IN_CERTIFICADO', 'IN_QSE',\n",
       "       'Q1', 'Q2', 'Q3', 'Q4', 'Q5', 'Q6', 'Q7', 'Q8', 'Q9', 'Q10', 'Q11',\n",
       "       'Q12', 'Q13', 'Q14', 'Q15', 'Q16', 'Q17', 'Q18', 'Q19', 'Q20',\n",
       "       'Q21', 'Q22', 'Q23', 'Q24', 'Q25', 'Q26', 'Q27', 'Q28', 'Q29',\n",
       "       'Q30', 'Q31', 'Q32', 'Q33', 'Q34', 'Q35', 'Q36', 'Q37', 'Q38',\n",
       "       'Q39', 'Q40', 'Q41', 'Q42', 'Q43', 'Q44', 'Q45', 'Q46', 'Q47',\n",
       "       'Q48', 'Q49', 'Q50', 'Q51', 'Q52', 'Q53', 'Q54', 'Q55', 'Q56',\n",
       "       'Q57', 'Q58', 'Q59', 'Q60', 'Q61', 'Q62', 'Q63', 'Q64', 'Q65',\n",
       "       'Q66', 'Q67', 'Q68', 'Q69', 'Q70', 'Q71', 'Q72', 'Q73', 'Q74',\n",
       "       'Q75', 'Q76', 'Q77', 'Q78', 'Q79', 'Q80', 'Q81', 'Q82', 'Q83',\n",
       "       'Q84', 'Q85', 'Q86', 'Q87', 'Q88', 'Q89', 'Q90', 'Q91', 'Q92',\n",
       "       'Q93', 'Q94', 'Q95', 'Q96', 'Q97', 'Q98', 'Q99', 'Q100', 'Q101',\n",
       "       'Q102', 'Q103', 'Q104', 'Q105', 'Q106', 'Q107', 'Q108', 'Q109',\n",
       "       'Q110', 'Q111', 'Q112', 'Q113', 'Q114', 'Q115', 'Q116', 'Q117',\n",
       "       'Q118', 'Q119', 'Q120', 'Q121', 'Q122', 'Q123', 'Q124', 'Q125',\n",
       "       'Q126', 'Q127', 'Q128', 'Q129', 'Q130', 'Q131', 'Q132', 'Q133',\n",
       "       'Q134', 'Q135', 'Q136', 'Q137', 'Q138', 'Q139', 'Q140', 'Q141',\n",
       "       'Q142', 'Q143', 'Q144', 'Q145', 'Q146', 'Q147', 'Q148', 'Q149',\n",
       "       'Q150', 'Q151', 'Q152', 'Q153', 'Q154', 'Q155', 'Q156', 'Q157',\n",
       "       'Q158', 'Q159', 'Q160', 'Q161', 'Q162', 'Q163', 'Q164', 'Q165',\n",
       "       'Q166', 'Q167', 'Q168', 'Q169', 'Q170', 'Q171', 'Q172', 'Q173',\n",
       "       'Q174', 'Q175', 'Q176', 'Q177', 'Q178', 'Q179', 'Q180', 'Q181',\n",
       "       'Q182', 'Q183', 'Q184', 'Q185', 'Q186', 'Q187', 'Q188', 'Q189',\n",
       "       'Q190', 'Q191', 'Q192', 'Q193', 'Q194', 'Q195', 'Q196', 'Q197',\n",
       "       'Q198', 'Q199', 'Q200', 'Q201', 'Q202', 'Q203', 'Q204', 'Q205',\n",
       "       'Q206', 'Q207', 'Q208', 'Q209', 'Q210', 'Q211', 'Q212', 'Q213',\n",
       "       'Q214', 'Q215', 'Q216', 'Q217', 'Q218', 'Q219', 'Q220', 'Q221',\n",
       "       'Q222', 'Q223', 'Q224', 'Q225', 'Q226', 'Q227', 'Q228', 'Q229',\n",
       "       'Q230', 'Q231', 'Q232', 'Q233', 'Q234', 'Q235', 'Q236', 'Q237',\n",
       "       'Q238', 'Q239', 'Q240', 'Q241', 'Q242', 'Q243', 'Q244', 'Q245',\n",
       "       'Q246', 'Q247', 'Q248', 'Q249', 'Q250', 'Q251', 'Q252', 'Q253',\n",
       "       'Q254', 'Q255', 'Q256', 'Q257', 'Q258', 'Q259', 'Q260', 'Q261',\n",
       "       'Q262', 'Q263', 'Q264', 'Q265', 'Q266', 'Q267', 'Q268', 'Q269',\n",
       "       'Q270', 'Q271', 'Q272', 'Q273', 'Q274', 'Q275', 'Q276', 'Q277',\n",
       "       'Q278', 'Q279', 'Q280', 'Q281', 'Q282', 'Q283', 'Q284', 'Q285',\n",
       "       'Q286', 'Q287', 'Q288', 'Q289', 'Q290', 'Q291', 'Q292', 'Q293'],\n",
       "      dtype=object)"
      ]
     },
     "execution_count": 41,
     "metadata": {},
     "output_type": "execute_result"
    }
   ],
   "source": [
    "ano = 2009\n",
    "enem_ano = pd.read_csv(f'Data/enem_{ano}.csv',sep=',',encoding='ISO-8859-1');\n",
    "enem_ano.columns.values"
   ]
  },
  {
   "cell_type": "code",
   "execution_count": 42,
   "id": "df7ea539-af3a-4a21-bc55-25b20f9f1cf1",
   "metadata": {},
   "outputs": [
    {
     "name": "stdout",
     "output_type": "stream",
     "text": [
      "STARTING  2009 ------------------------------------------------------------------------------------\n"
     ]
    }
   ],
   "source": [
    "year_list = ['2009']\n",
    "\n",
    "selecionadas_ano = ['NU_INSCRICAO', 'NU_ANO', 'TP_FAIXA_ETARIA', 'TP_SEXO',\n",
    "       'CO_MUNICIPIO_ESC', 'NO_MUNICIPIO_ESC',\n",
    "       'CO_UF_ESC', 'SG_UF_ESC', 'TP_DEPENDENCIA_ADM_ESC',\n",
    "       'TP_LOCALIZACAO_ESC',\n",
    "       'NU_NOTA_CN','NU_NOTA_CH','NU_NOTA_LC','NU_NOTA_MT',\n",
    "       'TP_STATUS_REDACAO', 'NU_NOTA_COMP1','NU_NOTA_COMP2', 'NU_NOTA_COMP3',\n",
    "       'NU_NOTA_COMP4', 'NU_NOTA_COMP5',\n",
    "       'NU_NOTA_REDACAO', 'Q17','Q18','Q15','Q30','Q25','Q31','Q21',\n",
    "       'TP_PRESENCA_MT']\n",
    "\n",
    "for ano in year_list:\n",
    "    print('STARTING ',ano , '------------------------------------------------------------------------------------')\n",
    "    enem_ano = pd.read_csv(f'Data/enem_{ano}.csv',sep=',',encoding='ISO-8859-1', usecols=selecionadas_ano);\n",
    "    \n",
    "    \n",
    "    enem_ano.rename(columns = {'Q17': 'Q1', \n",
    "                               'Q18':'Q2',\n",
    "                               'Q15':'Q5',\n",
    "                               'Q30':'Q22',\n",
    "                               'Q25':'Q24',\n",
    "                               'Q31':'Q25',\n",
    "                               'Q21':'Q6'}, inplace = True)\n",
    "    \n",
    "    # FAZENDO UMA GAMBIARRA AQUI, CRIANDO O TP_PRESENCA A PARTIR DO DADO DO TP_PRESENCA_MT, q é no segundo dia.\n",
    "    enem_ano.rename({'TP_PRESENCA_MT':'TP_PRESENCA'}, axis=1, inplace=True)\n",
    "    \n",
    "    \n",
    "    # CALCULANDO A MEDIA \n",
    "    cn = enem_ano['NU_NOTA_CN']; ch = enem_ano['NU_NOTA_CH']; lc = enem_ano['NU_NOTA_LC'];mt = enem_ano['NU_NOTA_MT'];  \n",
    "    c1 = enem_ano['NU_NOTA_COMP1']; c2 = enem_ano['NU_NOTA_COMP2']; c3 = enem_ano['NU_NOTA_COMP3']; \n",
    "    c4 = enem_ano['NU_NOTA_COMP1']; c5 = enem_ano['NU_NOTA_COMP1']; rd = enem_ano['NU_NOTA_REDACAO']; \n",
    "    enem_ano['NU_NOTA_CN'] = np.where(enem_ano['TP_PRESENCA'] == 0, \"NaN\", cn)\n",
    "    enem_ano['NU_NOTA_CH'] = np.where(enem_ano['TP_PRESENCA'] == 0, \"NaN\", ch)\n",
    "    enem_ano['NU_NOTA_LC'] = np.where(enem_ano['TP_PRESENCA'] == 0, \"NaN\", lc)\n",
    "    enem_ano['NU_NOTA_MT'] = np.where(enem_ano['TP_PRESENCA'] == 0, \"NaN\", mt)\n",
    "    enem_ano['NU_NOTA_COMP1'] = np.where(enem_ano['TP_PRESENCA'] == 0, \"NaN\", c1)\n",
    "    enem_ano['NU_NOTA_COMP2'] = np.where(enem_ano['TP_PRESENCA'] == 0, \"NaN\", c2)\n",
    "    enem_ano['NU_NOTA_COMP3'] = np.where(enem_ano['TP_PRESENCA'] == 0, \"NaN\", c3)\n",
    "    enem_ano['NU_NOTA_COMP4'] = np.where(enem_ano['TP_PRESENCA'] == 0, \"NaN\", c4)\n",
    "    enem_ano['NU_NOTA_COMP5'] = np.where(enem_ano['TP_PRESENCA'] == 0, \"NaN\", c5)\n",
    "    enem_ano['NU_NOTA_REDACAO'] = np.where(enem_ano['TP_PRESENCA'] == 0, \"NaN\", rd)\n",
    "    \n",
    "    #FORCANDO O TIPO DE VARIÁVEL\n",
    "    enem_ano.NU_NOTA_CN = pd.to_numeric(enem_ano.NU_NOTA_CN, errors='coerce')\n",
    "    enem_ano.NU_NOTA_CH = pd.to_numeric(enem_ano.NU_NOTA_CH, errors='coerce')\n",
    "    enem_ano.NU_NOTA_LC = pd.to_numeric(enem_ano.NU_NOTA_LC, errors='coerce')\n",
    "    enem_ano.NU_NOTA_MT = pd.to_numeric(enem_ano.NU_NOTA_MT, errors='coerce')\n",
    "    enem_ano.NU_NOTA_COMP1 = pd.to_numeric(enem_ano.NU_NOTA_COMP1, errors='coerce')\n",
    "    enem_ano.NU_NOTA_COMP2 = pd.to_numeric(enem_ano.NU_NOTA_COMP2, errors='coerce')\n",
    "    enem_ano.NU_NOTA_COMP3 = pd.to_numeric(enem_ano.NU_NOTA_COMP3, errors='coerce')\n",
    "    enem_ano.NU_NOTA_COMP4 = pd.to_numeric(enem_ano.NU_NOTA_COMP4, errors='coerce')\n",
    "    enem_ano.NU_NOTA_COMP5 = pd.to_numeric(enem_ano.NU_NOTA_COMP5, errors='coerce')\n",
    "    enem_ano.NU_NOTA_REDACAO = pd.to_numeric(enem_ano.NU_NOTA_REDACAO, errors='coerce')\n",
    "    \n",
    "    enem_ano[\"NU_NOTA_OBJETIVA\"] = enem_ano[['NU_NOTA_CN','NU_NOTA_CH','NU_NOTA_LC', 'NU_NOTA_MT']].mean(axis=1)\n",
    "\n",
    "    enem_ano['Q1'] = enem_ano['Q1'].replace({'A':'Sem Estudo', 'B':'Fundamental Incompleto', 'C':'Fundamental Completo', 'D':'Ensino Medio Incompleto',\n",
    "                                            'E':'Ensino Medio Completo','F':'Superior Completo','G':'Pos-Graduacao', 'H': 'NI'})\n",
    "    enem_ano['Q2'] = enem_ano['Q2'].replace({'A':'Sem Estudo', 'B':'Fundamental Incompleto', 'C':'Fundamental Completo', 'D':'Ensino Medio Incompleto',\n",
    "                                             'E':'Ensino Medio Completo','F':'Superior Completo','G':'Pos-Graduacao', 'H': 'NI'})\n",
    "\n",
    "\n",
    "    enem_ano.to_csv(f'Data/enem_{ano}_standard.csv', index=False)"
   ]
  },
  {
   "cell_type": "markdown",
   "id": "5de4ab22-d3e9-47a4-bdce-0c08a23c68d1",
   "metadata": {},
   "source": [
    "## 2010\n",
    "\n",
    "\n",
    "A partir daqui temos TP_COR_RACA"
   ]
  },
  {
   "cell_type": "code",
   "execution_count": 43,
   "id": "1c6bcdcf-8576-4607-895d-e080a0e61443",
   "metadata": {},
   "outputs": [
    {
     "data": {
      "text/plain": [
       "array(['NU_INSCRICAO', 'NU_ANO', 'TP_FAIXA_ETARIA', 'TP_SEXO',\n",
       "       'TP_ESTADO_CIVIL', 'TP_COR_RACA', 'TP_ST_CONCLUSAO', 'TP_ENSINO',\n",
       "       'CO_MUNICIPIO_ESC', 'NO_MUNICIPIO_ESC', 'CO_UF_ESC', 'SG_UF_ESC',\n",
       "       'TP_DEPENDENCIA_ADM_ESC', 'TP_LOCALIZACAO_ESC', 'TP_SIT_FUNC_ESC',\n",
       "       'IN_CERTIFICADO', 'CO_MUNICIPIO_PROVA', 'NO_MUNICIPIO_PROVA',\n",
       "       'CO_UF_PROVA', 'SG_UF_PROVA', 'TP_PRESENCA_CN', 'TP_PRESENCA_CH',\n",
       "       'TP_PRESENCA_LC', 'TP_PRESENCA_MT', 'CO_PROVA_CN', 'CO_PROVA_CH',\n",
       "       'CO_PROVA_LC', 'CO_PROVA_MT', 'NU_NOTA_CN', 'NU_NOTA_CH',\n",
       "       'NU_NOTA_LC', 'NU_NOTA_MT', 'TX_RESPOSTAS_CN', 'TX_RESPOSTAS_CH',\n",
       "       'TX_RESPOSTAS_LC', 'TX_RESPOSTAS_MT', 'TP_LINGUA',\n",
       "       'TX_GABARITO_CN', 'TX_GABARITO_CH', 'TX_GABARITO_LC',\n",
       "       'TX_GABARITO_MT', 'TP_STATUS_REDACAO', 'NU_NOTA_COMP1',\n",
       "       'NU_NOTA_COMP2', 'NU_NOTA_COMP3', 'NU_NOTA_COMP4', 'NU_NOTA_COMP5',\n",
       "       'NU_NOTA_REDACAO', 'Q01', 'Q02', 'Q03', 'Q04', 'Q05', 'Q06', 'Q07',\n",
       "       'Q08', 'Q09', 'Q10', 'Q11', 'Q12', 'Q13', 'Q14', 'Q15', 'Q16',\n",
       "       'Q17', 'Q18', 'Q19', 'Q20', 'Q21', 'Q22', 'Q23', 'Q24', 'Q25',\n",
       "       'Q26', 'Q27', 'Q28', 'Q29', 'Q30', 'Q31', 'Q32', 'Q33', 'Q34',\n",
       "       'Q35', 'Q36', 'Q37', 'Q38', 'Q39', 'Q40', 'Q41', 'Q42', 'Q43',\n",
       "       'Q44', 'Q45', 'Q46', 'Q47', 'Q48', 'Q49', 'Q50', 'Q51', 'Q52',\n",
       "       'Q53', 'Q54', 'Q55', 'Q56', 'Q57'], dtype=object)"
      ]
     },
     "execution_count": 43,
     "metadata": {},
     "output_type": "execute_result"
    }
   ],
   "source": [
    "ano = 2010\n",
    "enem_ano = pd.read_csv(f'Data/enem_{ano}.csv',sep=',',encoding='ISO-8859-1');\n",
    "enem_ano.columns.values"
   ]
  },
  {
   "cell_type": "code",
   "execution_count": 44,
   "id": "0c7fcd34-f85f-4093-9264-fba1bfed8bca",
   "metadata": {},
   "outputs": [],
   "source": [
    "ano = 2010\n",
    "\n",
    "enem_ano = pd.read_csv(f'Data/enem_{ano}.csv',sep=',',encoding='ISO-8859-1');\n",
    "\n",
    "selecionadas_ano = ['NU_INSCRICAO', 'NU_ANO', 'TP_FAIXA_ETARIA', 'TP_SEXO','TP_COR_RACA',\n",
    "       'CO_MUNICIPIO_ESC', 'NO_MUNICIPIO_ESC',\n",
    "       'CO_UF_ESC', 'SG_UF_ESC', 'TP_DEPENDENCIA_ADM_ESC',\n",
    "       'TP_LOCALIZACAO_ESC',\n",
    "       'TP_LINGUA',\n",
    "       'NU_NOTA_CN','NU_NOTA_CH','NU_NOTA_LC','NU_NOTA_MT',\n",
    "       'TP_STATUS_REDACAO', 'NU_NOTA_COMP1','NU_NOTA_COMP2', 'NU_NOTA_COMP3',\n",
    "       'NU_NOTA_COMP4', 'NU_NOTA_COMP5',\n",
    "       'NU_NOTA_REDACAO', 'Q02','Q03','Q01','Q04','Q22','Q24','Q25','TP_PRESENCA_MT']\n",
    "\n",
    "enem_ano = pd.read_csv(f'Data/enem_{ano}.csv',sep=',',encoding='ISO-8859-1', usecols=selecionadas_ano);\n",
    "enem_ano.rename(columns = {'Q02':'Q1', \n",
    "                           'Q03':'Q2',\n",
    "                           'Q01':'Q5',\n",
    "                           'Q04':'Q6',\n",
    "                           'Q11':'Q22',\n",
    "                           'Q24':'Q24',\n",
    "                           'Q25':'Q25'}, inplace = True)\n",
    "\n",
    "# FAZENDO UMA GAMBIARRA AQUI, CRIANDO O TP_PRESENCA A PARTIR DO DADO DO TP_PRESENCA_MT, q é no segundo dia.\n",
    "enem_ano.rename({'TP_PRESENCA_MT':'TP_PRESENCA'}, axis=1, inplace=True)\n",
    "\n",
    "\n",
    "# CALCULANDO A MEDIA \n",
    "cn = enem_ano['NU_NOTA_CN']; ch = enem_ano['NU_NOTA_CH']; lc = enem_ano['NU_NOTA_LC'];mt = enem_ano['NU_NOTA_MT'];  \n",
    "c1 = enem_ano['NU_NOTA_COMP1']; c2 = enem_ano['NU_NOTA_COMP2']; c3 = enem_ano['NU_NOTA_COMP3']; \n",
    "c4 = enem_ano['NU_NOTA_COMP1']; c5 = enem_ano['NU_NOTA_COMP1']; rd = enem_ano['NU_NOTA_REDACAO']; \n",
    "enem_ano['NU_NOTA_CN'] = np.where(enem_ano['TP_PRESENCA'] == 0, \"NaN\", cn)\n",
    "enem_ano['NU_NOTA_CH'] = np.where(enem_ano['TP_PRESENCA'] == 0, \"NaN\", ch)\n",
    "enem_ano['NU_NOTA_LC'] = np.where(enem_ano['TP_PRESENCA'] == 0, \"NaN\", lc)\n",
    "enem_ano['NU_NOTA_MT'] = np.where(enem_ano['TP_PRESENCA'] == 0, \"NaN\", mt)\n",
    "enem_ano['NU_NOTA_COMP1'] = np.where(enem_ano['TP_PRESENCA'] == 0, \"NaN\", c1)\n",
    "enem_ano['NU_NOTA_COMP2'] = np.where(enem_ano['TP_PRESENCA'] == 0, \"NaN\", c2)\n",
    "enem_ano['NU_NOTA_COMP3'] = np.where(enem_ano['TP_PRESENCA'] == 0, \"NaN\", c3)\n",
    "enem_ano['NU_NOTA_COMP4'] = np.where(enem_ano['TP_PRESENCA'] == 0, \"NaN\", c4)\n",
    "enem_ano['NU_NOTA_COMP5'] = np.where(enem_ano['TP_PRESENCA'] == 0, \"NaN\", c5)\n",
    "enem_ano['NU_NOTA_REDACAO'] = np.where(enem_ano['TP_PRESENCA'] == 0, \"NaN\", rd)\n",
    "\n",
    "#FORCANDO O TIPO DE VARIÁVEL\n",
    "enem_ano.NU_NOTA_CN = pd.to_numeric(enem_ano.NU_NOTA_CN, errors='coerce')\n",
    "enem_ano.NU_NOTA_CH = pd.to_numeric(enem_ano.NU_NOTA_CH, errors='coerce')\n",
    "enem_ano.NU_NOTA_LC = pd.to_numeric(enem_ano.NU_NOTA_LC, errors='coerce')\n",
    "enem_ano.NU_NOTA_MT = pd.to_numeric(enem_ano.NU_NOTA_MT, errors='coerce')\n",
    "enem_ano.NU_NOTA_COMP1 = pd.to_numeric(enem_ano.NU_NOTA_COMP1, errors='coerce')\n",
    "enem_ano.NU_NOTA_COMP2 = pd.to_numeric(enem_ano.NU_NOTA_COMP2, errors='coerce')\n",
    "enem_ano.NU_NOTA_COMP3 = pd.to_numeric(enem_ano.NU_NOTA_COMP3, errors='coerce')\n",
    "enem_ano.NU_NOTA_COMP4 = pd.to_numeric(enem_ano.NU_NOTA_COMP4, errors='coerce')\n",
    "enem_ano.NU_NOTA_COMP5 = pd.to_numeric(enem_ano.NU_NOTA_COMP5, errors='coerce')\n",
    "enem_ano.NU_NOTA_REDACAO = pd.to_numeric(enem_ano.NU_NOTA_REDACAO, errors='coerce')\n",
    "\n",
    "enem_ano[\"NU_NOTA_OBJETIVA\"] = enem_ano[['NU_NOTA_CN','NU_NOTA_CH','NU_NOTA_LC', 'NU_NOTA_MT']].mean(axis=1)\n",
    "\n",
    "enem_ano['Q1'] = enem_ano['Q1'].replace({'A':'Sem Estudo', 'B':'Fundamental Incompleto', 'C':'Fundamental Completo', 'D':'Ensino Medio Incompleto',\n",
    "                                        'E':'Ensino Medio Completo','F':'Superior Completo','G':'Pos-Graduacao', 'H': 'NI'})\n",
    "enem_ano['Q2'] = enem_ano['Q2'].replace({'A':'Sem Estudo', 'B':'Fundamental Incompleto', 'C':'Fundamental Completo', 'D':'Ensino Medio Incompleto',\n",
    "                                         'E':'Ensino Medio Completo','F':'Superior Completo','G':'Pos-Graduacao', 'H': 'NI'})\n",
    "\n",
    "enem_ano.to_csv(f'Data/enem_{ano}_standard.csv', index=False)"
   ]
  },
  {
   "cell_type": "markdown",
   "id": "26492d79-7f06-4daa-9c3d-0a49f214e2ca",
   "metadata": {},
   "source": [
    "## 2011\n"
   ]
  },
  {
   "cell_type": "code",
   "execution_count": 45,
   "id": "7cc59991-80b7-4f41-a2dc-7a3477064175",
   "metadata": {},
   "outputs": [
    {
     "data": {
      "text/plain": [
       "array(['NU_INSCRICAO', 'NU_ANO', 'TP_FAIXA_ETARIA', 'TP_SEXO',\n",
       "       'TP_ESTADO_CIVIL', 'TP_COR_RACA', 'TP_ST_CONCLUSAO',\n",
       "       'TP_ANO_CONCLUIU', 'TP_ESCOLA', 'TP_ENSINO', 'CO_MUNICIPIO_ESC',\n",
       "       'NO_MUNICIPIO_ESC', 'CO_UF_ESC', 'SG_UF_ESC',\n",
       "       'TP_DEPENDENCIA_ADM_ESC', 'TP_LOCALIZACAO_ESC', 'TP_SIT_FUNC_ESC',\n",
       "       'IN_CERTIFICADO', 'NO_ENTIDADE_CERTIFICACAO',\n",
       "       'CO_UF_ENTIDADE_CERTIFICACAO', 'SG_UF_ENTIDADE_CERTIFICACAO',\n",
       "       'CO_MUNICIPIO_PROVA', 'NO_MUNICIPIO_PROVA', 'CO_UF_PROVA',\n",
       "       'SG_UF_PROVA', 'TP_PRESENCA_CN', 'TP_PRESENCA_CH',\n",
       "       'TP_PRESENCA_LC', 'TP_PRESENCA_MT', 'CO_PROVA_CN', 'CO_PROVA_CH',\n",
       "       'CO_PROVA_LC', 'CO_PROVA_MT', 'NU_NOTA_CN', 'NU_NOTA_CH',\n",
       "       'NU_NOTA_LC', 'NU_NOTA_MT', 'TX_RESPOSTAS_CN', 'TX_RESPOSTAS_CH',\n",
       "       'TX_RESPOSTAS_LC', 'TX_RESPOSTAS_MT', 'TP_LINGUA',\n",
       "       'TX_GABARITO_CN', 'TX_GABARITO_CH', 'TX_GABARITO_LC',\n",
       "       'TX_GABARITO_MT', 'TP_STATUS_REDACAO', 'NU_NOTA_COMP1',\n",
       "       'NU_NOTA_COMP2', 'NU_NOTA_COMP3', 'NU_NOTA_COMP4', 'NU_NOTA_COMP5',\n",
       "       'NU_NOTA_REDACAO', 'Q001', 'Q002', 'Q003', 'Q004', 'Q005', 'Q006',\n",
       "       'Q007', 'Q008', 'Q009', 'Q010', 'Q011', 'Q012', 'Q013', 'Q014',\n",
       "       'Q015', 'Q016', 'Q017', 'Q018', 'Q019', 'Q020', 'Q021', 'Q022',\n",
       "       'Q023', 'Q024', 'Q025', 'Q026', 'Q027', 'Q028', 'Q029', 'Q030',\n",
       "       'Q031', 'Q032', 'Q033', 'Q034', 'Q035', 'Q036', 'Q037', 'Q038',\n",
       "       'Q039', 'Q040', 'Q041', 'Q042', 'Q043', 'Q044', 'Q045', 'Q046',\n",
       "       'Q047', 'Q048', 'Q049', 'Q050', 'Q051', 'Q052', 'Q053', 'Q054',\n",
       "       'Q055', 'Q056', 'Q057', 'Q058', 'Q059', 'Q060', 'Q061', 'Q062',\n",
       "       'Q063', 'Q064', 'Q065', 'Q066', 'Q067', 'Q068', 'Q069', 'Q070',\n",
       "       'Q071', 'Q072', 'Q073', 'Q074', 'Q075'], dtype=object)"
      ]
     },
     "execution_count": 45,
     "metadata": {},
     "output_type": "execute_result"
    }
   ],
   "source": [
    "ano = 2011\n",
    "enem_ano = pd.read_csv(f'Data/enem_{ano}.csv',sep=',',encoding='ISO-8859-1');\n",
    "enem_ano.columns.values"
   ]
  },
  {
   "cell_type": "code",
   "execution_count": 46,
   "id": "56b7b6ec-8b0f-4de6-96fb-6b192b5e2f76",
   "metadata": {},
   "outputs": [],
   "source": [
    "ano = 2011\n",
    "\n",
    "selecionadas_ano = ['NU_INSCRICAO', 'NU_ANO', 'TP_FAIXA_ETARIA', 'TP_SEXO','TP_COR_RACA',\n",
    "       'CO_MUNICIPIO_ESC', 'NO_MUNICIPIO_ESC',\n",
    "        'SG_UF_ESC', 'TP_DEPENDENCIA_ADM_ESC',\n",
    "       'TP_LINGUA',\n",
    "       'NU_NOTA_CN','NU_NOTA_CH','NU_NOTA_LC','NU_NOTA_MT',\n",
    "       'TP_STATUS_REDACAO', 'NU_NOTA_COMP1','NU_NOTA_COMP2', 'NU_NOTA_COMP3',\n",
    "       'NU_NOTA_COMP4', 'NU_NOTA_COMP5',\n",
    "       'NU_NOTA_REDACAO', 'Q002','Q003','Q001','Q004','Q070','Q064','Q071','TP_PRESENCA_MT']\n",
    "\n",
    "\n",
    "enem_ano = pd.read_csv(f'Data/enem_{ano}.csv',sep=',',encoding='ISO-8859-1', usecols=selecionadas_ano);\n",
    "\n",
    "enem_ano.rename(columns = {'Q002':'Q1', \n",
    "                           'Q003':'Q2',\n",
    "                           'Q001':'Q5',\n",
    "                           'Q004':'Q6',\n",
    "                           'Q070':'Q22',\n",
    "                           'Q064':'Q24',\n",
    "                           'Q071':'Q25'}, inplace = True)\n",
    "\n",
    "# FAZENDO UMA GAMBIARRA AQUI, CRIANDO O TP_PRESENCA A PARTIR DO DADO DO TP_PRESENCA_MT, q é no segundo dia.\n",
    "enem_ano.rename({'TP_PRESENCA_MT':'TP_PRESENCA'}, axis=1, inplace=True)\n",
    "\n",
    "# CALCULANDO A MEDIA \n",
    "cn = enem_ano['NU_NOTA_CN']; ch = enem_ano['NU_NOTA_CH']; lc = enem_ano['NU_NOTA_LC'];mt = enem_ano['NU_NOTA_MT'];  \n",
    "c1 = enem_ano['NU_NOTA_COMP1']; c2 = enem_ano['NU_NOTA_COMP2']; c3 = enem_ano['NU_NOTA_COMP3']; \n",
    "c4 = enem_ano['NU_NOTA_COMP1']; c5 = enem_ano['NU_NOTA_COMP1']; rd = enem_ano['NU_NOTA_REDACAO']; \n",
    "enem_ano['NU_NOTA_CN'] = np.where(enem_ano['TP_PRESENCA'] == 0, \"NaN\", cn)\n",
    "enem_ano['NU_NOTA_CH'] = np.where(enem_ano['TP_PRESENCA'] == 0, \"NaN\", ch)\n",
    "enem_ano['NU_NOTA_LC'] = np.where(enem_ano['TP_PRESENCA'] == 0, \"NaN\", lc)\n",
    "enem_ano['NU_NOTA_MT'] = np.where(enem_ano['TP_PRESENCA'] == 0, \"NaN\", mt)\n",
    "enem_ano['NU_NOTA_COMP1'] = np.where(enem_ano['TP_PRESENCA'] == 0, \"NaN\", c1)\n",
    "enem_ano['NU_NOTA_COMP2'] = np.where(enem_ano['TP_PRESENCA'] == 0, \"NaN\", c2)\n",
    "enem_ano['NU_NOTA_COMP3'] = np.where(enem_ano['TP_PRESENCA'] == 0, \"NaN\", c3)\n",
    "enem_ano['NU_NOTA_COMP4'] = np.where(enem_ano['TP_PRESENCA'] == 0, \"NaN\", c4)\n",
    "enem_ano['NU_NOTA_COMP5'] = np.where(enem_ano['TP_PRESENCA'] == 0, \"NaN\", c5)\n",
    "enem_ano['NU_NOTA_REDACAO'] = np.where(enem_ano['TP_PRESENCA'] == 0, \"NaN\", rd)\n",
    "\n",
    "#FORCANDO O TIPO DE VARIÁVEL\n",
    "enem_ano.NU_NOTA_CN = pd.to_numeric(enem_ano.NU_NOTA_CN, errors='coerce')\n",
    "enem_ano.NU_NOTA_CH = pd.to_numeric(enem_ano.NU_NOTA_CH, errors='coerce')\n",
    "enem_ano.NU_NOTA_LC = pd.to_numeric(enem_ano.NU_NOTA_LC, errors='coerce')\n",
    "enem_ano.NU_NOTA_MT = pd.to_numeric(enem_ano.NU_NOTA_MT, errors='coerce')\n",
    "enem_ano.NU_NOTA_COMP1 = pd.to_numeric(enem_ano.NU_NOTA_COMP1, errors='coerce')\n",
    "enem_ano.NU_NOTA_COMP2 = pd.to_numeric(enem_ano.NU_NOTA_COMP2, errors='coerce')\n",
    "enem_ano.NU_NOTA_COMP3 = pd.to_numeric(enem_ano.NU_NOTA_COMP3, errors='coerce')\n",
    "enem_ano.NU_NOTA_COMP4 = pd.to_numeric(enem_ano.NU_NOTA_COMP4, errors='coerce')\n",
    "enem_ano.NU_NOTA_COMP5 = pd.to_numeric(enem_ano.NU_NOTA_COMP5, errors='coerce')\n",
    "enem_ano.NU_NOTA_REDACAO = pd.to_numeric(enem_ano.NU_NOTA_REDACAO, errors='coerce')\n",
    "\n",
    "enem_ano[\"NU_NOTA_OBJETIVA\"] = enem_ano[['NU_NOTA_CN','NU_NOTA_CH','NU_NOTA_LC', 'NU_NOTA_MT']].mean(axis=1)\n",
    "\n",
    "enem_ano['Q1'] = enem_ano['Q1'].replace({'A':'Sem Estudo', 'B':'Fundamental Incompleto', 'C':'Fundamental Completo', 'D':'Ensino Medio Incompleto',\n",
    "                                        'E':'Ensino Medio Completo','F':'Superior Completo','G':'Pos-Graduacao', 'H': 'NI'})\n",
    "enem_ano['Q2'] = enem_ano['Q2'].replace({'A':'Sem Estudo', 'B':'Fundamental Incompleto', 'C':'Fundamental Completo', 'D':'Ensino Medio Incompleto',\n",
    "                                         'E':'Ensino Medio Completo','F':'Superior Completo','G':'Pos-Graduacao', 'H': 'NI'})\n",
    "\n",
    "\n",
    "enem_ano.to_csv(f'Data/enem_{ano}_standard.csv', index=False)"
   ]
  },
  {
   "cell_type": "markdown",
   "id": "6669b352-9fc9-4d10-8937-dfb7ad2cbf85",
   "metadata": {},
   "source": [
    "## 2012"
   ]
  },
  {
   "cell_type": "code",
   "execution_count": 47,
   "id": "78782107-92d6-4b7b-875d-c33e1e014589",
   "metadata": {},
   "outputs": [
    {
     "data": {
      "text/plain": [
       "array(['NU_INSCRICAO', 'NU_ANO', 'TP_FAIXA_ETARIA', 'TP_SEXO',\n",
       "       'TP_ESTADO_CIVIL', 'TP_COR_RACA', 'TP_ST_CONCLUSAO',\n",
       "       'TP_ANO_CONCLUIU', 'TP_ESCOLA', 'TP_ENSINO', 'CO_MUNICIPIO_ESC',\n",
       "       'NO_MUNICIPIO_ESC', 'CO_UF_ESC', 'SG_UF_ESC',\n",
       "       'TP_DEPENDENCIA_ADM_ESC', 'TP_LOCALIZACAO_ESC', 'TP_SIT_FUNC_ESC',\n",
       "       'IN_CERTIFICADO', 'NO_ENTIDADE_CERTIFICACAO',\n",
       "       'CO_UF_ENTIDADE_CERTIFICACAO', 'SG_UF_ENTIDADE_CERTIFICACAO',\n",
       "       'CO_MUNICIPIO_PROVA', 'NO_MUNICIPIO_PROVA', 'CO_UF_PROVA',\n",
       "       'SG_UF_PROVA', 'TP_PRESENCA_CN', 'TP_PRESENCA_CH',\n",
       "       'TP_PRESENCA_LC', 'TP_PRESENCA_MT', 'CO_PROVA_CN', 'CO_PROVA_CH',\n",
       "       'CO_PROVA_LC', 'CO_PROVA_MT', 'NU_NOTA_CN', 'NU_NOTA_CH',\n",
       "       'NU_NOTA_LC', 'NU_NOTA_MT', 'TX_RESPOSTAS_CN', 'TX_RESPOSTAS_CH',\n",
       "       'TX_RESPOSTAS_LC', 'TX_RESPOSTAS_MT', 'TP_LINGUA',\n",
       "       'TX_GABARITO_CN', 'TX_GABARITO_CH', 'TX_GABARITO_LC',\n",
       "       'TX_GABARITO_MT', 'TP_STATUS_REDACAO', 'NU_NOTA_COMP1',\n",
       "       'NU_NOTA_COMP2', 'NU_NOTA_COMP3', 'NU_NOTA_COMP4', 'NU_NOTA_COMP5',\n",
       "       'NU_NOTA_REDACAO', 'Q001', 'Q002', 'Q003', 'Q004', 'Q005', 'Q006',\n",
       "       'Q007', 'Q008', 'Q009', 'Q010', 'Q011', 'Q012', 'Q013', 'Q014',\n",
       "       'Q015', 'Q016', 'Q017', 'Q018', 'Q019', 'Q020', 'Q021', 'Q022',\n",
       "       'Q023', 'Q024', 'Q025', 'Q026', 'Q027', 'Q028', 'Q029', 'Q030',\n",
       "       'Q031', 'Q032', 'Q033', 'Q034', 'Q035', 'Q036', 'Q037', 'Q038',\n",
       "       'Q039', 'Q040', 'Q041', 'Q042', 'Q043', 'Q044', 'Q045', 'Q046',\n",
       "       'Q047', 'Q048', 'Q049', 'Q050', 'Q051', 'Q052', 'Q053', 'Q054',\n",
       "       'Q055', 'Q056', 'Q057', 'Q058', 'Q059', 'Q060', 'Q061', 'Q062'],\n",
       "      dtype=object)"
      ]
     },
     "execution_count": 47,
     "metadata": {},
     "output_type": "execute_result"
    }
   ],
   "source": [
    "ano = 2012\n",
    "enem_ano = pd.read_csv(f'Data/enem_{ano}.csv',sep=',',encoding='ISO-8859-1');\n",
    "enem_ano.columns.values"
   ]
  },
  {
   "cell_type": "code",
   "execution_count": 48,
   "id": "2e8d10ca-b7bc-4535-899b-8b3686e9c6a9",
   "metadata": {},
   "outputs": [],
   "source": [
    "ano = 2012\n",
    "\n",
    "selecionadas_ano = ['NU_INSCRICAO', 'NU_ANO', 'TP_FAIXA_ETARIA', 'TP_SEXO','TP_COR_RACA',\n",
    "       'CO_MUNICIPIO_ESC', 'NO_MUNICIPIO_ESC',\n",
    "        'SG_UF_ESC', 'TP_DEPENDENCIA_ADM_ESC',\n",
    "       'TP_LINGUA',\n",
    "       'NU_NOTA_CN','NU_NOTA_CH','NU_NOTA_LC','NU_NOTA_MT',\n",
    "       'TP_STATUS_REDACAO', 'NU_NOTA_COMP1','NU_NOTA_COMP2', 'NU_NOTA_COMP3',\n",
    "       'NU_NOTA_COMP4', 'NU_NOTA_COMP5',\n",
    "       'NU_NOTA_REDACAO', 'Q001','Q002','Q004','Q003','Q016','Q010','Q017','TP_PRESENCA_MT']\n",
    "\n",
    "enem_ano = pd.read_csv(f'Data/enem_{ano}.csv',sep=',',encoding='ISO-8859-1', usecols=selecionadas_ano);\n",
    "\n",
    "enem_ano.rename(columns = {'Q001':'Q1', \n",
    "                           'Q002':'Q2',\n",
    "                           'Q004':'Q5',\n",
    "                           'Q003':'Q6',\n",
    "                           'Q016':'Q22',\n",
    "                           'Q010':'Q24',\n",
    "                           'Q017':'Q25'},\n",
    "                inplace = True)\n",
    "\n",
    "# FAZENDO UMA GAMBIARRA AQUI, CRIANDO O TP_PRESENCA A PARTIR DO DADO DO TP_PRESENCA_MT, q é no segundo dia.\n",
    "enem_ano.rename({'TP_PRESENCA_MT':'TP_PRESENCA'}, axis=1, inplace=True)\n",
    "\n",
    "\n",
    "# CALCULANDO A MEDIA \n",
    "cn = enem_ano['NU_NOTA_CN']; ch = enem_ano['NU_NOTA_CH']; lc = enem_ano['NU_NOTA_LC'];mt = enem_ano['NU_NOTA_MT'];  \n",
    "c1 = enem_ano['NU_NOTA_COMP1']; c2 = enem_ano['NU_NOTA_COMP2']; c3 = enem_ano['NU_NOTA_COMP3']; \n",
    "c4 = enem_ano['NU_NOTA_COMP1']; c5 = enem_ano['NU_NOTA_COMP1']; rd = enem_ano['NU_NOTA_REDACAO']; \n",
    "enem_ano['NU_NOTA_CN'] = np.where(enem_ano['TP_PRESENCA'] == 0, \"NaN\", cn)\n",
    "enem_ano['NU_NOTA_CH'] = np.where(enem_ano['TP_PRESENCA'] == 0, \"NaN\", ch)\n",
    "enem_ano['NU_NOTA_LC'] = np.where(enem_ano['TP_PRESENCA'] == 0, \"NaN\", lc)\n",
    "enem_ano['NU_NOTA_MT'] = np.where(enem_ano['TP_PRESENCA'] == 0, \"NaN\", mt)\n",
    "enem_ano['NU_NOTA_COMP1'] = np.where(enem_ano['TP_PRESENCA'] == 0, \"NaN\", c1)\n",
    "enem_ano['NU_NOTA_COMP2'] = np.where(enem_ano['TP_PRESENCA'] == 0, \"NaN\", c2)\n",
    "enem_ano['NU_NOTA_COMP3'] = np.where(enem_ano['TP_PRESENCA'] == 0, \"NaN\", c3)\n",
    "enem_ano['NU_NOTA_COMP4'] = np.where(enem_ano['TP_PRESENCA'] == 0, \"NaN\", c4)\n",
    "enem_ano['NU_NOTA_COMP5'] = np.where(enem_ano['TP_PRESENCA'] == 0, \"NaN\", c5)\n",
    "enem_ano['NU_NOTA_REDACAO'] = np.where(enem_ano['TP_PRESENCA'] == 0, \"NaN\", rd)\n",
    "\n",
    "#FORCANDO O TIPO DE VARIÁVEL\n",
    "enem_ano.NU_NOTA_CN = pd.to_numeric(enem_ano.NU_NOTA_CN, errors='coerce')\n",
    "enem_ano.NU_NOTA_CH = pd.to_numeric(enem_ano.NU_NOTA_CH, errors='coerce')\n",
    "enem_ano.NU_NOTA_LC = pd.to_numeric(enem_ano.NU_NOTA_LC, errors='coerce')\n",
    "enem_ano.NU_NOTA_MT = pd.to_numeric(enem_ano.NU_NOTA_MT, errors='coerce')\n",
    "enem_ano.NU_NOTA_COMP1 = pd.to_numeric(enem_ano.NU_NOTA_COMP1, errors='coerce')\n",
    "enem_ano.NU_NOTA_COMP2 = pd.to_numeric(enem_ano.NU_NOTA_COMP2, errors='coerce')\n",
    "enem_ano.NU_NOTA_COMP3 = pd.to_numeric(enem_ano.NU_NOTA_COMP3, errors='coerce')\n",
    "enem_ano.NU_NOTA_COMP4 = pd.to_numeric(enem_ano.NU_NOTA_COMP4, errors='coerce')\n",
    "enem_ano.NU_NOTA_COMP5 = pd.to_numeric(enem_ano.NU_NOTA_COMP5, errors='coerce')\n",
    "enem_ano.NU_NOTA_REDACAO = pd.to_numeric(enem_ano.NU_NOTA_REDACAO, errors='coerce')\n",
    "\n",
    "enem_ano[\"NU_NOTA_OBJETIVA\"] = enem_ano[['NU_NOTA_CN','NU_NOTA_CH','NU_NOTA_LC', 'NU_NOTA_MT']].mean(axis=1)\n",
    "\n",
    "\n",
    "\n",
    "enem_ano['Q1'] = enem_ano['Q1'].replace({'A':'Sem Estudo', 'B':'Fundamental Incompleto', 'C':'Fundamental Completo', 'D':'Ensino Medio Incompleto',\n",
    "                                        'E':'Ensino Medio Completo','F':'Superior Completo','G':'Pos-Graduacao', 'H': 'NI'})\n",
    "enem_ano['Q2'] = enem_ano['Q2'].replace({'A':'Sem Estudo', 'B':'Fundamental Incompleto', 'C':'Fundamental Completo', 'D':'Ensino Medio Incompleto',\n",
    "                                         'E':'Ensino Medio Completo','F':'Superior Completo','G':'Pos-Graduacao', 'H': 'NI'})\n",
    "\n",
    "enem_ano.to_csv(f'Data/enem_{ano}_standard.csv', index=False)"
   ]
  },
  {
   "cell_type": "markdown",
   "id": "1b5706e2-7353-4cc0-bcac-912f71e30784",
   "metadata": {},
   "source": [
    "## 2013"
   ]
  },
  {
   "cell_type": "code",
   "execution_count": 49,
   "id": "9b208999-162a-43cb-8534-11e9059b54c0",
   "metadata": {},
   "outputs": [
    {
     "data": {
      "text/plain": [
       "array(['NU_INSCRICAO', 'NU_ANO', 'TP_FAIXA_ETARIA', 'TP_SEXO',\n",
       "       'TP_NACIONALIDADE', 'TP_ST_CONCLUSAO', 'ANO_CONCLUIU', 'TP_ESCOLA',\n",
       "       'TP_ENSINO', 'TP_ESTADO_CIVIL', 'TP_COR_RACA', 'CO_MUNICIPIO_ESC',\n",
       "       'NO_MUNICIPIO_ESC', 'CO_UF_ESC', 'SG_UF_ESC',\n",
       "       'TP_DEPENDENCIA_ADM_ESC', 'TP_LOCALIZACAO_ESC', 'TP_SIT_FUNC_ESC',\n",
       "       'IN_CERTIFICADO', 'NO_ENTIDADE_CERTIFICACAO',\n",
       "       'CO_UF_ENTIDADE_CERTIFICACAO', 'SG_UF_ENTIDADE_CERTIFICACAO',\n",
       "       'CO_MUNICIPIO_PROVA', 'NO_MUNICIPIO_PROVA', 'CO_UF_PROVA',\n",
       "       'SG_UF_PROVA', 'TP_PRESENCA_CN', 'TP_PRESENCA_CH',\n",
       "       'TP_PRESENCA_LC', 'TP_PRESENCA_MT', 'CO_PROVA_CN', 'CO_PROVA_CH',\n",
       "       'CO_PROVA_LC', 'CO_PROVA_MT', 'NU_NOTA_CN', 'NU_NOTA_CH',\n",
       "       'NU_NOTA_LC', 'NU_NOTA_MT', 'TX_RESPOSTAS_CN', 'TX_RESPOSTAS_CH',\n",
       "       'TX_RESPOSTAS_LC', 'TX_RESPOSTAS_MT', 'TP_LINGUA',\n",
       "       'TX_GABARITO_CN', 'TX_GABARITO_CH', 'TX_GABARITO_LC',\n",
       "       'TX_GABARITO_MT', 'TP_STATUS_REDACAO', 'NU_NOTA_COMP1',\n",
       "       'NU_NOTA_COMP2', 'NU_NOTA_COMP3', 'NU_NOTA_COMP4', 'NU_NOTA_COMP5',\n",
       "       'NU_NOTA_REDACAO', 'Q001', 'Q002', 'Q003', 'Q004', 'Q005', 'Q006',\n",
       "       'Q007', 'Q008', 'Q009', 'Q010', 'Q011', 'Q012', 'Q013', 'Q014',\n",
       "       'Q015', 'Q016', 'Q017', 'Q018', 'Q019', 'Q020', 'Q021', 'Q022',\n",
       "       'Q023', 'Q024', 'Q025', 'Q026', 'Q027', 'Q028', 'Q029', 'Q030',\n",
       "       'Q031', 'Q032', 'Q033', 'Q034', 'Q035', 'Q036', 'Q037', 'Q038',\n",
       "       'Q039', 'Q040', 'Q041', 'Q042', 'Q043', 'Q044', 'Q045', 'Q046',\n",
       "       'Q047', 'Q048', 'Q049', 'Q050', 'Q051', 'Q052', 'Q053', 'Q054',\n",
       "       'Q055', 'Q056', 'Q057', 'Q058', 'Q059', 'Q060', 'Q061', 'Q062',\n",
       "       'Q063', 'Q064', 'Q065', 'Q066', 'Q067', 'Q068', 'Q069', 'Q070',\n",
       "       'Q071', 'Q072', 'Q073', 'Q074', 'Q075', 'Q076'], dtype=object)"
      ]
     },
     "execution_count": 49,
     "metadata": {},
     "output_type": "execute_result"
    }
   ],
   "source": [
    "ano = 2013\n",
    "enem_ano = pd.read_csv(f'Data/enem_{ano}.csv',sep=',',encoding='ISO-8859-1');\n",
    "enem_ano.columns.values"
   ]
  },
  {
   "cell_type": "code",
   "execution_count": null,
   "id": "62353fba-4226-42d5-bd47-d6fa10983e50",
   "metadata": {},
   "outputs": [],
   "source": [
    "ano = 2013\n",
    "\n",
    "selecionadas_ano = ['NU_INSCRICAO', 'NU_ANO', 'TP_FAIXA_ETARIA', 'TP_SEXO','TP_COR_RACA',\n",
    "       'CO_MUNICIPIO_ESC', 'NO_MUNICIPIO_ESC',\n",
    "        'SG_UF_ESC', 'TP_DEPENDENCIA_ADM_ESC',\n",
    "       'TP_LINGUA',\n",
    "       'NU_NOTA_CN','NU_NOTA_CH','NU_NOTA_LC','NU_NOTA_MT',\n",
    "       'TP_STATUS_REDACAO', 'NU_NOTA_COMP1','NU_NOTA_COMP2', 'NU_NOTA_COMP3',\n",
    "       'NU_NOTA_COMP4', 'NU_NOTA_COMP5',\n",
    "       'NU_NOTA_REDACAO', 'Q001','Q002','Q004','Q003','Q016','Q010','Q017','TP_PRESENCA_MT']\n",
    "\n",
    "enem_ano = pd.read_csv(f'Data/enem_{ano}.csv',sep=',',encoding='ISO-8859-1', usecols=selecionadas_ano);\n",
    "\n",
    "       enem_ano.rename(columns = {'Q001':'Q1', \n",
    "                            'Q002':'Q2',\n",
    "                            'Q004':'Q5',\n",
    "                            'Q003':'Q6',\n",
    "                            'Q016':'Q22',\n",
    "                            'Q010':'Q24',\n",
    "                            'Q017':'Q25',\n",
    "                            'UF_ESC': 'SG_UF_ESC'}, inplace = True)\n",
    "\n",
    "# FAZENDO UMA GAMBIARRA AQUI, CRIANDO O TP_PRESENCA A PARTIR DO DADO DO TP_PRESENCA_MT, q é no segundo dia.\n",
    "enem_ano.rename({'TP_PRESENCA_MT':'TP_PRESENCA'}, axis=1, inplace=True)\n",
    "\n",
    "\n",
    "# CALCULANDO A MEDIA \n",
    "cn = enem_ano['NU_NOTA_CN']; ch = enem_ano['NU_NOTA_CH']; lc = enem_ano['NU_NOTA_LC'];mt = enem_ano['NU_NOTA_MT'];  \n",
    "c1 = enem_ano['NU_NOTA_COMP1']; c2 = enem_ano['NU_NOTA_COMP2']; c3 = enem_ano['NU_NOTA_COMP3']; \n",
    "c4 = enem_ano['NU_NOTA_COMP1']; c5 = enem_ano['NU_NOTA_COMP1']; rd = enem_ano['NU_NOTA_REDACAO']; \n",
    "enem_ano['NU_NOTA_CN'] = np.where(enem_ano['TP_PRESENCA'] == 0, \"NaN\", cn)\n",
    "enem_ano['NU_NOTA_CH'] = np.where(enem_ano['TP_PRESENCA'] == 0, \"NaN\", ch)\n",
    "enem_ano['NU_NOTA_LC'] = np.where(enem_ano['TP_PRESENCA'] == 0, \"NaN\", lc)\n",
    "enem_ano['NU_NOTA_MT'] = np.where(enem_ano['TP_PRESENCA'] == 0, \"NaN\", mt)\n",
    "enem_ano['NU_NOTA_COMP1'] = np.where(enem_ano['TP_PRESENCA'] == 0, \"NaN\", c1)\n",
    "enem_ano['NU_NOTA_COMP2'] = np.where(enem_ano['TP_PRESENCA'] == 0, \"NaN\", c2)\n",
    "enem_ano['NU_NOTA_COMP3'] = np.where(enem_ano['TP_PRESENCA'] == 0, \"NaN\", c3)\n",
    "enem_ano['NU_NOTA_COMP4'] = np.where(enem_ano['TP_PRESENCA'] == 0, \"NaN\", c4)\n",
    "enem_ano['NU_NOTA_COMP5'] = np.where(enem_ano['TP_PRESENCA'] == 0, \"NaN\", c5)\n",
    "enem_ano['NU_NOTA_REDACAO'] = np.where(enem_ano['TP_PRESENCA'] == 0, \"NaN\", rd)\n",
    "\n",
    "#FORCANDO O TIPO DE VARIÁVEL\n",
    "enem_ano.NU_NOTA_CN = pd.to_numeric(enem_ano.NU_NOTA_CN, errors='coerce')\n",
    "enem_ano.NU_NOTA_CH = pd.to_numeric(enem_ano.NU_NOTA_CH, errors='coerce')\n",
    "enem_ano.NU_NOTA_LC = pd.to_numeric(enem_ano.NU_NOTA_LC, errors='coerce')\n",
    "enem_ano.NU_NOTA_MT = pd.to_numeric(enem_ano.NU_NOTA_MT, errors='coerce')\n",
    "enem_ano.NU_NOTA_COMP1 = pd.to_numeric(enem_ano.NU_NOTA_COMP1, errors='coerce')\n",
    "enem_ano.NU_NOTA_COMP2 = pd.to_numeric(enem_ano.NU_NOTA_COMP2, errors='coerce')\n",
    "enem_ano.NU_NOTA_COMP3 = pd.to_numeric(enem_ano.NU_NOTA_COMP3, errors='coerce')\n",
    "enem_ano.NU_NOTA_COMP4 = pd.to_numeric(enem_ano.NU_NOTA_COMP4, errors='coerce')\n",
    "enem_ano.NU_NOTA_COMP5 = pd.to_numeric(enem_ano.NU_NOTA_COMP5, errors='coerce')\n",
    "enem_ano.NU_NOTA_REDACAO = pd.to_numeric(enem_ano.NU_NOTA_REDACAO, errors='coerce')\n",
    "\n",
    "enem_ano[\"NU_NOTA_OBJETIVA\"] = enem_ano[['NU_NOTA_CN','NU_NOTA_CH','NU_NOTA_LC', 'NU_NOTA_MT']].mean(axis=1)\n",
    "\n",
    "\n",
    "enem_ano['Q1'] = enem_ano['Q1'].replace({'A':'Sem Estudo', 'B':'Fundamental Incompleto', 'C':'Fundamental Completo', 'D':'Ensino Medio Incompleto',\n",
    "                                        'E':'Ensino Medio Completo','F':'Superior Completo','G':'Pos-Graduacao', 'H': 'NI'})\n",
    "enem_ano['Q2'] = enem_ano['Q2'].replace({'A':'Sem Estudo', 'B':'Fundamental Incompleto', 'C':'Fundamental Completo', 'D':'Ensino Medio Incompleto',\n",
    "                                         'E':'Ensino Medio Completo','F':'Superior Completo','G':'Pos-Graduacao', 'H': 'NI'})\n",
    "\n",
    "\n",
    "enem_ano.to_csv(f'Data/enem_{ano}_standard.csv', index=False)"
   ]
  },
  {
   "cell_type": "markdown",
   "id": "7ac0a21c-4caa-49ec-b4fa-b6d3abe2337f",
   "metadata": {},
   "source": [
    "## 2014"
   ]
  },
  {
   "cell_type": "code",
   "execution_count": 51,
   "id": "7f6b104d-304e-48d3-9b81-ec2e2b2ed767",
   "metadata": {},
   "outputs": [
    {
     "data": {
      "text/plain": [
       "array(['NU_INSCRICAO', 'NU_ANO', 'TP_FAIXA_ETARIA', 'TP_SEXO',\n",
       "       'TP_ESTADO_CIVIL', 'TP_COR_RACA', 'TP_NACIONALIDADE',\n",
       "       'TP_ST_CONCLUSAO', 'TP_ANO_CONCLUIU', 'TP_ESCOLA', 'TP_ENSINO',\n",
       "       'CO_MUNICIPIO_ESC', 'NO_MUNICIPIO_ESC', 'CO_UF_ESC', 'SG_UF_ESC',\n",
       "       'TP_DEPENDENCIA_ADM_ESC', 'TP_LOCALIZACAO_ESC', 'TP_SIT_FUNC_ESC',\n",
       "       'IN_CERTIFICADO', 'NO_ENTIDADE_CERTIFICACAO',\n",
       "       'CO_UF_ENTIDADE_CERTIFICACAO', 'SG_UF_ENTIDADE_CERTIFICACAO',\n",
       "       'CO_MUNICIPIO_PROVA', 'NO_MUNICIPIO_PROVA', 'CO_UF_PROVA',\n",
       "       'SG_UF_PROVA', 'TP_PRESENCA_CN', 'TP_PRESENCA_CH',\n",
       "       'TP_PRESENCA_LC', 'TP_PRESENCA_MT', 'CO_PROVA_CN', 'CO_PROVA_CH',\n",
       "       'CO_PROVA_LC', 'CO_PROVA_MT', 'NU_NOTA_CN', 'NU_NOTA_CH',\n",
       "       'NU_NOTA_LC', 'NU_NOTA_MT', 'TX_RESPOSTAS_CN', 'TX_RESPOSTAS_CH',\n",
       "       'TX_RESPOSTAS_LC', 'TX_RESPOSTAS_MT', 'TP_LINGUA',\n",
       "       'TX_GABARITO_CN', 'TX_GABARITO_CH', 'TX_GABARITO_LC',\n",
       "       'TX_GABARITO_MT', 'TP_STATUS_REDACAO', 'NU_NOTA_COMP1',\n",
       "       'NU_NOTA_COMP2', 'NU_NOTA_COMP3', 'NU_NOTA_COMP4', 'NU_NOTA_COMP5',\n",
       "       'NU_NOTA_REDACAO', 'Q001', 'Q002', 'Q003', 'Q004', 'Q005', 'Q006',\n",
       "       'Q007', 'Q008', 'Q009', 'Q010', 'Q011', 'Q012', 'Q013', 'Q014',\n",
       "       'Q015', 'Q016', 'Q017', 'Q018', 'Q019', 'Q020', 'Q021', 'Q022',\n",
       "       'Q023', 'Q024', 'Q025', 'Q026', 'Q027', 'Q028', 'Q029', 'Q030',\n",
       "       'Q031', 'Q032', 'Q033', 'Q034', 'Q035', 'Q036', 'Q037', 'Q038',\n",
       "       'Q039', 'Q040', 'Q041', 'Q042', 'Q043', 'Q044', 'Q045', 'Q046',\n",
       "       'Q047', 'Q048', 'Q049', 'Q050', 'Q051', 'Q052', 'Q053', 'Q054',\n",
       "       'Q055', 'Q056', 'Q057', 'Q058', 'Q059', 'Q060', 'Q061', 'Q062',\n",
       "       'Q063', 'Q064', 'Q065', 'Q066', 'Q067', 'Q068', 'Q069', 'Q070',\n",
       "       'Q071', 'Q072', 'Q073', 'Q074', 'Q075', 'Q076'], dtype=object)"
      ]
     },
     "execution_count": 51,
     "metadata": {},
     "output_type": "execute_result"
    }
   ],
   "source": [
    "ano = 2014\n",
    "enem_ano = pd.read_csv(f'Data/enem_{ano}.csv',sep=',',encoding='ISO-8859-1');\n",
    "enem_ano.columns.values"
   ]
  },
  {
   "cell_type": "code",
   "execution_count": 52,
   "id": "17561feb-5c52-4c38-b52c-4d4b12e0ad90",
   "metadata": {},
   "outputs": [],
   "source": [
    "ano = 2014\n",
    "\n",
    "selecionadas_ano = ['NU_INSCRICAO', 'NU_ANO', 'TP_FAIXA_ETARIA', 'TP_SEXO','TP_COR_RACA',\n",
    "       'CO_MUNICIPIO_ESC', 'NO_MUNICIPIO_ESC',\n",
    "        'SG_UF_ESC', 'TP_DEPENDENCIA_ADM_ESC',\n",
    "       'TP_LINGUA',\n",
    "       'NU_NOTA_CN','NU_NOTA_CH','NU_NOTA_LC','NU_NOTA_MT',\n",
    "       'TP_STATUS_REDACAO', 'NU_NOTA_COMP1','NU_NOTA_COMP2', 'NU_NOTA_COMP3',\n",
    "       'NU_NOTA_COMP4', 'NU_NOTA_COMP5',\n",
    "       'NU_NOTA_REDACAO', 'Q001','Q002','Q004','Q003','Q016','Q010','Q017','TP_PRESENCA_MT']\n",
    "\n",
    "enem_ano = pd.read_csv(f'Data/enem_{ano}.csv',sep=',',encoding='ISO-8859-1', usecols=selecionadas_ano);\n",
    "\n",
    "enem_ano.rename(columns = {'Q001':'Q1', \n",
    "                           'Q002':'Q2',\n",
    "                           'Q004':'Q5',\n",
    "                           'Q003':'Q6',\n",
    "                           'Q016':'Q22',\n",
    "                           'Q010':'Q24',\n",
    "                           'Q017':'Q25',\n",
    "                           'UF_ESC': 'SG_UF_ESC'}, inplace = True)\n",
    "\n",
    "# FAZENDO UMA GAMBIARRA AQUI, CRIANDO O TP_PRESENCA A PARTIR DO DADO DO TP_PRESENCA_MT, q é no segundo dia.\n",
    "enem_ano.rename({'TP_PRESENCA_MT':'TP_PRESENCA'}, axis=1, inplace=True)\n",
    "\n",
    "\n",
    "# CALCULANDO A MEDIA \n",
    "cn = enem_ano['NU_NOTA_CN']; ch = enem_ano['NU_NOTA_CH']; lc = enem_ano['NU_NOTA_LC'];mt = enem_ano['NU_NOTA_MT'];  \n",
    "c1 = enem_ano['NU_NOTA_COMP1']; c2 = enem_ano['NU_NOTA_COMP2']; c3 = enem_ano['NU_NOTA_COMP3']; \n",
    "c4 = enem_ano['NU_NOTA_COMP1']; c5 = enem_ano['NU_NOTA_COMP1']; rd = enem_ano['NU_NOTA_REDACAO']; \n",
    "enem_ano['NU_NOTA_CN'] = np.where(enem_ano['TP_PRESENCA'] == 0, \"NaN\", cn)\n",
    "enem_ano['NU_NOTA_CH'] = np.where(enem_ano['TP_PRESENCA'] == 0, \"NaN\", ch)\n",
    "enem_ano['NU_NOTA_LC'] = np.where(enem_ano['TP_PRESENCA'] == 0, \"NaN\", lc)\n",
    "enem_ano['NU_NOTA_MT'] = np.where(enem_ano['TP_PRESENCA'] == 0, \"NaN\", mt)\n",
    "enem_ano['NU_NOTA_COMP1'] = np.where(enem_ano['TP_PRESENCA'] == 0, \"NaN\", c1)\n",
    "enem_ano['NU_NOTA_COMP2'] = np.where(enem_ano['TP_PRESENCA'] == 0, \"NaN\", c2)\n",
    "enem_ano['NU_NOTA_COMP3'] = np.where(enem_ano['TP_PRESENCA'] == 0, \"NaN\", c3)\n",
    "enem_ano['NU_NOTA_COMP4'] = np.where(enem_ano['TP_PRESENCA'] == 0, \"NaN\", c4)\n",
    "enem_ano['NU_NOTA_COMP5'] = np.where(enem_ano['TP_PRESENCA'] == 0, \"NaN\", c5)\n",
    "enem_ano['NU_NOTA_REDACAO'] = np.where(enem_ano['TP_PRESENCA'] == 0, \"NaN\", rd)\n",
    "\n",
    "#FORCANDO O TIPO DE VARIÁVEL\n",
    "enem_ano.NU_NOTA_CN = pd.to_numeric(enem_ano.NU_NOTA_CN, errors='coerce')\n",
    "enem_ano.NU_NOTA_CH = pd.to_numeric(enem_ano.NU_NOTA_CH, errors='coerce')\n",
    "enem_ano.NU_NOTA_LC = pd.to_numeric(enem_ano.NU_NOTA_LC, errors='coerce')\n",
    "enem_ano.NU_NOTA_MT = pd.to_numeric(enem_ano.NU_NOTA_MT, errors='coerce')\n",
    "enem_ano.NU_NOTA_COMP1 = pd.to_numeric(enem_ano.NU_NOTA_COMP1, errors='coerce')\n",
    "enem_ano.NU_NOTA_COMP2 = pd.to_numeric(enem_ano.NU_NOTA_COMP2, errors='coerce')\n",
    "enem_ano.NU_NOTA_COMP3 = pd.to_numeric(enem_ano.NU_NOTA_COMP3, errors='coerce')\n",
    "enem_ano.NU_NOTA_COMP4 = pd.to_numeric(enem_ano.NU_NOTA_COMP4, errors='coerce')\n",
    "enem_ano.NU_NOTA_COMP5 = pd.to_numeric(enem_ano.NU_NOTA_COMP5, errors='coerce')\n",
    "enem_ano.NU_NOTA_REDACAO = pd.to_numeric(enem_ano.NU_NOTA_REDACAO, errors='coerce')\n",
    "\n",
    "enem_ano[\"NU_NOTA_OBJETIVA\"] = enem_ano[['NU_NOTA_CN','NU_NOTA_CH','NU_NOTA_LC', 'NU_NOTA_MT']].mean(axis=1)\n",
    "\n",
    "\n",
    "enem_ano['Q1'] = enem_ano['Q1'].replace({'A':'Sem Estudo', 'B':'Fundamental Incompleto', 'C':'Fundamental Completo', 'D':'Ensino Medio Incompleto',\n",
    "                                        'E':'Ensino Medio Completo','F':'Superior Completo','G':'Pos-Graduacao', 'H': 'NI'})\n",
    "enem_ano['Q2'] = enem_ano['Q2'].replace({'A':'Sem Estudo', 'B':'Fundamental Incompleto', 'C':'Fundamental Completo', 'D':'Ensino Medio Incompleto',\n",
    "                                         'E':'Ensino Medio Completo','F':'Superior Completo','G':'Pos-Graduacao', 'H': 'NI'})\n",
    "\n",
    "\n",
    "enem_ano.to_csv(f'Data/enem_{ano}_standard.csv', index=False)"
   ]
  },
  {
   "cell_type": "markdown",
   "id": "79ff2d7a-73f6-4151-9c27-5a5f217f0cbe",
   "metadata": {},
   "source": [
    "## 2015"
   ]
  },
  {
   "cell_type": "code",
   "execution_count": 53,
   "id": "464386bd-a089-41e1-abde-9c2666420b3f",
   "metadata": {},
   "outputs": [
    {
     "data": {
      "text/plain": [
       "array(['NU_INSCRICAO', 'NU_ANO', 'TP_FAIXA_ETARIA', 'TP_SEXO',\n",
       "       'TP_ESTADO_CIVIL', 'TP_COR_RACA', 'TP_NACIONALIDADE',\n",
       "       'TP_ST_CONCLUSAO', 'TP_ANO_CONCLUIU', 'TP_ESCOLA', 'TP_ENSINO',\n",
       "       'IN_TREINEIRO', 'CO_MUNICIPIO_ESC', 'NO_MUNICIPIO_ESC',\n",
       "       'CO_UF_ESC', 'SG_UF_ESC', 'TP_DEPENDENCIA_ADM_ESC',\n",
       "       'TP_LOCALIZACAO_ESC', 'TP_SIT_FUNC_ESC', 'CO_MUNICIPIO_PROVA',\n",
       "       'NO_MUNICIPIO_PROVA', 'CO_UF_PROVA', 'SG_UF_PROVA',\n",
       "       'TP_PRESENCA_CN', 'TP_PRESENCA_CH', 'TP_PRESENCA_LC',\n",
       "       'TP_PRESENCA_MT', 'CO_PROVA_CN', 'CO_PROVA_CH', 'CO_PROVA_LC',\n",
       "       'CO_PROVA_MT', 'NU_NOTA_CN', 'NU_NOTA_CH', 'NU_NOTA_LC',\n",
       "       'NU_NOTA_MT', 'TX_RESPOSTAS_CN', 'TX_RESPOSTAS_CH',\n",
       "       'TX_RESPOSTAS_LC', 'TX_RESPOSTAS_MT', 'TP_LINGUA',\n",
       "       'TX_GABARITO_CN', 'TX_GABARITO_CH', 'TX_GABARITO_LC',\n",
       "       'TX_GABARITO_MT', 'TP_STATUS_REDACAO', 'NU_NOTA_COMP1',\n",
       "       'NU_NOTA_COMP2', 'NU_NOTA_COMP3', 'NU_NOTA_COMP4', 'NU_NOTA_COMP5',\n",
       "       'NU_NOTA_REDACAO', 'Q001', 'Q002', 'Q003', 'Q004', 'Q005', 'Q006',\n",
       "       'Q007', 'Q008', 'Q009', 'Q010', 'Q011', 'Q012', 'Q013', 'Q014',\n",
       "       'Q015', 'Q016', 'Q017', 'Q018', 'Q019', 'Q020', 'Q021', 'Q022',\n",
       "       'Q023', 'Q024', 'Q025'], dtype=object)"
      ]
     },
     "execution_count": 53,
     "metadata": {},
     "output_type": "execute_result"
    }
   ],
   "source": [
    "ano = 2015\n",
    "enem_ano = pd.read_csv(f'Data/enem_{ano}.csv',sep=',',encoding='ISO-8859-1');\n",
    "enem_ano.columns.values"
   ]
  },
  {
   "cell_type": "code",
   "execution_count": 54,
   "id": "43e6d86e-98ed-4643-ae0a-fd66cecb7b16",
   "metadata": {},
   "outputs": [],
   "source": [
    "ano = 2015\n",
    "\n",
    "selecionadas_ano = ['NU_INSCRICAO', 'NU_ANO', 'TP_FAIXA_ETARIA', 'TP_SEXO','TP_COR_RACA',\n",
    "       'CO_MUNICIPIO_ESC', 'NO_MUNICIPIO_ESC',\n",
    "        'SG_UF_ESC', 'TP_DEPENDENCIA_ADM_ESC',\n",
    "       'TP_LINGUA',\n",
    "       'NU_NOTA_CN','NU_NOTA_CH','NU_NOTA_LC','NU_NOTA_MT',\n",
    "       'TP_STATUS_REDACAO', 'NU_NOTA_COMP1','NU_NOTA_COMP2', 'NU_NOTA_COMP3',\n",
    "       'NU_NOTA_COMP4', 'NU_NOTA_COMP5',\n",
    "       'NU_NOTA_REDACAO', 'Q001','Q002','Q005','Q006','Q022','Q024','Q025','TP_PRESENCA_MT']\n",
    "\n",
    "enem_ano = pd.read_csv(f'Data/enem_{ano}.csv',sep=',',encoding='ISO-8859-1', usecols=selecionadas_ano);\n",
    "\n",
    "\n",
    "enem_ano.rename(columns = {'Q001':'Q1', \n",
    "                           'Q002':'Q2',\n",
    "                           'Q005':'Q5',\n",
    "                           'Q006':'Q6',\n",
    "                           'Q022':'Q22',\n",
    "                           'Q024':'Q24',\n",
    "                           'Q025':'Q25'}, inplace = True)\n",
    "\n",
    "# FAZENDO UMA GAMBIARRA AQUI, CRIANDO O TP_PRESENCA A PARTIR DO DADO DO TP_PRESENCA_MT, q é no segundo dia.\n",
    "enem_ano.rename({'TP_PRESENCA_MT':'TP_PRESENCA'}, axis=1, inplace=True)\n",
    "\n",
    "\n",
    "# CALCULANDO A MEDIA \n",
    "cn = enem_ano['NU_NOTA_CN']; ch = enem_ano['NU_NOTA_CH']; lc = enem_ano['NU_NOTA_LC'];mt = enem_ano['NU_NOTA_MT'];  \n",
    "c1 = enem_ano['NU_NOTA_COMP1']; c2 = enem_ano['NU_NOTA_COMP2']; c3 = enem_ano['NU_NOTA_COMP3']; \n",
    "c4 = enem_ano['NU_NOTA_COMP1']; c5 = enem_ano['NU_NOTA_COMP1']; rd = enem_ano['NU_NOTA_REDACAO']; \n",
    "enem_ano['NU_NOTA_CN'] = np.where(enem_ano['TP_PRESENCA'] == 0, \"NaN\", cn)\n",
    "enem_ano['NU_NOTA_CH'] = np.where(enem_ano['TP_PRESENCA'] == 0, \"NaN\", ch)\n",
    "enem_ano['NU_NOTA_LC'] = np.where(enem_ano['TP_PRESENCA'] == 0, \"NaN\", lc)\n",
    "enem_ano['NU_NOTA_MT'] = np.where(enem_ano['TP_PRESENCA'] == 0, \"NaN\", mt)\n",
    "enem_ano['NU_NOTA_COMP1'] = np.where(enem_ano['TP_PRESENCA'] == 0, \"NaN\", c1)\n",
    "enem_ano['NU_NOTA_COMP2'] = np.where(enem_ano['TP_PRESENCA'] == 0, \"NaN\", c2)\n",
    "enem_ano['NU_NOTA_COMP3'] = np.where(enem_ano['TP_PRESENCA'] == 0, \"NaN\", c3)\n",
    "enem_ano['NU_NOTA_COMP4'] = np.where(enem_ano['TP_PRESENCA'] == 0, \"NaN\", c4)\n",
    "enem_ano['NU_NOTA_COMP5'] = np.where(enem_ano['TP_PRESENCA'] == 0, \"NaN\", c5)\n",
    "enem_ano['NU_NOTA_REDACAO'] = np.where(enem_ano['TP_PRESENCA'] == 0, \"NaN\", rd)\n",
    "\n",
    "#FORCANDO O TIPO DE VARIÁVEL\n",
    "enem_ano.NU_NOTA_CN = pd.to_numeric(enem_ano.NU_NOTA_CN, errors='coerce')\n",
    "enem_ano.NU_NOTA_CH = pd.to_numeric(enem_ano.NU_NOTA_CH, errors='coerce')\n",
    "enem_ano.NU_NOTA_LC = pd.to_numeric(enem_ano.NU_NOTA_LC, errors='coerce')\n",
    "enem_ano.NU_NOTA_MT = pd.to_numeric(enem_ano.NU_NOTA_MT, errors='coerce')\n",
    "enem_ano.NU_NOTA_COMP1 = pd.to_numeric(enem_ano.NU_NOTA_COMP1, errors='coerce')\n",
    "enem_ano.NU_NOTA_COMP2 = pd.to_numeric(enem_ano.NU_NOTA_COMP2, errors='coerce')\n",
    "enem_ano.NU_NOTA_COMP3 = pd.to_numeric(enem_ano.NU_NOTA_COMP3, errors='coerce')\n",
    "enem_ano.NU_NOTA_COMP4 = pd.to_numeric(enem_ano.NU_NOTA_COMP4, errors='coerce')\n",
    "enem_ano.NU_NOTA_COMP5 = pd.to_numeric(enem_ano.NU_NOTA_COMP5, errors='coerce')\n",
    "enem_ano.NU_NOTA_REDACAO = pd.to_numeric(enem_ano.NU_NOTA_REDACAO, errors='coerce')\n",
    "\n",
    "enem_ano[\"NU_NOTA_OBJETIVA\"] = enem_ano[['NU_NOTA_CN','NU_NOTA_CH','NU_NOTA_LC', 'NU_NOTA_MT']].mean(axis=1)\n",
    "\n",
    "\n",
    "enem_ano['Q1'] = enem_ano['Q1'].replace({'A':'Sem Estudo', 'B':'Fundamental Incompleto', 'C':'Fundamental Completo', 'D':'Ensino Medio Incompleto',\n",
    "                                        'E':'Ensino Medio Completo','F':'Superior Completo','G':'Pos-Graduacao', 'H': 'NI'})\n",
    "enem_ano['Q2'] = enem_ano['Q2'].replace({'A':'Sem Estudo', 'B':'Fundamental Incompleto', 'C':'Fundamental Completo', 'D':'Ensino Medio Incompleto',\n",
    "                                         'E':'Ensino Medio Completo','F':'Superior Completo','G':'Pos-Graduacao', 'H': 'NI'})\n",
    "\n",
    "\n",
    "enem_ano.to_csv(f'Data/enem_{ano}_standard.csv', index=False)\n"
   ]
  },
  {
   "cell_type": "markdown",
   "id": "7baab5a0-eb3b-4bc2-8d24-801b77df2ed9",
   "metadata": {},
   "source": [
    "## 2016"
   ]
  },
  {
   "cell_type": "code",
   "execution_count": 55,
   "id": "203e2d2a-2338-4cf0-ba8a-8f75a5495391",
   "metadata": {},
   "outputs": [
    {
     "data": {
      "text/plain": [
       "array(['NU_INSCRICAO', 'NU_ANO', 'TP_FAIXA_ETARIA', 'TP_SEXO',\n",
       "       'TP_ESTADO_CIVIL', 'TP_COR_RACA', 'TP_NACIONALIDADE',\n",
       "       'TP_ST_CONCLUSAO', 'TP_ANO_CONCLUIU', 'TP_ESCOLA', 'TP_ENSINO',\n",
       "       'IN_TREINEIRO', 'CO_MUNICIPIO_ESC', 'NO_MUNICIPIO_ESC',\n",
       "       'CO_UF_ESC', 'SG_UF_ESC', 'TP_DEPENDENCIA_ADM_ESC',\n",
       "       'TP_LOCALIZACAO_ESC', 'TP_SIT_FUNC_ESC', 'CO_MUNICIPIO_PROVA',\n",
       "       'NO_MUNICIPIO_PROVA', 'CO_UF_PROVA', 'SG_UF_PROVA',\n",
       "       'TP_PRESENCA_CN', 'TP_PRESENCA_CH', 'TP_PRESENCA_LC',\n",
       "       'TP_PRESENCA_MT', 'CO_PROVA_CN', 'CO_PROVA_CH', 'CO_PROVA_LC',\n",
       "       'CO_PROVA_MT', 'NU_NOTA_CN', 'NU_NOTA_CH', 'NU_NOTA_LC',\n",
       "       'NU_NOTA_MT', 'TX_RESPOSTAS_CN', 'TX_RESPOSTAS_CH',\n",
       "       'TX_RESPOSTAS_LC', 'TX_RESPOSTAS_MT', 'TP_LINGUA',\n",
       "       'TX_GABARITO_CN', 'TX_GABARITO_CH', 'TX_GABARITO_LC',\n",
       "       'TX_GABARITO_MT', 'TP_STATUS_REDACAO', 'NU_NOTA_COMP1',\n",
       "       'NU_NOTA_COMP2', 'NU_NOTA_COMP3', 'NU_NOTA_COMP4', 'NU_NOTA_COMP5',\n",
       "       'NU_NOTA_REDACAO', 'Q001', 'Q002', 'Q003', 'Q004', 'Q005', 'Q006',\n",
       "       'Q007', 'Q008', 'Q009', 'Q010', 'Q011', 'Q012', 'Q013', 'Q014',\n",
       "       'Q015', 'Q016', 'Q017', 'Q018', 'Q019', 'Q020', 'Q021', 'Q022',\n",
       "       'Q023', 'Q024', 'Q025'], dtype=object)"
      ]
     },
     "execution_count": 55,
     "metadata": {},
     "output_type": "execute_result"
    }
   ],
   "source": [
    "ano = 2016\n",
    "enem_ano = pd.read_csv(f'Data/enem_{ano}.csv',sep=',',encoding='ISO-8859-1');\n",
    "enem_ano.columns.values"
   ]
  },
  {
   "cell_type": "code",
   "execution_count": 56,
   "id": "b93314dc-e9cb-418f-9391-d2ec037e1970",
   "metadata": {},
   "outputs": [],
   "source": [
    "ano = 2016\n",
    "\n",
    "selecionadas_ano = ['NU_INSCRICAO', 'NU_ANO', 'TP_FAIXA_ETARIA', 'TP_SEXO','TP_COR_RACA',\n",
    "       'CO_MUNICIPIO_ESC', 'NO_MUNICIPIO_ESC',\n",
    "        'SG_UF_ESC', 'TP_DEPENDENCIA_ADM_ESC',\n",
    "       'TP_LINGUA',\n",
    "       'NU_NOTA_CN','NU_NOTA_CH','NU_NOTA_LC','NU_NOTA_MT',\n",
    "       'TP_STATUS_REDACAO', 'NU_NOTA_COMP1','NU_NOTA_COMP2', 'NU_NOTA_COMP3',\n",
    "       'NU_NOTA_COMP4', 'NU_NOTA_COMP5',\n",
    "       'NU_NOTA_REDACAO', 'Q001','Q002','Q005','Q006','Q022','Q024','Q025','TP_PRESENCA_MT']\n",
    "\n",
    "enem_ano = pd.read_csv(f'Data/enem_{ano}.csv',sep=',',encoding='ISO-8859-1', usecols=selecionadas_ano);\n",
    "\n",
    "enem_ano.rename(columns = {'Q001':'Q1', \n",
    "                           'Q002':'Q2',\n",
    "                           'Q005':'Q5',\n",
    "                           'Q006':'Q6',\n",
    "                           'Q022':'Q22',\n",
    "                           'Q024':'Q24',\n",
    "                           'Q025':'Q25'}, inplace = True)\n",
    "\n",
    "# FAZENDO UMA GAMBIARRA AQUI, CRIANDO O TP_PRESENCA A PARTIR DO DADO DO TP_PRESENCA_MT, q é no segundo dia.\n",
    "enem_ano.rename({'TP_PRESENCA_MT':'TP_PRESENCA'}, axis=1, inplace=True)\n",
    "\n",
    "\n",
    "# CALCULANDO A MEDIA \n",
    "cn = enem_ano['NU_NOTA_CN']; ch = enem_ano['NU_NOTA_CH']; lc = enem_ano['NU_NOTA_LC'];mt = enem_ano['NU_NOTA_MT'];  \n",
    "c1 = enem_ano['NU_NOTA_COMP1']; c2 = enem_ano['NU_NOTA_COMP2']; c3 = enem_ano['NU_NOTA_COMP3']; \n",
    "c4 = enem_ano['NU_NOTA_COMP1']; c5 = enem_ano['NU_NOTA_COMP1']; rd = enem_ano['NU_NOTA_REDACAO']; \n",
    "enem_ano['NU_NOTA_CN'] = np.where(enem_ano['TP_PRESENCA'] == 0, \"NaN\", cn)\n",
    "enem_ano['NU_NOTA_CH'] = np.where(enem_ano['TP_PRESENCA'] == 0, \"NaN\", ch)\n",
    "enem_ano['NU_NOTA_LC'] = np.where(enem_ano['TP_PRESENCA'] == 0, \"NaN\", lc)\n",
    "enem_ano['NU_NOTA_MT'] = np.where(enem_ano['TP_PRESENCA'] == 0, \"NaN\", mt)\n",
    "enem_ano['NU_NOTA_COMP1'] = np.where(enem_ano['TP_PRESENCA'] == 0, \"NaN\", c1)\n",
    "enem_ano['NU_NOTA_COMP2'] = np.where(enem_ano['TP_PRESENCA'] == 0, \"NaN\", c2)\n",
    "enem_ano['NU_NOTA_COMP3'] = np.where(enem_ano['TP_PRESENCA'] == 0, \"NaN\", c3)\n",
    "enem_ano['NU_NOTA_COMP4'] = np.where(enem_ano['TP_PRESENCA'] == 0, \"NaN\", c4)\n",
    "enem_ano['NU_NOTA_COMP5'] = np.where(enem_ano['TP_PRESENCA'] == 0, \"NaN\", c5)\n",
    "enem_ano['NU_NOTA_REDACAO'] = np.where(enem_ano['TP_PRESENCA'] == 0, \"NaN\", rd)\n",
    "\n",
    "#FORCANDO O TIPO DE VARIÁVEL\n",
    "enem_ano.NU_NOTA_CN = pd.to_numeric(enem_ano.NU_NOTA_CN, errors='coerce')\n",
    "enem_ano.NU_NOTA_CH = pd.to_numeric(enem_ano.NU_NOTA_CH, errors='coerce')\n",
    "enem_ano.NU_NOTA_LC = pd.to_numeric(enem_ano.NU_NOTA_LC, errors='coerce')\n",
    "enem_ano.NU_NOTA_MT = pd.to_numeric(enem_ano.NU_NOTA_MT, errors='coerce')\n",
    "enem_ano.NU_NOTA_COMP1 = pd.to_numeric(enem_ano.NU_NOTA_COMP1, errors='coerce')\n",
    "enem_ano.NU_NOTA_COMP2 = pd.to_numeric(enem_ano.NU_NOTA_COMP2, errors='coerce')\n",
    "enem_ano.NU_NOTA_COMP3 = pd.to_numeric(enem_ano.NU_NOTA_COMP3, errors='coerce')\n",
    "enem_ano.NU_NOTA_COMP4 = pd.to_numeric(enem_ano.NU_NOTA_COMP4, errors='coerce')\n",
    "enem_ano.NU_NOTA_COMP5 = pd.to_numeric(enem_ano.NU_NOTA_COMP5, errors='coerce')\n",
    "enem_ano.NU_NOTA_REDACAO = pd.to_numeric(enem_ano.NU_NOTA_REDACAO, errors='coerce')\n",
    "\n",
    "enem_ano[\"NU_NOTA_OBJETIVA\"] = enem_ano[['NU_NOTA_CN','NU_NOTA_CH','NU_NOTA_LC', 'NU_NOTA_MT']].mean(axis=1)\n",
    "\n",
    "\n",
    "enem_ano['Q1'] = enem_ano['Q1'].replace({'A':'Sem Estudo', 'B':'Fundamental Incompleto', 'C':'Fundamental Completo', 'D':'Ensino Medio Incompleto',\n",
    "                                        'E':'Ensino Medio Completo','F':'Superior Completo','G':'Pos-Graduacao', 'H': 'NI'})\n",
    "enem_ano['Q2'] = enem_ano['Q2'].replace({'A':'Sem Estudo', 'B':'Fundamental Incompleto', 'C':'Fundamental Completo', 'D':'Ensino Medio Incompleto',\n",
    "                                         'E':'Ensino Medio Completo','F':'Superior Completo','G':'Pos-Graduacao', 'H': 'NI'})\n",
    "\n",
    "enem_ano.to_csv(f'Data/enem_{ano}_standard.csv', index=False)"
   ]
  },
  {
   "cell_type": "markdown",
   "id": "6b693886-88a3-4ebb-83b2-831f78e05767",
   "metadata": {},
   "source": [
    "## 2017"
   ]
  },
  {
   "cell_type": "code",
   "execution_count": 57,
   "id": "58b1d75e-068f-438f-b275-97a02be3e5c7",
   "metadata": {},
   "outputs": [],
   "source": [
    "ano = 2017\n",
    "\n",
    "selecionadas_ano = ['NU_INSCRICAO', 'NU_ANO', 'TP_FAIXA_ETARIA', 'TP_SEXO','TP_COR_RACA',\n",
    "       'CO_MUNICIPIO_ESC', 'NO_MUNICIPIO_ESC',\n",
    "        'SG_UF_ESC', 'TP_DEPENDENCIA_ADM_ESC',\n",
    "       'TP_LINGUA',\n",
    "       'NU_NOTA_CN','NU_NOTA_CH','NU_NOTA_LC','NU_NOTA_MT',\n",
    "       'TP_STATUS_REDACAO', 'NU_NOTA_COMP1','NU_NOTA_COMP2', 'NU_NOTA_COMP3',\n",
    "       'NU_NOTA_COMP4', 'NU_NOTA_COMP5',\n",
    "       'NU_NOTA_REDACAO', 'Q001','Q002','Q005','Q006','Q022','Q024','Q025','TP_PRESENCA_MT']\n",
    "\n",
    "enem_ano = pd.read_csv(f'Data/enem_{ano}.csv',sep=',',encoding='ISO-8859-1', usecols=selecionadas_ano);\n",
    "\n",
    "enem_ano.rename(columns = {'Q001':'Q1', \n",
    "                           'Q002':'Q2',\n",
    "                           'Q005':'Q5',\n",
    "                           'Q006':'Q6',\n",
    "                           'Q022':'Q22',\n",
    "                           'Q024':'Q24',\n",
    "                           'Q025':'Q25'}, inplace = True)\n",
    "\n",
    "# FAZENDO UMA GAMBIARRA AQUI, CRIANDO O TP_PRESENCA A PARTIR DO DADO DO TP_PRESENCA_MT, q é no segundo dia.\n",
    "enem_ano.rename({'TP_PRESENCA_MT':'TP_PRESENCA'}, axis=1, inplace=True)\n",
    "\n",
    "\n",
    "# CALCULANDO A MEDIA \n",
    "cn = enem_ano['NU_NOTA_CN']; ch = enem_ano['NU_NOTA_CH']; lc = enem_ano['NU_NOTA_LC'];mt = enem_ano['NU_NOTA_MT'];  \n",
    "c1 = enem_ano['NU_NOTA_COMP1']; c2 = enem_ano['NU_NOTA_COMP2']; c3 = enem_ano['NU_NOTA_COMP3']; \n",
    "c4 = enem_ano['NU_NOTA_COMP1']; c5 = enem_ano['NU_NOTA_COMP1']; rd = enem_ano['NU_NOTA_REDACAO']; \n",
    "enem_ano['NU_NOTA_CN'] = np.where(enem_ano['TP_PRESENCA'] == 0, \"NaN\", cn)\n",
    "enem_ano['NU_NOTA_CH'] = np.where(enem_ano['TP_PRESENCA'] == 0, \"NaN\", ch)\n",
    "enem_ano['NU_NOTA_LC'] = np.where(enem_ano['TP_PRESENCA'] == 0, \"NaN\", lc)\n",
    "enem_ano['NU_NOTA_MT'] = np.where(enem_ano['TP_PRESENCA'] == 0, \"NaN\", mt)\n",
    "enem_ano['NU_NOTA_COMP1'] = np.where(enem_ano['TP_PRESENCA'] == 0, \"NaN\", c1)\n",
    "enem_ano['NU_NOTA_COMP2'] = np.where(enem_ano['TP_PRESENCA'] == 0, \"NaN\", c2)\n",
    "enem_ano['NU_NOTA_COMP3'] = np.where(enem_ano['TP_PRESENCA'] == 0, \"NaN\", c3)\n",
    "enem_ano['NU_NOTA_COMP4'] = np.where(enem_ano['TP_PRESENCA'] == 0, \"NaN\", c4)\n",
    "enem_ano['NU_NOTA_COMP5'] = np.where(enem_ano['TP_PRESENCA'] == 0, \"NaN\", c5)\n",
    "enem_ano['NU_NOTA_REDACAO'] = np.where(enem_ano['TP_PRESENCA'] == 0, \"NaN\", rd)\n",
    "\n",
    "#FORCANDO O TIPO DE VARIÁVEL\n",
    "enem_ano.NU_NOTA_CN = pd.to_numeric(enem_ano.NU_NOTA_CN, errors='coerce')\n",
    "enem_ano.NU_NOTA_CH = pd.to_numeric(enem_ano.NU_NOTA_CH, errors='coerce')\n",
    "enem_ano.NU_NOTA_LC = pd.to_numeric(enem_ano.NU_NOTA_LC, errors='coerce')\n",
    "enem_ano.NU_NOTA_MT = pd.to_numeric(enem_ano.NU_NOTA_MT, errors='coerce')\n",
    "enem_ano.NU_NOTA_COMP1 = pd.to_numeric(enem_ano.NU_NOTA_COMP1, errors='coerce')\n",
    "enem_ano.NU_NOTA_COMP2 = pd.to_numeric(enem_ano.NU_NOTA_COMP2, errors='coerce')\n",
    "enem_ano.NU_NOTA_COMP3 = pd.to_numeric(enem_ano.NU_NOTA_COMP3, errors='coerce')\n",
    "enem_ano.NU_NOTA_COMP4 = pd.to_numeric(enem_ano.NU_NOTA_COMP4, errors='coerce')\n",
    "enem_ano.NU_NOTA_COMP5 = pd.to_numeric(enem_ano.NU_NOTA_COMP5, errors='coerce')\n",
    "enem_ano.NU_NOTA_REDACAO = pd.to_numeric(enem_ano.NU_NOTA_REDACAO, errors='coerce')\n",
    "\n",
    "enem_ano[\"NU_NOTA_OBJETIVA\"] = enem_ano[['NU_NOTA_CN','NU_NOTA_CH','NU_NOTA_LC', 'NU_NOTA_MT']].mean(axis=1)\n",
    "\n",
    "\n",
    "enem_ano['Q1'] = enem_ano['Q1'].replace({'A':'Sem Estudo', 'B':'Fundamental Incompleto', 'C':'Fundamental Completo', 'D':'Ensino Medio Incompleto',\n",
    "                                        'E':'Ensino Medio Completo','F':'Superior Completo','G':'Pos-Graduacao', 'H': 'NI'})\n",
    "enem_ano['Q2'] = enem_ano['Q2'].replace({'A':'Sem Estudo', 'B':'Fundamental Incompleto', 'C':'Fundamental Completo', 'D':'Ensino Medio Incompleto',\n",
    "                                         'E':'Ensino Medio Completo','F':'Superior Completo','G':'Pos-Graduacao', 'H': 'NI'})\n",
    "\n",
    "\n",
    "enem_ano.to_csv(f'Data/enem_{ano}_standard.csv', index=False)"
   ]
  },
  {
   "cell_type": "markdown",
   "id": "53481cb3-5204-4249-bbe8-89d0891d2fc0",
   "metadata": {},
   "source": [
    "# 2018"
   ]
  },
  {
   "cell_type": "code",
   "execution_count": 58,
   "id": "f29328cb-7930-4645-884e-174c8ed664bf",
   "metadata": {},
   "outputs": [],
   "source": [
    "ano = 2018\n",
    "\n",
    "selecionadas_ano = ['NU_INSCRICAO', 'NU_ANO', 'TP_FAIXA_ETARIA', 'TP_SEXO','TP_COR_RACA',\n",
    "       'CO_MUNICIPIO_ESC', 'NO_MUNICIPIO_ESC',\n",
    "        'SG_UF_ESC', 'TP_DEPENDENCIA_ADM_ESC',\n",
    "       'TP_LINGUA',\n",
    "       'NU_NOTA_CN','NU_NOTA_CH','NU_NOTA_LC','NU_NOTA_MT',\n",
    "       'TP_STATUS_REDACAO', 'NU_NOTA_COMP1','NU_NOTA_COMP2', 'NU_NOTA_COMP3',\n",
    "       'NU_NOTA_COMP4', 'NU_NOTA_COMP5',\n",
    "       'NU_NOTA_REDACAO', 'Q001','Q002','Q005','Q006','Q022','Q024','Q025','TP_PRESENCA_MT']\n",
    "\n",
    "enem_ano = pd.read_csv(f'Data/enem_{ano}.csv',sep=',',encoding='ISO-8859-1', usecols=selecionadas_ano);\n",
    "\n",
    "enem_ano.rename(columns = {'Q001':'Q1', \n",
    "                           'Q002':'Q2',\n",
    "                           'Q005':'Q5',\n",
    "                           'Q006':'Q6',\n",
    "                           'Q022':'Q22',\n",
    "                           'Q024':'Q24',\n",
    "                           'Q025':'Q25'}, inplace = True)\n",
    "\n",
    "# FAZENDO UMA GAMBIARRA AQUI, CRIANDO O TP_PRESENCA A PARTIR DO DADO DO TP_PRESENCA_MT, q é no segundo dia.\n",
    "enem_ano.rename({'TP_PRESENCA_MT':'TP_PRESENCA'}, axis=1, inplace=True)\n",
    "\n",
    "\n",
    "# CALCULANDO A MEDIA \n",
    "cn = enem_ano['NU_NOTA_CN']; ch = enem_ano['NU_NOTA_CH']; lc = enem_ano['NU_NOTA_LC'];mt = enem_ano['NU_NOTA_MT'];  \n",
    "c1 = enem_ano['NU_NOTA_COMP1']; c2 = enem_ano['NU_NOTA_COMP2']; c3 = enem_ano['NU_NOTA_COMP3']; \n",
    "c4 = enem_ano['NU_NOTA_COMP1']; c5 = enem_ano['NU_NOTA_COMP1']; rd = enem_ano['NU_NOTA_REDACAO']; \n",
    "enem_ano['NU_NOTA_CN'] = np.where(enem_ano['TP_PRESENCA'] == 0, \"NaN\", cn)\n",
    "enem_ano['NU_NOTA_CH'] = np.where(enem_ano['TP_PRESENCA'] == 0, \"NaN\", ch)\n",
    "enem_ano['NU_NOTA_LC'] = np.where(enem_ano['TP_PRESENCA'] == 0, \"NaN\", lc)\n",
    "enem_ano['NU_NOTA_MT'] = np.where(enem_ano['TP_PRESENCA'] == 0, \"NaN\", mt)\n",
    "enem_ano['NU_NOTA_COMP1'] = np.where(enem_ano['TP_PRESENCA'] == 0, \"NaN\", c1)\n",
    "enem_ano['NU_NOTA_COMP2'] = np.where(enem_ano['TP_PRESENCA'] == 0, \"NaN\", c2)\n",
    "enem_ano['NU_NOTA_COMP3'] = np.where(enem_ano['TP_PRESENCA'] == 0, \"NaN\", c3)\n",
    "enem_ano['NU_NOTA_COMP4'] = np.where(enem_ano['TP_PRESENCA'] == 0, \"NaN\", c4)\n",
    "enem_ano['NU_NOTA_COMP5'] = np.where(enem_ano['TP_PRESENCA'] == 0, \"NaN\", c5)\n",
    "enem_ano['NU_NOTA_REDACAO'] = np.where(enem_ano['TP_PRESENCA'] == 0, \"NaN\", rd)\n",
    "\n",
    "#FORCANDO O TIPO DE VARIÁVEL\n",
    "enem_ano.NU_NOTA_CN = pd.to_numeric(enem_ano.NU_NOTA_CN, errors='coerce')\n",
    "enem_ano.NU_NOTA_CH = pd.to_numeric(enem_ano.NU_NOTA_CH, errors='coerce')\n",
    "enem_ano.NU_NOTA_LC = pd.to_numeric(enem_ano.NU_NOTA_LC, errors='coerce')\n",
    "enem_ano.NU_NOTA_MT = pd.to_numeric(enem_ano.NU_NOTA_MT, errors='coerce')\n",
    "enem_ano.NU_NOTA_COMP1 = pd.to_numeric(enem_ano.NU_NOTA_COMP1, errors='coerce')\n",
    "enem_ano.NU_NOTA_COMP2 = pd.to_numeric(enem_ano.NU_NOTA_COMP2, errors='coerce')\n",
    "enem_ano.NU_NOTA_COMP3 = pd.to_numeric(enem_ano.NU_NOTA_COMP3, errors='coerce')\n",
    "enem_ano.NU_NOTA_COMP4 = pd.to_numeric(enem_ano.NU_NOTA_COMP4, errors='coerce')\n",
    "enem_ano.NU_NOTA_COMP5 = pd.to_numeric(enem_ano.NU_NOTA_COMP5, errors='coerce')\n",
    "enem_ano.NU_NOTA_REDACAO = pd.to_numeric(enem_ano.NU_NOTA_REDACAO, errors='coerce')\n",
    "\n",
    "enem_ano[\"NU_NOTA_OBJETIVA\"] = enem_ano[['NU_NOTA_CN','NU_NOTA_CH','NU_NOTA_LC', 'NU_NOTA_MT']].mean(axis=1)\n",
    "\n",
    "\n",
    "enem_ano['Q1'] = enem_ano['Q1'].replace({'A':'Sem Estudo', 'B':'Fundamental Incompleto', 'C':'Fundamental Completo', 'D':'Ensino Medio Incompleto',\n",
    "                                        'E':'Ensino Medio Completo','F':'Superior Completo','G':'Pos-Graduacao', 'H': 'NI'})\n",
    "enem_ano['Q2'] = enem_ano['Q2'].replace({'A':'Sem Estudo', 'B':'Fundamental Incompleto', 'C':'Fundamental Completo', 'D':'Ensino Medio Incompleto',\n",
    "                                         'E':'Ensino Medio Completo','F':'Superior Completo','G':'Pos-Graduacao', 'H': 'NI'})\n",
    "\n",
    "\n",
    "\n",
    "enem_ano.to_csv(f'Data/enem_{ano}_standard.csv', index=False)"
   ]
  },
  {
   "cell_type": "markdown",
   "id": "68ec3b2f-9f05-44e1-8aa9-f8be52e807df",
   "metadata": {},
   "source": [
    "## 2019 - 2023"
   ]
  },
  {
   "cell_type": "code",
   "execution_count": 59,
   "id": "d38c8e85-3b97-4244-83f8-215520cd0645",
   "metadata": {},
   "outputs": [
    {
     "data": {
      "text/plain": [
       "array(['NU_INSCRICAO', 'NU_ANO', 'TP_FAIXA_ETARIA', 'TP_SEXO',\n",
       "       'TP_ESTADO_CIVIL', 'TP_COR_RACA', 'TP_NACIONALIDADE',\n",
       "       'TP_ST_CONCLUSAO', 'TP_ANO_CONCLUIU', 'TP_ESCOLA', 'TP_ENSINO',\n",
       "       'IN_TREINEIRO', 'CO_MUNICIPIO_ESC', 'NO_MUNICIPIO_ESC',\n",
       "       'CO_UF_ESC', 'SG_UF_ESC', 'TP_DEPENDENCIA_ADM_ESC',\n",
       "       'TP_LOCALIZACAO_ESC', 'TP_SIT_FUNC_ESC', 'CO_MUNICIPIO_PROVA',\n",
       "       'NO_MUNICIPIO_PROVA', 'CO_UF_PROVA', 'SG_UF_PROVA',\n",
       "       'TP_PRESENCA_CN', 'TP_PRESENCA_CH', 'TP_PRESENCA_LC',\n",
       "       'TP_PRESENCA_MT', 'CO_PROVA_CN', 'CO_PROVA_CH', 'CO_PROVA_LC',\n",
       "       'CO_PROVA_MT', 'NU_NOTA_CN', 'NU_NOTA_CH', 'NU_NOTA_LC',\n",
       "       'NU_NOTA_MT', 'TX_RESPOSTAS_CN', 'TX_RESPOSTAS_CH',\n",
       "       'TX_RESPOSTAS_LC', 'TX_RESPOSTAS_MT', 'TP_LINGUA',\n",
       "       'TX_GABARITO_CN', 'TX_GABARITO_CH', 'TX_GABARITO_LC',\n",
       "       'TX_GABARITO_MT', 'TP_STATUS_REDACAO', 'NU_NOTA_COMP1',\n",
       "       'NU_NOTA_COMP2', 'NU_NOTA_COMP3', 'NU_NOTA_COMP4', 'NU_NOTA_COMP5',\n",
       "       'NU_NOTA_REDACAO', 'Q001', 'Q002', 'Q003', 'Q004', 'Q005', 'Q006',\n",
       "       'Q007', 'Q008', 'Q009', 'Q010', 'Q011', 'Q012', 'Q013', 'Q014',\n",
       "       'Q015', 'Q016', 'Q017', 'Q018', 'Q019', 'Q020', 'Q021', 'Q022',\n",
       "       'Q023', 'Q024', 'Q025'], dtype=object)"
      ]
     },
     "execution_count": 59,
     "metadata": {},
     "output_type": "execute_result"
    }
   ],
   "source": [
    "year_list = [str(year) for year in range(2019, 2024)]\n",
    "enem_ano = pd.read_csv(f'Data/enem_{ano}.csv',sep=',',encoding='ISO-8859-1');\n",
    "enem_ano.columns.values"
   ]
  },
  {
   "cell_type": "code",
   "execution_count": 60,
   "id": "7239cae2-4540-4395-befe-0c98ac4ea114",
   "metadata": {},
   "outputs": [
    {
     "name": "stdout",
     "output_type": "stream",
     "text": [
      "STARTING  2019 ------------------------------------------------------------------------------------\n",
      "STARTING  2020 ------------------------------------------------------------------------------------\n",
      "STARTING  2021 ------------------------------------------------------------------------------------\n",
      "STARTING  2022 ------------------------------------------------------------------------------------\n",
      "STARTING  2023 ------------------------------------------------------------------------------------\n"
     ]
    }
   ],
   "source": [
    "year_list = [str(year) for year in range(2019, 2024)]\n",
    "selecionadas_ano = ['NU_INSCRICAO', 'NU_ANO', 'TP_FAIXA_ETARIA', 'TP_SEXO','TP_COR_RACA',\n",
    "       'CO_MUNICIPIO_ESC', 'NO_MUNICIPIO_ESC',\n",
    "        'SG_UF_ESC', 'TP_DEPENDENCIA_ADM_ESC',\n",
    "       'TP_LINGUA',\n",
    "       'NU_NOTA_CN','NU_NOTA_CH','NU_NOTA_LC','NU_NOTA_MT',\n",
    "       'TP_STATUS_REDACAO', 'NU_NOTA_COMP1','NU_NOTA_COMP2', 'NU_NOTA_COMP3',\n",
    "       'NU_NOTA_COMP4', 'NU_NOTA_COMP5',\n",
    "       'NU_NOTA_REDACAO', 'Q001','Q002','Q005','Q006','Q022','Q024','Q025','TP_PRESENCA_MT']\n",
    "\n",
    "for ano in year_list:\n",
    "    print('STARTING ',ano , '------------------------------------------------------------------------------------')\n",
    "    enem_ano = pd.read_csv(f'Data/enem_{ano}.csv',sep=',',encoding='ISO-8859-1', usecols=selecionadas_ano);\n",
    "    enem_ano.rename(columns = {'Q001':'Q1', \n",
    "                               'Q002':'Q2',\n",
    "                               'Q005':'Q5',\n",
    "                               'Q006':'Q6',\n",
    "                               'Q022':'Q22',\n",
    "                               'Q024':'Q24',\n",
    "                               'Q025':'Q25'}, inplace = True)\n",
    "    \n",
    "    # FAZENDO UMA GAMBIARRA AQUI, CRIANDO O TP_PRESENCA A PARTIR DO DADO DO TP_PRESENCA_MT, q é no segundo dia.\n",
    "    enem_ano.rename({'TP_PRESENCA_MT':'TP_PRESENCA'}, axis=1, inplace=True)\n",
    "    \n",
    "    \n",
    "    # CALCULANDO A MEDIA \n",
    "    cn = enem_ano['NU_NOTA_CN']; ch = enem_ano['NU_NOTA_CH']; lc = enem_ano['NU_NOTA_LC'];mt = enem_ano['NU_NOTA_MT'];  \n",
    "    c1 = enem_ano['NU_NOTA_COMP1']; c2 = enem_ano['NU_NOTA_COMP2']; c3 = enem_ano['NU_NOTA_COMP3']; \n",
    "    c4 = enem_ano['NU_NOTA_COMP1']; c5 = enem_ano['NU_NOTA_COMP1']; rd = enem_ano['NU_NOTA_REDACAO']; \n",
    "    enem_ano['NU_NOTA_CN'] = np.where(enem_ano['TP_PRESENCA'] == 0, \"NaN\", cn)\n",
    "    enem_ano['NU_NOTA_CH'] = np.where(enem_ano['TP_PRESENCA'] == 0, \"NaN\", ch)\n",
    "    enem_ano['NU_NOTA_LC'] = np.where(enem_ano['TP_PRESENCA'] == 0, \"NaN\", lc)\n",
    "    enem_ano['NU_NOTA_MT'] = np.where(enem_ano['TP_PRESENCA'] == 0, \"NaN\", mt)\n",
    "    enem_ano['NU_NOTA_COMP1'] = np.where(enem_ano['TP_PRESENCA'] == 0, \"NaN\", c1)\n",
    "    enem_ano['NU_NOTA_COMP2'] = np.where(enem_ano['TP_PRESENCA'] == 0, \"NaN\", c2)\n",
    "    enem_ano['NU_NOTA_COMP3'] = np.where(enem_ano['TP_PRESENCA'] == 0, \"NaN\", c3)\n",
    "    enem_ano['NU_NOTA_COMP4'] = np.where(enem_ano['TP_PRESENCA'] == 0, \"NaN\", c4)\n",
    "    enem_ano['NU_NOTA_COMP5'] = np.where(enem_ano['TP_PRESENCA'] == 0, \"NaN\", c5)\n",
    "    enem_ano['NU_NOTA_REDACAO'] = np.where(enem_ano['TP_PRESENCA'] == 0, \"NaN\", rd)\n",
    "    \n",
    "    #FORCANDO O TIPO DE VARIÁVEL\n",
    "    enem_ano.NU_NOTA_CN = pd.to_numeric(enem_ano.NU_NOTA_CN, errors='coerce')\n",
    "    enem_ano.NU_NOTA_CH = pd.to_numeric(enem_ano.NU_NOTA_CH, errors='coerce')\n",
    "    enem_ano.NU_NOTA_LC = pd.to_numeric(enem_ano.NU_NOTA_LC, errors='coerce')\n",
    "    enem_ano.NU_NOTA_MT = pd.to_numeric(enem_ano.NU_NOTA_MT, errors='coerce')\n",
    "    enem_ano.NU_NOTA_COMP1 = pd.to_numeric(enem_ano.NU_NOTA_COMP1, errors='coerce')\n",
    "    enem_ano.NU_NOTA_COMP2 = pd.to_numeric(enem_ano.NU_NOTA_COMP2, errors='coerce')\n",
    "    enem_ano.NU_NOTA_COMP3 = pd.to_numeric(enem_ano.NU_NOTA_COMP3, errors='coerce')\n",
    "    enem_ano.NU_NOTA_COMP4 = pd.to_numeric(enem_ano.NU_NOTA_COMP4, errors='coerce')\n",
    "    enem_ano.NU_NOTA_COMP5 = pd.to_numeric(enem_ano.NU_NOTA_COMP5, errors='coerce')\n",
    "    enem_ano.NU_NOTA_REDACAO = pd.to_numeric(enem_ano.NU_NOTA_REDACAO, errors='coerce')\n",
    "    \n",
    "    enem_ano[\"NU_NOTA_OBJETIVA\"] = enem_ano[['NU_NOTA_CN','NU_NOTA_CH','NU_NOTA_LC', 'NU_NOTA_MT']].mean(axis=1)\n",
    "\n",
    "    enem_ano['Q1'] = enem_ano['Q1'].replace({'A':'Sem Estudo', 'B':'Fundamental Incompleto', 'C':'Fundamental Completo', 'D':'Ensino Medio Incompleto',\n",
    "                                            'E':'Ensino Medio Completo','F':'Superior Completo','G':'Pos-Graduacao', 'H': 'NI'})\n",
    "    enem_ano['Q2'] = enem_ano['Q2'].replace({'A':'Sem Estudo', 'B':'Fundamental Incompleto', 'C':'Fundamental Completo', 'D':'Ensino Medio Incompleto',\n",
    "                                             'E':'Ensino Medio Completo','F':'Superior Completo','G':'Pos-Graduacao', 'H': 'NI'})\n",
    "\n",
    "    enem_ano.to_csv(f'Data/enem_{ano}_standard.csv', index=False)"
   ]
  },
  {
   "cell_type": "markdown",
   "id": "0340947a-5a73-4fa1-9052-a3943cf2906f",
   "metadata": {},
   "source": [
    "## MERGE ALL DATA\n"
   ]
  },
  {
   "cell_type": "code",
   "execution_count": 61,
   "id": "52d1f727-86f7-41f3-95cf-40aa4ea78e65",
   "metadata": {},
   "outputs": [],
   "source": [
    "import glob\n",
    "import os\n",
    "\n",
    "# Caminho da pasta onde estão os CSVs\n",
    "pasta_dados = 'Data/'  # ajuste se necessário\n",
    "\n",
    "# Padrão para buscar apenas arquivos que terminem com '_standard.csv'\n",
    "arquivos = glob.glob(os.path.join(pasta_dados, 'enem_*_standard.csv'))\n",
    "\n",
    "# Lista para armazenar os DataFrames\n",
    "lista_df = []\n",
    "\n",
    "for arquivo in arquivos:\n",
    "    df = pd.read_csv(arquivo, sep=',', encoding='ISO-8859-1')\n",
    "    lista_df.append(df)\n",
    "\n",
    "# Juntar todos os DataFrames\n",
    "df_final = pd.concat(lista_df, ignore_index=True)\n",
    "\n"
   ]
  },
  {
   "cell_type": "markdown",
   "id": "86df71ee-caac-421b-8a7d-fb04ecc82b81",
   "metadata": {},
   "source": [
    "## RENAME FACTORS"
   ]
  },
  {
   "cell_type": "code",
   "execution_count": 62,
   "id": "ea8250c3-ea28-47bd-b39c-57c3de3aac94",
   "metadata": {},
   "outputs": [
    {
     "data": {
      "text/plain": [
       "array(['NU_INSCRICAO', 'NU_ANO', 'TP_FAIXA_ETARIA', 'TP_SEXO',\n",
       "       'CO_MUNICIPIO_ESC', 'NO_MUNICIPIO_ESC', 'CO_UF_ESC', 'SG_UF_ESC',\n",
       "       'TP_DEPENDENCIA_ADM_ESC', 'TP_LOCALIZACAO_ESC', 'TP_PRESENCA',\n",
       "       'NU_NOTA_OBJETIVA', 'TP_STATUS_REDACAO', 'NU_NOTA_COMP1',\n",
       "       'NU_NOTA_COMP2', 'NU_NOTA_COMP3', 'NU_NOTA_COMP4', 'NU_NOTA_COMP5',\n",
       "       'NU_NOTA_REDACAO', 'Q5', 'Q1', 'Q2', 'Q6', 'Q24', 'Q22', 'Q25',\n",
       "       'NU_NOTA_CN', 'NU_NOTA_CH', 'NU_NOTA_LC', 'NU_NOTA_MT',\n",
       "       'TP_COR_RACA', 'TP_LINGUA'], dtype=object)"
      ]
     },
     "execution_count": 62,
     "metadata": {},
     "output_type": "execute_result"
    }
   ],
   "source": [
    "df_final.columns.values"
   ]
  },
  {
   "cell_type": "code",
   "execution_count": 63,
   "id": "01164894-c469-4122-b0fa-e46f74bdab6e",
   "metadata": {},
   "outputs": [
    {
     "data": {
      "text/plain": [
       "array([nan, 'Ensino Medio Completo', 'Superior Completo', 'Pos-Graduacao',\n",
       "       'Fundamental Completo', 'NI', 'Fundamental Incompleto', 'I',\n",
       "       'Sem Estudo', 'Ensino Medio Incompleto', '*', '.'], dtype=object)"
      ]
     },
     "execution_count": 63,
     "metadata": {},
     "output_type": "execute_result"
    }
   ],
   "source": [
    "df_final['Q1'].unique()"
   ]
  },
  {
   "cell_type": "code",
   "execution_count": 64,
   "id": "552e158e-6f37-45d5-8e42-43fb426d3108",
   "metadata": {},
   "outputs": [
    {
     "data": {
      "text/plain": [
       "array([nan, 'Pos-Graduacao', 'NI', 'Superior Completo',\n",
       "       'Ensino Medio Completo', 'Ensino Medio Incompleto', 'Sem Estudo',\n",
       "       'Fundamental Completo', 'Fundamental Incompleto', 'I', '.', '*'],\n",
       "      dtype=object)"
      ]
     },
     "execution_count": 64,
     "metadata": {},
     "output_type": "execute_result"
    }
   ],
   "source": [
    "df_final['Q2'].unique()"
   ]
  },
  {
   "cell_type": "code",
   "execution_count": 65,
   "id": "33672e68-7241-4a84-aca2-4a917de3b8b2",
   "metadata": {},
   "outputs": [
    {
     "data": {
      "text/plain": [
       "array([nan, 'E', 'C', 'F', 'B', 'D', 'A', 'G', '.', '*', 4, 5, 3, 6, 7, 8,\n",
       "       2, 12, 1, 11, 18, 9, 20, 10, 14, 15, 13, 16, 17, 19], dtype=object)"
      ]
     },
     "execution_count": 65,
     "metadata": {},
     "output_type": "execute_result"
    }
   ],
   "source": [
    "df_final['Q5'].unique()"
   ]
  },
  {
   "cell_type": "code",
   "execution_count": 66,
   "id": "04144d42-629f-4c53-b79a-7552f3e8b112",
   "metadata": {},
   "outputs": [
    {
     "data": {
      "text/plain": [
       "array([nan, 'B', 'D', 'E', 'A', 'C', 'H', '.', 'F', 'G', '*', 'J', 'I',\n",
       "       'K', 'P', 'L', 'Q', 'M', 'N', 'O'], dtype=object)"
      ]
     },
     "execution_count": 66,
     "metadata": {},
     "output_type": "execute_result"
    }
   ],
   "source": [
    "df_final['Q6'].unique()"
   ]
  },
  {
   "cell_type": "code",
   "execution_count": 67,
   "id": "5621419a-5bfa-46cf-ba80-e095087d8bdd",
   "metadata": {},
   "outputs": [
    {
     "data": {
      "text/plain": [
       "array([nan, '.', 'C', 'A', 'B', 'D', '*', 'E'], dtype=object)"
      ]
     },
     "execution_count": 67,
     "metadata": {},
     "output_type": "execute_result"
    }
   ],
   "source": [
    "df_final['Q22'].unique()"
   ]
  },
  {
   "cell_type": "code",
   "execution_count": 68,
   "id": "f0de8e09-5d19-4443-9094-7b790836eb10",
   "metadata": {},
   "outputs": [
    {
     "data": {
      "text/plain": [
       "array([nan, '.', 'B', 'A', 'D', 'C', '*', 5, 0, 3, 4, 1, 2, 'E'],\n",
       "      dtype=object)"
      ]
     },
     "execution_count": 68,
     "metadata": {},
     "output_type": "execute_result"
    }
   ],
   "source": [
    "df_final['Q24'].unique()"
   ]
  },
  {
   "cell_type": "code",
   "execution_count": 69,
   "id": "d12f18aa-5b59-46cf-ab8e-479188f72c3b",
   "metadata": {},
   "outputs": [
    {
     "data": {
      "text/plain": [
       "array([nan, '.', 'B', 'A', 'D', 'C', '*', 5, 4, 0, 3, 1, 2], dtype=object)"
      ]
     },
     "execution_count": 69,
     "metadata": {},
     "output_type": "execute_result"
    }
   ],
   "source": [
    "df_final['Q25'].unique()"
   ]
  },
  {
   "cell_type": "code",
   "execution_count": 70,
   "id": "d9f521b3-49e1-4f64-81d1-eeba4baa847f",
   "metadata": {},
   "outputs": [
    {
     "name": "stderr",
     "output_type": "stream",
     "text": [
      "C:\\Users\\maria\\AppData\\Local\\Temp\\ipykernel_19760\\1217594227.py:1: FutureWarning: A value is trying to be set on a copy of a DataFrame or Series through chained assignment using an inplace method.\n",
      "The behavior will change in pandas 3.0. This inplace method will never work because the intermediate object on which we are setting values always behaves as a copy.\n",
      "\n",
      "For example, when doing 'df[col].method(value, inplace=True)', try using 'df.method({col: value}, inplace=True)' or df[col] = df[col].method(value) instead, to perform the operation inplace on the original object.\n",
      "\n",
      "\n",
      "  df_final['Q1'].replace({'I':np.nan,'NI':np.nan,'.': np.nan,'*': np.nan,\n",
      "C:\\Users\\maria\\AppData\\Local\\Temp\\ipykernel_19760\\1217594227.py:1: FutureWarning: Downcasting behavior in `replace` is deprecated and will be removed in a future version. To retain the old behavior, explicitly call `result.infer_objects(copy=False)`. To opt-in to the future behavior, set `pd.set_option('future.no_silent_downcasting', True)`\n",
      "  df_final['Q1'].replace({'I':np.nan,'NI':np.nan,'.': np.nan,'*': np.nan,\n"
     ]
    },
    {
     "data": {
      "text/plain": [
       "array([nan,  4.,  5.,  6.,  2.,  1.,  0.,  3.])"
      ]
     },
     "execution_count": 70,
     "metadata": {},
     "output_type": "execute_result"
    }
   ],
   "source": [
    "df_final['Q1'].replace({'I':np.nan,'NI':np.nan,'.': np.nan,'*': np.nan,\n",
    "                        'Sem Estudo':0,\n",
    "                        'Fundamental Incompleto':1,\n",
    "                        'Fundamental Completo':2,\n",
    "                        'Ensino Medio Incompleto':3,\n",
    "                        'Ensino Medio Completo':4,\n",
    "                        'Superior Completo':5,\n",
    "                        'Pos-Graduacao':6}, inplace=True)\n",
    "df_final['Q1'].unique()"
   ]
  },
  {
   "cell_type": "code",
   "execution_count": 71,
   "id": "4f38157b-c756-4f25-933f-9b2a16abee88",
   "metadata": {},
   "outputs": [
    {
     "name": "stderr",
     "output_type": "stream",
     "text": [
      "C:\\Users\\maria\\AppData\\Local\\Temp\\ipykernel_19760\\313694000.py:1: FutureWarning: A value is trying to be set on a copy of a DataFrame or Series through chained assignment using an inplace method.\n",
      "The behavior will change in pandas 3.0. This inplace method will never work because the intermediate object on which we are setting values always behaves as a copy.\n",
      "\n",
      "For example, when doing 'df[col].method(value, inplace=True)', try using 'df.method({col: value}, inplace=True)' or df[col] = df[col].method(value) instead, to perform the operation inplace on the original object.\n",
      "\n",
      "\n",
      "  df_final['Q2'].replace({'I':np.nan,'NI':np.nan,'.': np.nan,'*': np.nan,\n",
      "C:\\Users\\maria\\AppData\\Local\\Temp\\ipykernel_19760\\313694000.py:1: FutureWarning: Downcasting behavior in `replace` is deprecated and will be removed in a future version. To retain the old behavior, explicitly call `result.infer_objects(copy=False)`. To opt-in to the future behavior, set `pd.set_option('future.no_silent_downcasting', True)`\n",
      "  df_final['Q2'].replace({'I':np.nan,'NI':np.nan,'.': np.nan,'*': np.nan,\n"
     ]
    },
    {
     "data": {
      "text/plain": [
       "array([nan,  6.,  5.,  4.,  3.,  0.,  2.,  1.])"
      ]
     },
     "execution_count": 71,
     "metadata": {},
     "output_type": "execute_result"
    }
   ],
   "source": [
    "df_final['Q2'].replace({'I':np.nan,'NI':np.nan,'.': np.nan,'*': np.nan,\n",
    "                        'Sem Estudo':0,\n",
    "                        'Fundamental Incompleto':1,\n",
    "                        'Fundamental Completo':2,\n",
    "                        'Ensino Medio Incompleto':3,\n",
    "                        'Ensino Medio Completo':4,\n",
    "                        'Superior Completo':5,\n",
    "                        'Pos-Graduacao': 6 }, inplace=True)\n",
    "df_final['Q2'].unique()"
   ]
  },
  {
   "cell_type": "code",
   "execution_count": 72,
   "id": "046e51cd-0490-41c5-b89e-9c120ebbfd60",
   "metadata": {},
   "outputs": [
    {
     "name": "stderr",
     "output_type": "stream",
     "text": [
      "C:\\Users\\maria\\AppData\\Local\\Temp\\ipykernel_19760\\327572505.py:1: FutureWarning: A value is trying to be set on a copy of a DataFrame or Series through chained assignment using an inplace method.\n",
      "The behavior will change in pandas 3.0. This inplace method will never work because the intermediate object on which we are setting values always behaves as a copy.\n",
      "\n",
      "For example, when doing 'df[col].method(value, inplace=True)', try using 'df.method({col: value}, inplace=True)' or df[col] = df[col].method(value) instead, to perform the operation inplace on the original object.\n",
      "\n",
      "\n",
      "  df_final['Q5'].replace({'A':1, 'B':2, 'C':3, 'D':4, 'E':5, 'F':6, 'G':np.nan,\n",
      "C:\\Users\\maria\\AppData\\Local\\Temp\\ipykernel_19760\\327572505.py:1: FutureWarning: Downcasting behavior in `replace` is deprecated and will be removed in a future version. To retain the old behavior, explicitly call `result.infer_objects(copy=False)`. To opt-in to the future behavior, set `pd.set_option('future.no_silent_downcasting', True)`\n",
      "  df_final['Q5'].replace({'A':1, 'B':2, 'C':3, 'D':4, 'E':5, 'F':6, 'G':np.nan,\n"
     ]
    },
    {
     "data": {
      "text/plain": [
       "array([nan,  5.,  3.,  6.,  2.,  4.,  1.,  7.,  8., 12., 11., 18.,  9.,\n",
       "       20., 10., 14., 15., 13., 16., 17., 19.])"
      ]
     },
     "execution_count": 72,
     "metadata": {},
     "output_type": "execute_result"
    }
   ],
   "source": [
    "df_final['Q5'].replace({'A':1, 'B':2, 'C':3, 'D':4, 'E':5, 'F':6, 'G':np.nan,                         \n",
    "                        '.': np.nan,'*': np.nan}, inplace=True)\n",
    "df_final['Q5'].unique()"
   ]
  },
  {
   "cell_type": "code",
   "execution_count": 73,
   "id": "bc6c8fd0-ba8a-4a27-8947-4c60ff37ba6e",
   "metadata": {},
   "outputs": [
    {
     "name": "stderr",
     "output_type": "stream",
     "text": [
      "C:\\Users\\maria\\AppData\\Local\\Temp\\ipykernel_19760\\3987357622.py:1: FutureWarning: A value is trying to be set on a copy of a DataFrame or Series through chained assignment using an inplace method.\n",
      "The behavior will change in pandas 3.0. This inplace method will never work because the intermediate object on which we are setting values always behaves as a copy.\n",
      "\n",
      "For example, when doing 'df[col].method(value, inplace=True)', try using 'df.method({col: value}, inplace=True)' or df[col] = df[col].method(value) instead, to perform the operation inplace on the original object.\n",
      "\n",
      "\n",
      "  df_final['Q6'].replace({\n",
      "C:\\Users\\maria\\AppData\\Local\\Temp\\ipykernel_19760\\3987357622.py:1: FutureWarning: Downcasting behavior in `replace` is deprecated and will be removed in a future version. To retain the old behavior, explicitly call `result.infer_objects(copy=False)`. To opt-in to the future behavior, set `pd.set_option('future.no_silent_downcasting', True)`\n",
      "  df_final['Q6'].replace({\n"
     ]
    },
    {
     "data": {
      "text/plain": [
       "array([ nan,  1. ,  2. ,  2.5,  0. ,  1.5,  4. ,  3. ,  3.5,  5. ,  4.5,\n",
       "        6. , 15. ,  7. , 20. ,  8. ,  9. , 10. ])"
      ]
     },
     "execution_count": 73,
     "metadata": {},
     "output_type": "execute_result"
    }
   ],
   "source": [
    "df_final['Q6'].replace({\n",
    "    'A':0,'B':1,'C':1.5,'D':2,'E':2.5,'F':3,'G':3.5,'H':4,\n",
    "                         'I':4.5,'J':5,'K':6,'L':7,'M':8,\n",
    "                         'N':9,'O':10,'P':15,'Q': 20,\n",
    "                        '.': np.nan,\n",
    "                        '*': np.nan}, \n",
    "    inplace=True)\n",
    "df_final['Q6'].unique()"
   ]
  },
  {
   "cell_type": "code",
   "execution_count": 75,
   "id": "40251830-f420-448e-9d95-619586e0abfb",
   "metadata": {},
   "outputs": [
    {
     "name": "stderr",
     "output_type": "stream",
     "text": [
      "C:\\Users\\maria\\AppData\\Local\\Temp\\ipykernel_19760\\2278939461.py:10: FutureWarning: A value is trying to be set on a copy of a DataFrame or Series through chained assignment using an inplace method.\n",
      "The behavior will change in pandas 3.0. This inplace method will never work because the intermediate object on which we are setting values always behaves as a copy.\n",
      "\n",
      "For example, when doing 'df[col].method(value, inplace=True)', try using 'df.method({col: value}, inplace=True)' or df[col] = df[col].method(value) instead, to perform the operation inplace on the original object.\n",
      "\n",
      "\n",
      "  df_final['Celular'].replace({'A':0,'B':1,'C':1,'D':1,'E':1}, inplace=True)\n",
      "C:\\Users\\maria\\AppData\\Local\\Temp\\ipykernel_19760\\2278939461.py:11: FutureWarning: A value is trying to be set on a copy of a DataFrame or Series through chained assignment using an inplace method.\n",
      "The behavior will change in pandas 3.0. This inplace method will never work because the intermediate object on which we are setting values always behaves as a copy.\n",
      "\n",
      "For example, when doing 'df[col].method(value, inplace=True)', try using 'df.method({col: value}, inplace=True)' or df[col] = df[col].method(value) instead, to perform the operation inplace on the original object.\n",
      "\n",
      "\n",
      "  df_final['Computador'].replace({'A':0,'B':1,'C':1,'D':1,'E':1, 'F':1, 2.0:1,3.0:1,4.0:1,5.0:1, 0.0:0, '1':1,'0':0,'0.0':0,\n",
      "C:\\Users\\maria\\AppData\\Local\\Temp\\ipykernel_19760\\2278939461.py:13: FutureWarning: A value is trying to be set on a copy of a DataFrame or Series through chained assignment using an inplace method.\n",
      "The behavior will change in pandas 3.0. This inplace method will never work because the intermediate object on which we are setting values always behaves as a copy.\n",
      "\n",
      "For example, when doing 'df[col].method(value, inplace=True)', try using 'df.method({col: value}, inplace=True)' or df[col] = df[col].method(value) instead, to perform the operation inplace on the original object.\n",
      "\n",
      "\n",
      "  df_final['Internet'].replace({'A':0,'B':1,'C':1,'D':1, 2.0:1,3.0:1,4.0:1,5.0:1}, inplace=True)\n",
      "C:\\Users\\maria\\AppData\\Local\\Temp\\ipykernel_19760\\2278939461.py:14: FutureWarning: A value is trying to be set on a copy of a DataFrame or Series through chained assignment using an inplace method.\n",
      "The behavior will change in pandas 3.0. This inplace method will never work because the intermediate object on which we are setting values always behaves as a copy.\n",
      "\n",
      "For example, when doing 'df[col].method(value, inplace=True)', try using 'df.method({col: value}, inplace=True)' or df[col] = df[col].method(value) instead, to perform the operation inplace on the original object.\n",
      "\n",
      "\n",
      "  df_final['TP_SEXO'].replace({'M':1,'F':0}, inplace=True)\n",
      "C:\\Users\\maria\\AppData\\Local\\Temp\\ipykernel_19760\\2278939461.py:14: FutureWarning: Downcasting behavior in `replace` is deprecated and will be removed in a future version. To retain the old behavior, explicitly call `result.infer_objects(copy=False)`. To opt-in to the future behavior, set `pd.set_option('future.no_silent_downcasting', True)`\n",
      "  df_final['TP_SEXO'].replace({'M':1,'F':0}, inplace=True)\n"
     ]
    }
   ],
   "source": [
    "df_final.rename(columns = {'Q1': 'Escolaridade_Pai',\n",
    "                           'Q2':'Escolaridade_Mae',\n",
    "                           'Q5':'NPessoas',\n",
    "                           'Q6':'Renda',\n",
    "                           'Q22':'Celular',\n",
    "                           'Q24': 'Computador',\n",
    "                           'Q25':'Internet'}, \n",
    "                inplace = True)\n",
    "\n",
    "df_final['Celular'].replace({'A':0,'B':1,'C':1,'D':1,'E':1}, inplace=True)\n",
    "df_final['Computador'].replace({'A':0,'B':1,'C':1,'D':1,'E':1, 'F':1, 2.0:1,3.0:1,4.0:1,5.0:1, 0.0:0, '1':1,'0':0,'0.0':0, \n",
    "                          '2':1,'3':1,'4':1,'5':1}, inplace=True)\n",
    "df_final['Internet'].replace({'A':0,'B':1,'C':1,'D':1, 2.0:1,3.0:1,4.0:1,5.0:1}, inplace=True)\n",
    "df_final['TP_SEXO'].replace({'M':1,'F':0}, inplace=True)"
   ]
  },
  {
   "cell_type": "code",
   "execution_count": 76,
   "id": "26e47c71-9d88-463a-bde8-7d21f78ce206",
   "metadata": {},
   "outputs": [
    {
     "name": "stdout",
     "output_type": "stream",
     "text": [
      "   NU_INSCRICAO  NU_ANO  TP_FAIXA_ETARIA  TP_SEXO  CO_MUNICIPIO_ESC  \\\n",
      "0          1721    2003                3      0.0         2507507.0   \n",
      "1          1722    2003                2      0.0         2507507.0   \n",
      "2          3628    2003                3      1.0         2507507.0   \n",
      "3          3629    2003                2      0.0         2507507.0   \n",
      "4          3630    2003                2      0.0         2507507.0   \n",
      "\n",
      "  NO_MUNICIPIO_ESC  CO_UF_ESC SG_UF_ESC  TP_DEPENDENCIA_ADM_ESC  \\\n",
      "0      JOAO PESSOA       25.0        PB                     4.0   \n",
      "1      JOAO PESSOA       25.0        PB                     4.0   \n",
      "2      JOAO PESSOA       25.0        PB                     4.0   \n",
      "3      JOAO PESSOA       25.0        PB                     4.0   \n",
      "4      JOAO PESSOA       25.0        PB                     4.0   \n",
      "\n",
      "   TP_LOCALIZACAO_ESC  TP_PRESENCA  NU_NOTA_OBJETIVA TP_STATUS_REDACAO  \\\n",
      "0                 1.0          0.0               NaN                 F   \n",
      "1                 1.0          1.0             698.4                 P   \n",
      "2                 1.0          0.0               NaN                 F   \n",
      "3                 1.0          1.0             650.8                 P   \n",
      "4                 1.0          1.0             698.4                 P   \n",
      "\n",
      "   NU_NOTA_COMP1  NU_NOTA_COMP2  NU_NOTA_COMP3  NU_NOTA_COMP4  NU_NOTA_COMP5  \\\n",
      "0            NaN            NaN            NaN            NaN            NaN   \n",
      "1          875.0          875.0          625.0          875.0          875.0   \n",
      "2            NaN            NaN            NaN            NaN            NaN   \n",
      "3          750.0          500.0          500.0          750.0          750.0   \n",
      "4         1000.0          875.0          750.0         1000.0         1000.0   \n",
      "\n",
      "   NU_NOTA_REDACAO  NPessoas  Escolaridade_Pai  Escolaridade_Mae  Renda  \\\n",
      "0              NaN       NaN               NaN               NaN    NaN   \n",
      "1            750.0       5.0               4.0               6.0    1.0   \n",
      "2              NaN       NaN               NaN               NaN    NaN   \n",
      "3            550.0       3.0               5.0               NaN    2.0   \n",
      "4            900.0       3.0               4.0               6.0    2.5   \n",
      "\n",
      "  Computador Celular Internet  NU_NOTA_CN  NU_NOTA_CH  NU_NOTA_LC  NU_NOTA_MT  \\\n",
      "0        NaN     NaN      NaN         NaN         NaN         NaN         NaN   \n",
      "1          .       .        .         NaN         NaN         NaN         NaN   \n",
      "2        NaN     NaN      NaN         NaN         NaN         NaN         NaN   \n",
      "3          1       1        1         NaN         NaN         NaN         NaN   \n",
      "4          0       1        0         NaN         NaN         NaN         NaN   \n",
      "\n",
      "   TP_COR_RACA  TP_LINGUA  \n",
      "0          NaN        NaN  \n",
      "1          NaN        NaN  \n",
      "2          NaN        NaN  \n",
      "3          NaN        NaN  \n",
      "4          NaN        NaN  \n"
     ]
    }
   ],
   "source": [
    "pd.set_option('display.max_columns', None)\n",
    "\n",
    "# Agora imprime\n",
    "print(df_final.head())"
   ]
  },
  {
   "cell_type": "code",
   "execution_count": 79,
   "id": "a58680d4-6415-4c52-9b16-023c1d412f4e",
   "metadata": {},
   "outputs": [
    {
     "name": "stdout",
     "output_type": "stream",
     "text": [
      "Arquivo final salvo em 'Data/enem_todos_os_anos.csv'\n"
     ]
    }
   ],
   "source": [
    "# Salvar no CSV final\n",
    "df_final.to_csv('Data/enem_todos_os_anos.csv', sep=',', index=False, encoding='utf-8')\n",
    "print(\"Arquivo final salvo em 'Data/enem_todos_os_anos.csv'\")"
   ]
  }
 ],
 "metadata": {
  "kernelspec": {
   "display_name": "venv",
   "language": "python",
   "name": "python3"
  },
  "language_info": {
   "codemirror_mode": {
    "name": "ipython",
    "version": 3
   },
   "file_extension": ".py",
   "mimetype": "text/x-python",
   "name": "python",
   "nbconvert_exporter": "python",
   "pygments_lexer": "ipython3",
   "version": "3.10.11"
  }
 },
 "nbformat": 4,
 "nbformat_minor": 5
}
